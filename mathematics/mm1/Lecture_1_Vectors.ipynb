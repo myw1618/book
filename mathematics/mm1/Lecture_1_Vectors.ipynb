{
 "cells": [
  {
   "cell_type": "code",
   "execution_count": null,
   "metadata": {},
   "outputs": [],
   "source": [
    "## This cell just imports necessary modules\n",
    "%pylab notebook"
   ]
  },
  {
   "cell_type": "markdown",
   "metadata": {},
   "source": [
    "# Lecture 1 (Vectors)\n",
    "\n",
    "This notebook will illustrate how to apply the maths discussed in the lecture using Python.\n",
    "\n",
    "In these notebooks, we will adopt the following prefix convention when naming variables:\n",
    "\n",
    "```\n",
    "'s' (e.g. sDotProduct) means the variable is a scalar\n",
    "'v' (e.g. vCrossProduct) means the variable is a vector\n",
    "'m' (e.g. mA) means the variable is a matrix\n",
    "```"
   ]
  },
  {
   "cell_type": "code",
   "execution_count": null,
   "metadata": {},
   "outputs": [],
   "source": [
    "# Let's define two vectors, by listing their components\n",
    "vA = [1, 2, 1]\n",
    "vB = [-1, 1, 0]\n",
    "\n",
    "# Convert vA and vB from a list to an array so we can use numpy \n",
    "# to perform vector operations on them.\n",
    "vA = numpy.array(vA)\n",
    "vB = numpy.array(vB)"
   ]
  },
  {
   "cell_type": "code",
   "execution_count": null,
   "metadata": {},
   "outputs": [],
   "source": [
    "###### NULL VECTOR ######\n",
    "###### Lecture 1, slide 9 ######\n",
    "# vNull is the null vector (a vector of all zeros,\n",
    "# created using the zeros function)\n",
    "vNull = numpy.zeros(3)\n",
    "print(\"The null vector is: \", vNull)"
   ]
  },
  {
   "cell_type": "code",
   "execution_count": null,
   "metadata": {},
   "outputs": [],
   "source": [
    "###### VECTOR EQUALITY ######\n",
    "###### Lecture 1, slide 9 ######\n",
    "# Here we compare vectors vA and vB. This is done element-by-element.\n",
    "# The .all() function allows us to check that the elements of vA.\n",
    "# are ALL equal to those of vB. In other words, vA[i] == vB[i] for i = 1, 2, 3\n",
    "if(numpy.equal(vA,vB).all()):\n",
    "   print(\"Vectors vA and vB are equal\")\n",
    "else:\n",
    "   print(\"Vectors vA and vB are NOT equal\")"
   ]
  },
  {
   "cell_type": "code",
   "execution_count": null,
   "metadata": {},
   "outputs": [],
   "source": [
    "###### MULTIPLICATION OF A VECTOR BY A SCALAR ######\n",
    "###### Lecture 1, slide 9 ######\n",
    "print(\"2*vA = \", 2*vA)\n",
    "print(\"10*vB = \", 10*vB)"
   ]
  },
  {
   "cell_type": "code",
   "execution_count": null,
   "metadata": {},
   "outputs": [],
   "source": [
    "###### VECTOR ADDITION AND SUBTRACTION ######\n",
    "###### Lecture 1, slide 10 ######\n",
    "print(\"vA + vB = \", vA + vB)\n",
    "print(\"vA - vB = \", vA - vB)"
   ]
  },
  {
   "cell_type": "code",
   "execution_count": null,
   "metadata": {},
   "outputs": [],
   "source": [
    "###### VECTOR MAGNITUDE ######\n",
    "###### Lecture 1, slide 7 ######\n",
    "# Compute the magnitude (aka Euclidean/L2 norm) of vectors vA and vB (to 3 significant figures)\n",
    "# There are many ways to do this in Python. Try using the sqrt and .dot functions (see below)\n",
    "# to achieve the same result.\n",
    "sMagnitude_vA = numpy.linalg.norm(vA, ord=2)\n",
    "sMagnitude_vB = numpy.linalg.norm(vB, ord=2)\n",
    "print(\"Magnitude of vector vA is %.3f\" % sMagnitude_vA)\n",
    "print(\"Magnitude of vector vB is %.3f\" % sMagnitude_vB)"
   ]
  },
  {
   "cell_type": "code",
   "execution_count": null,
   "metadata": {},
   "outputs": [],
   "source": [
    "###### DOT PRODUCT ######\n",
    "###### Lecture 1, slide 15 ######\n",
    "# Remember: the dot product of two vectors always returns a scalar\n",
    "sDotProduct_vAvB = numpy.dot(vA,vB)\n",
    "print(\"The dot product of vA and vB is %.3f\" % sDotProduct_vAvB)"
   ]
  },
  {
   "cell_type": "code",
   "execution_count": null,
   "metadata": {},
   "outputs": [],
   "source": [
    "###### ANGLE BETWEEN TWO VECTORS ######\n",
    "###### Lecture 1, slide 18 ######\n",
    "# NOTE: arccos is the same as inverse cos\n",
    "sTheta = numpy.arccos(sDotProduct_vAvB/(sMagnitude_vA*sMagnitude_vB))\n",
    "print(\"The angle between vA and vB is %.3f radians (or %.3f degrees)\" \n",
    "      % (sTheta, sTheta*(180/pi)))\n"
   ]
  },
  {
   "cell_type": "code",
   "execution_count": null,
   "metadata": {},
   "outputs": [],
   "source": [
    "###### CROSS PRODUCT ######\n",
    "###### Lecture 1, slide 19 ######\n",
    "# Remember: the cross product of two vectors always returns another vector\n",
    "print(\"The cross product of vA and vB is \", numpy.cross(vA,vB))"
   ]
  },
  {
   "cell_type": "code",
   "execution_count": null,
   "metadata": {},
   "outputs": [],
   "source": [
    "# Alternatively, we could compute determinants as in slide 22\n",
    "# Remember: in Python, array indices always start from zero,\n",
    "# so the x, y and z components have an index of 0, 1 and 2 respectively.\n",
    "vCrossProduct = [ numpy.linalg.det([[vA[1], vA[2]],\n",
    "                                [vB[1], vB[2]]]), \n",
    "                         \n",
    "              numpy.linalg.det([[vA[0], vA[2]],\n",
    "                                [vB[0], vB[2]]]), \n",
    "              \n",
    "              numpy.linalg.det([[vA[0], vA[1]],\n",
    "                                [vB[0], vB[1]]]) ]\n",
    "print(\"The cross product of vA and vB is \", vCrossProduct)"
   ]
  }
 ],
 "metadata": {
  "hide_input": false,
  "kernelspec": {
   "display_name": "Python 3",
   "language": "python",
   "name": "python3"
  },
  "language_info": {
   "codemirror_mode": {
    "name": "ipython",
    "version": 3
   },
   "file_extension": ".py",
   "mimetype": "text/x-python",
   "name": "python",
   "nbconvert_exporter": "python",
   "pygments_lexer": "ipython3",
   "version": "3.7.5"
  },
  "toc": {
   "base_numbering": 1,
   "nav_menu": {},
   "number_sections": true,
   "sideBar": true,
   "skip_h1_title": false,
   "title_cell": "Table of Contents",
   "title_sidebar": "Contents",
   "toc_cell": false,
   "toc_position": {},
   "toc_section_display": true,
   "toc_window_display": false
  }
 },
 "nbformat": 4,
 "nbformat_minor": 2
}
