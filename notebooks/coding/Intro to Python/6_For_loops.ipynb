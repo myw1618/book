{
 "cells": [
  {
   "cell_type": "markdown",
   "metadata": {},
   "source": [
    "(for_loops)=\n",
    "# For loops\n",
    "``` {index} Loops: for loop\n",
    "```\n",
    "_For_ loops are used to iterate over elements in a list (or any other iterable structure). Iterating means looping over. The syntax for this type of loop is:\n",
    "\n",
    "    for element in list:\n",
    "        # lines of code to be executed\n",
    "        # more lines of code to be executed\n",
    "        \n",
    "The code will loop over all elements in the list and execute the same code for each of them. The code inside _for_ loop needs to be indented. For example:"
   ]
  },
  {
   "cell_type": "code",
   "execution_count": 1,
   "metadata": {},
   "outputs": [],
   "source": [
    "my_list = [1, 3, 5, 7, 9, 11]\n",
    "print(my_list)\n",
    "\n",
    "# For each element in my_list, add 5 and print it\n",
    "\n",
    "for element in my_list:\n",
    "    element = element + 5\n",
    "    print(element)\n",
    "\n",
    "print(my_list) # The original list does not change"
   ]
  },
  {
   "cell_type": "markdown",
   "metadata": {},
   "source": [
    "Apart from looping over elements, _for_ loops can be created for specified number of iterations using the _range()_ function. The syntax for _range()_ is:\n",
    "\n",
    "    range([start], stop, [step])\n",
    "    \n",
    "This generates sort of a list with elements between start and stop, excluding stop. If step (increment) is not provided, every number is generated. If you use only one argument, _range(5)_ treats it as a stop value and it starts from 0."
   ]
  },
  {
   "cell_type": "code",
   "execution_count": 2,
   "metadata": {},
   "outputs": [
    {
     "name": "stdout",
     "output_type": "stream",
     "text": [
      "range(0, 6, 1)\n",
      "0\n",
      "1\n",
      "2\n",
      "3\n",
      "4\n",
      "5\n",
      "\n",
      "range(0, 6, 2)\n",
      "0\n",
      "2\n",
      "4\n",
      "\n",
      "range(0, 6)\n",
      "0\n",
      "1\n",
      "2\n",
      "3\n",
      "4\n",
      "5\n",
      "\n",
      "range(6)\n",
      "0\n",
      "1\n",
      "2\n",
      "3\n",
      "4\n",
      "5\n"
     ]
    }
   ],
   "source": [
    "print(\"range(0, 6, 1)\")\n",
    "\n",
    "for i in range(0, 6, 1):\n",
    "    print(i)\n",
    "\n",
    "    \n",
    "print(\"\\nrange(0, 6, 2)\")\n",
    "\n",
    "for i in range(0, 6, 2):\n",
    "    print(i)\n",
    "    \n",
    "print(\"\\nrange(0, 6)\")\n",
    "\n",
    "for i in range(0, 6):\n",
    "    print(i)\n",
    "    \n",
    "print(\"\\nrange(6)\")\n",
    "\n",
    "for i in range(6):\n",
    "    print(i)\n",
    "    "
   ]
  },
  {
   "cell_type": "markdown",
   "metadata": {},
   "source": [
    "We can generate an index with _range()_ function to loop over elements in a list:"
   ]
  },
  {
   "cell_type": "code",
   "execution_count": 3,
   "metadata": {},
   "outputs": [
    {
     "name": "stdout",
     "output_type": "stream",
     "text": [
      "[1, 3, 5, 7, 9, 11]\n",
      "[2, 6, 10, 14, 18, 22]\n"
     ]
    }
   ],
   "source": [
    "my_list = [1, 3, 5, 7, 9, 11]\n",
    "print(my_list)\n",
    "\n",
    "for i in range(len(my_list)): # Range from 0 to length of list\n",
    "    my_list[i] *= 2 # Modify values in the list\n",
    "    \n",
    "print(my_list)    "
   ]
  },
  {
   "cell_type": "markdown",
   "metadata": {},
   "source": [
    "(for_loop_exercises)=\n",
    "## Exercises\n",
    "_____________\n",
    "\n",
    "* **Create a _for_ loop** to find Celsius temperatures for Fahrenheit temperatures between 20\\\\(^\\circ\\\\)F and 80\\\\(^\\circ\\\\)F at 5\\\\(^\\circ\\\\)F increments. The Fahrenheit-Celsius conversion formula is:\n",
    "\n",
    "$$ T_{Celsius} = \\frac{5}{9}*(T_{Fahrenheit}-32)$$"
   ]
  },
  {
   "cell_type": "markdown",
   "metadata": {},
   "source": [
    "```{admonition} Anwser\n",
    ":class: dropdown\n",
    "\n",
    "    for temp_F in range(20, 81, 5):\n",
    "    \n",
    "        # Calculate the temperature in Celsius\n",
    "        temp_C = 5./9.*(temp_F - 32)\n",
    "\n",
    "        # Make a nicely formatted print statement\n",
    "        print(\"%.2f degrees Fahrenheit is %.2f degrees Celsius.\" % (temp_F, temp_C))\n",
    "```"
   ]
  },
  {
   "cell_type": "markdown",
   "metadata": {},
   "source": [
    "_____________\n",
    "* **Triangles**: We want to create a triangle of numbers which looks as follows (for any given final integer \\\\(n\\\\)):\n",
    "\n",
    "        1\n",
    "        1 2\n",
    "        1 2 3\n",
    "        1 2 3 4 \n",
    "        1 2 3 4 5\n",
    "        \n",
    "**HINT**: Consider iteratng over a range \\\\([1,...n]\\\\)"
   ]
  },
  {
   "cell_type": "markdown",
   "metadata": {},
   "source": [
    "```{admonition} Anwser\n",
    ":class: dropdown\n",
    "\n",
    "    n = 10\n",
    "    l =[]   \n",
    "    for i in range(1,n + 1):\n",
    "    \n",
    "        line =''\n",
    "        for j in range(1,i+1):\n",
    "\n",
    "            line += str(j) + \" \"\n",
    "\n",
    "        print(line)\n",
    "```"
   ]
  }
 ],
 "metadata": {
  "kernelspec": {
   "display_name": "Python 3",
   "language": "python",
   "name": "python3"
  },
  "language_info": {
   "codemirror_mode": {
    "name": "ipython",
    "version": 3
   },
   "file_extension": ".py",
   "mimetype": "text/x-python",
   "name": "python",
   "nbconvert_exporter": "python",
   "pygments_lexer": "ipython3",
   "version": "3.7.4"
  }
 },
 "nbformat": 4,
 "nbformat_minor": 2
}
