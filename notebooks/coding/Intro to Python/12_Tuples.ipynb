{
 "cells": [
  {
   "cell_type": "markdown",
   "metadata": {},
   "source": [
    "(tuples)=\n",
    "# Tuples\n",
    "``` {index} Tuples\n",
    "```\n",
    "Tuples are constant lists. They can be used like lists to store data but they cannot be modified (they are immutable). They are used for storing multiple values from functions. They are created like lists, but with round brackets:\n",
    "\n",
    "    tuple1 = (variable1, variable2, variable3)\n",
    "   \n",
    "Tuples can have as many elements as you want and they don't have to be of the same type. Tuples are used, for example, in string formatting syntax:\n",
    "    \n",
    "    print(\"text %g, %g\" % (no1, no2)) # (no1, no2) is a tuple\n",
    "    \n",
    "For functions that return multiple values, values from tuples can be extracted with this syntax:\n",
    "\n",
    "    value1, value2 = function1(some_variable)"
   ]
  },
  {
   "cell_type": "code",
   "execution_count": 1,
   "metadata": {},
   "outputs": [
    {
     "name": "stdout",
     "output_type": "stream",
     "text": [
      "temp.pdf\n"
     ]
    }
   ],
   "source": [
    "t = (2, 4, 6, 'temp.pdf')   # Create a tuple.\n",
    "t =  2, 4, 6, 'temp.pdf'    # Create a tuple, without bracket\n",
    "\n",
    "print(t[3])                 # Indexing as usual"
   ]
  },
  {
   "cell_type": "markdown",
   "metadata": {},
   "source": [
    "What is the purpose of tuples, when lists have more functionality?\n",
    "- Tuples cannot be modified, even by accident.\n",
    "- They are faster than lists.\n",
    "- Widely used in Python.\n",
    "- Can be used as keys in dictionaries, while lists can't."
   ]
  }
 ],
 "metadata": {
  "kernelspec": {
   "display_name": "Python 3",
   "language": "python",
   "name": "python3"
  },
  "language_info": {
   "codemirror_mode": {
    "name": "ipython",
    "version": 3
   },
   "file_extension": ".py",
   "mimetype": "text/x-python",
   "name": "python",
   "nbconvert_exporter": "python",
   "pygments_lexer": "ipython3",
   "version": "3.7.3"
  }
 },
 "nbformat": 4,
 "nbformat_minor": 2
}
