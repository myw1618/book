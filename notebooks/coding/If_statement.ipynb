{
 "cells": [
  {
   "cell_type": "markdown",
   "metadata": {},
   "source": [
    "# _If_ construct\n",
    "\n",
    "_If_ construct allows to create cases in the code based on conditions:\n",
    "\n",
    "    if boolean:\n",
    "        # Executue some code if boolean is True\n",
    "    elif boolean2:\n",
    "        # Execute some code only if boolean is False and boolean2 is True\n",
    "    else:\n",
    "        # Execute some code only if boolean is False and boolean2 is False\n",
    "        \n",
    "_elif_ and _else_ are optional blocks. Code inside each block needs to be indented.\n",
    "\n",
    "## Example use:"
   ]
  },
  {
   "cell_type": "code",
   "execution_count": 1,
   "metadata": {},
   "outputs": [
    {
     "name": "stdout",
     "output_type": "stream",
     "text": [
      "10 is less than 12.\n",
      "0\n"
     ]
    }
   ],
   "source": [
    "number = 10\n",
    "\n",
    "if number < 5:\n",
    "    print(\"%g is less than 5.\" % (number))\n",
    "elif number < 12:\n",
    "    print(\"%g is less than 12.\" % (number))\n",
    "else:\n",
    "    print(\"%g is greater or equal to 12.\" % (number))\n",
    "    \n",
    "# If statements in one line\n",
    "a = 1 if number == 5 else 0\n",
    "print(a)"
   ]
  }
 ],
 "metadata": {
  "kernelspec": {
   "display_name": "Python 3",
   "language": "python",
   "name": "python3"
  },
  "language_info": {
   "codemirror_mode": {
    "name": "ipython",
    "version": 3
   },
   "file_extension": ".py",
   "mimetype": "text/x-python",
   "name": "python",
   "nbconvert_exporter": "python",
   "pygments_lexer": "ipython3",
   "version": "3.7.3"
  }
 },
 "nbformat": 4,
 "nbformat_minor": 2
}
