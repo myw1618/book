{
 "cells": [
  {
   "cell_type": "markdown",
   "metadata": {},
   "source": [
    "# File handling in Python\n",
    "\n",
    "Suppose we have a text file like below, from which we would like to extract temperature and density data:\n",
    "\n",
    "$$\n",
    "# Density of air at different temperatures, at 1 atm pressure\n",
    "# Column 1: temperature in Celsius degrees\n",
    "# Column 2: density in kg/m^3\n",
    "  0.0   999.8425\n",
    "  4.0   999.9750\n",
    " 15.0   999.1026\n",
    " 20.0   998.2071\n",
    " 25.0   997.0479\n",
    " 37.0   993.3316\n",
    " 50.0   988.04\n",
    "100.0   958.3665\n",
    "# Source: Wikipedia (keyword Density)\n",
    "$$\n",
    "\n",
    "## Python\n",
    "\n",
    "It is usually best to read and write files using the **with statement** which will improve our syntax and do a lot of things automatically for us (like closing the file we opened).\n",
    "\n",
    "Our file contains 3 lines at the beginning and 1 line at the end which we do not want to extract. Additionally, the temperature and density values are separated by whitespaces. Here is an example of how we could extract the data into two arrays:"
   ]
  },
  {
   "cell_type": "code",
   "execution_count": 33,
   "metadata": {},
   "outputs": [
    {
     "name": "stdout",
     "output_type": "stream",
     "text": [
      "[  0.   4.  15.  20.  25.  37.  50. 100.]\n",
      "[999.8425 999.975  999.1026 998.2071 997.0479 993.3316 988.04   958.3665]\n"
     ]
    }
   ],
   "source": [
    "with open('density_water.dat', 'r') as file:  # r for read\n",
    "    # skip extra lines by taking a slice of the file\n",
    "    data = file.readlines()[3:-1]\n",
    "        \n",
    "    # initialise 2 empty arrays to store our data\n",
    "    temp, density = np.zeros(len(data)), np.zeros(len(data))\n",
    "    \n",
    "    for i in range(len(data)):\n",
    "        values = data[i].split()\n",
    "        temp[i] = float(values[0])\n",
    "        density[i] = float(values[1])\n",
    "        \n",
    "print(temp)\n",
    "print(density)"
   ]
  },
  {
   "cell_type": "markdown",
   "metadata": {},
   "source": [
    "The data variable in the above example is a list which contains our lines with numbers, but they are stored as a string - they are not recognised as numbers at this point. Note that the temperature and density arrays are already initialised as arrays of specific length, rather than empty lists which we will then append numbers to. It is good practice to initalise arrays like this when we know exactly how many elements our final array will have. The for loop is used to cycle through all elements of our data list. Each ith element is a string, which we split into a new list with the same number of elements as the number of values that are separated by whitespaces in the line - in our case 2. Finally we can assign those values to elements in the temperature and density arrays, but first we converted them from a string to a float."
   ]
  },
  {
   "cell_type": "code",
   "execution_count": 34,
   "metadata": {},
   "outputs": [],
   "source": [
    "with open('output.txt', 'w') as file:  # w for write\n",
    "    file.write('Hello world!')"
   ]
  },
  {
   "cell_type": "markdown",
   "metadata": {},
   "source": [
    "## NumPy\n",
    "\n",
    "NumPy's [**genfromtxt**](https://numpy.org/doc/1.18/reference/generated/numpy.genfromtxt.html) (generate from text) function provides full control over the file which we are trying to open. It initialises a numpy array from the data. Some of the parameters include:\n",
    "    - dtype: set a data type. If not set, determines the data type automatically for each column\n",
    "    - comments: skips every line starting with a string that is set here. '#' by default.\n",
    "    - skip_header: number of lines to skip at the beginning of the file\n",
    "    - skip_footer: number of lines to skip at the end of the file\n",
    "    - delimiter: the string used to separate values. Any whitespaces, by default.\n",
    "    \n",
    "For our file, we do not have to change anything since comments are marked by a # at the beginning of the line and the values are separated by whitespaces."
   ]
  },
  {
   "cell_type": "code",
   "execution_count": 42,
   "metadata": {},
   "outputs": [
    {
     "name": "stdout",
     "output_type": "stream",
     "text": [
      "[[  0.     999.8425]\n",
      " [  4.     999.975 ]\n",
      " [ 15.     999.1026]\n",
      " [ 20.     998.2071]\n",
      " [ 25.     997.0479]\n",
      " [ 37.     993.3316]\n",
      " [ 50.     988.04  ]\n",
      " [100.     958.3665]]\n"
     ]
    }
   ],
   "source": [
    "import numpy as np\n",
    "\n",
    "data = np.genfromtxt('density_water.dat')\n",
    "print(data)"
   ]
  },
  {
   "cell_type": "markdown",
   "metadata": {},
   "source": [
    "We can save our array to a file in multiple ways - examples below. If we plan on using the array in another python code, perhaps it is best to save it as a .npy file. We can later easily load the .npy file and reconstruct the original array. The reader is encouraged to read about **pickling** in Python, which allows any object in Python to be saved in this way, not only numpy arrays."
   ]
  },
  {
   "cell_type": "code",
   "execution_count": 45,
   "metadata": {},
   "outputs": [
    {
     "name": "stdout",
     "output_type": "stream",
     "text": [
      "[[  0.     999.8425]\n",
      " [  4.     999.975 ]\n",
      " [ 15.     999.1026]\n",
      " [ 20.     998.2071]\n",
      " [ 25.     997.0479]\n",
      " [ 37.     993.3316]\n",
      " [ 50.     988.04  ]\n",
      " [100.     958.3665]]\n"
     ]
    }
   ],
   "source": [
    "np.savetxt('data.txt', data)  # save data array to a text file\n",
    "np.save('data.npy', data)  # save data array to a .npy file\n",
    "\n",
    "A = np.load('data.npy')\n",
    "\n",
    "print(A)"
   ]
  },
  {
   "cell_type": "markdown",
   "metadata": {},
   "source": [
    "## Pandas\n",
    "\n",
    "Despite its name, panda's [**read_csv**](https://pandas.pydata.org/pandas-docs/stable/reference/api/pandas.read_csv.html) can read many different types of files, including our .dat file. Pandas DataFrame is the primary data structure in pandas, so this function will generate one such DataFrame. It is a very powerful object with many capabilities not even implemented in NumPy - deserving of its own notebook."
   ]
  },
  {
   "cell_type": "code",
   "execution_count": 38,
   "metadata": {},
   "outputs": [
    {
     "name": "stdout",
     "output_type": "stream",
     "text": [
      "                  0\n",
      "0    0.0   999.8425\n",
      "1    4.0   999.9750\n",
      "2   15.0   999.1026\n",
      "3   20.0   998.2071\n",
      "4   25.0   997.0479\n",
      "5   37.0   993.3316\n",
      "6     50.0   988.04\n",
      "7  100.0   958.3665\n"
     ]
    }
   ],
   "source": [
    "from pandas import read_csv\n",
    "\n",
    "file = read_csv('density_water.dat', comment='#', header=None)\n",
    "print(file)"
   ]
  }
 ],
 "metadata": {
  "kernelspec": {
   "display_name": "Python 3",
   "language": "python",
   "name": "python3"
  },
  "language_info": {
   "codemirror_mode": {
    "name": "ipython",
    "version": 3
   },
   "file_extension": ".py",
   "mimetype": "text/x-python",
   "name": "python",
   "nbconvert_exporter": "python",
   "pygments_lexer": "ipython3",
   "version": "3.7.4"
  }
 },
 "nbformat": 4,
 "nbformat_minor": 2
}
