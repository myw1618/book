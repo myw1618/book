{
 "cells": [
  {
   "cell_type": "markdown",
   "metadata": {},
   "source": [
    "# Printing and formatting statements\n",
    "## General\n",
    "### Printing text\n",
    "A line of code in Python is a _statement_:\n",
    "\n",
    "    print(\"Hellow world!\")\n",
    "    \n",
    "_print_ is a function in Python that takes an argument in brackets () and prints it out to the terminal."
   ]
  },
  {
   "cell_type": "code",
   "execution_count": 1,
   "metadata": {},
   "outputs": [
    {
     "name": "stdout",
     "output_type": "stream",
     "text": [
      "Hello world!\n"
     ]
    }
   ],
   "source": [
    "print(\"Hello world!\")"
   ]
  },
  {
   "cell_type": "markdown",
   "metadata": {},
   "source": [
    "_print_ function can also print multiple lines, using '\\n' as a line separator in your text. Notice that you do not need to add spaces around '\\n' in the text:"
   ]
  },
  {
   "cell_type": "code",
   "execution_count": 2,
   "metadata": {},
   "outputs": [
    {
     "name": "stdout",
     "output_type": "stream",
     "text": [
      "Hello world!\n",
      "This is my first code.\n",
      "I love coding.\n"
     ]
    }
   ],
   "source": [
    "print(\"Hello world!\\nThis is my first code.\\nI love coding.\")"
   ]
  },
  {
   "cell_type": "markdown",
   "metadata": {},
   "source": [
    "Multiple lines can be also achieved by triple apostrophe \"\"\"text\"\"\":"
   ]
  },
  {
   "cell_type": "code",
   "execution_count": 3,
   "metadata": {},
   "outputs": [
    {
     "name": "stdout",
     "output_type": "stream",
     "text": [
      "Hellow world! \n",
      "This is my first code.\n",
      "    I love coding.\n"
     ]
    }
   ],
   "source": [
    "print(\"\"\"Hellow world! \n",
    "This is my first code.\n",
    "    I love coding.\"\"\") # This # is a comment that has no effect on code\n",
    "\n",
    "# Note how added spaces in the last line are reflected in the printed statement"
   ]
  },
  {
   "cell_type": "markdown",
   "metadata": {},
   "source": [
    "### Printing numbers\n",
    "Apart from words, _print_ function can also take numbers and do some calculations:"
   ]
  },
  {
   "cell_type": "code",
   "execution_count": 4,
   "metadata": {},
   "outputs": [
    {
     "name": "stdout",
     "output_type": "stream",
     "text": [
      "10\n",
      "10\n",
      "12\n",
      "51.5\n",
      "1000\n",
      "26.0\n",
      "106.0\n"
     ]
    }
   ],
   "source": [
    "print(\"10\")     # Print text '10'\n",
    "print(10)       # Print number 10\n",
    "print(10+5-3)   # Calculate 10+5-3\n",
    "print(10*5+3/2) # Multiply wiht *, divide with /\n",
    "print(10**3)    # To take powers, use **, here 10 to de power of 3\n",
    "\n",
    "# Finally more difficult calculation, brackets matter in order of calculation!!\n",
    "\n",
    "print(5.0*0.6+(100.0+15)/5.0) # With brackets\n",
    "print(5.0*0.6+100.0+15/5.0)   # Without brackets"
   ]
  },
  {
   "cell_type": "markdown",
   "metadata": {},
   "source": [
    "## Formatted printing\n",
    "\n",
    "Sometimes we want to insert certain texts or numbers into _print_ statemtens.\n",
    "\n",
    "Inserting:\n",
    "* use '%s' in the statement where you want to insert text\n",
    "* use '%g' in the statement where you want to insert numbers, Python decides here how many significant figures are needed\n",
    "* use '%.xf', where x is a number of significant figures you want displayed for your number\n",
    "\n",
    "The syntax (coding rules) for inserting numbers/text into _print_ statement is:\n",
    "\n",
    "    print(\"Text %s text text text\" % (\"text\"))\n",
    "    \n",
    "An example below:"
   ]
  },
  {
   "cell_type": "code",
   "execution_count": 5,
   "metadata": {},
   "outputs": [
    {
     "name": "stdout",
     "output_type": "stream",
     "text": [
      "My name is <insert your name> and I am 18 years old.\n",
      "I am 1.63 m tall.\n"
     ]
    }
   ],
   "source": [
    "# Print your name and age inserted into text\n",
    "\n",
    "print(\"My name is %s and I am %g years old.\" % (\"<insert your name>\", 18))\n",
    "\n",
    "# Work out your height in meters, provided you are 5 ft 4 in and insert into text\n",
    "# 1 foot = 0.3048\n",
    "# 1 inch = 0.0254\n",
    "\n",
    "print(\"I am %.2f m tall.\" % (5*0.3048+4*0.0254))"
   ]
  },
  {
   "cell_type": "markdown",
   "metadata": {},
   "source": [
    "### Format() method:\n",
    "This method allows to specify positions of the objects we want to insert into a string. For example:"
   ]
  },
  {
   "cell_type": "code",
   "execution_count": 6,
   "metadata": {},
   "outputs": [
    {
     "name": "stdout",
     "output_type": "stream",
     "text": [
      "I like dinosaurs and brachiopods.\n",
      "I like brachiopods and dinosaurs.\n"
     ]
    }
   ],
   "source": [
    "print(\"I like {0} and {1}.\".format('dinosaurs', 'brachiopods'))\n",
    "print(\"I like {1} and {0}.\".format('dinosaurs', 'brachiopods'))"
   ]
  },
  {
   "cell_type": "markdown",
   "metadata": {},
   "source": [
    "We can also specify a variable name that will go into the string:"
   ]
  },
  {
   "cell_type": "code",
   "execution_count": 7,
   "metadata": {},
   "outputs": [
    {
     "name": "stdout",
     "output_type": "stream",
     "text": [
      "I like dinosaurs, brachiopods and ammonites.\n"
     ]
    }
   ],
   "source": [
    "print(\"I like {0}, {1} and {other}.\".format('dinosaurs', 'brachiopods', other = 'ammonites'))"
   ]
  },
  {
   "cell_type": "markdown",
   "metadata": {},
   "source": [
    "Apart from strings, we can also insert numbers:"
   ]
  },
  {
   "cell_type": "code",
   "execution_count": 8,
   "metadata": {},
   "outputs": [
    {
     "name": "stdout",
     "output_type": "stream",
     "text": [
      "This fossil is 12 cm long and 5.05 cm wide.\n",
      "This fossil is 12 cm long and 5.0500 cm wide.\n",
      "This fossil is 12 cm long and   5.0500 cm wide.\n"
     ]
    }
   ],
   "source": [
    "print(\"This fossil is {0:d} cm long and {1:.2f} cm wide.\".format(12, 5.05))\n",
    "print(\"This fossil is {0:g} cm long and {1:.4f} cm wide.\".format(12.0, 5.05))\n",
    "print(\"This fossil is {0:g} cm long and {1:8.4f} cm wide.\".format(12.0, 5.05))"
   ]
  },
  {
   "cell_type": "markdown",
   "metadata": {},
   "source": [
    "Both methods are valid so you can use whichever one suits you better!"
   ]
  }
 ],
 "metadata": {
  "kernelspec": {
   "display_name": "Python 3",
   "language": "python",
   "name": "python3"
  },
  "language_info": {
   "codemirror_mode": {
    "name": "ipython",
    "version": 3
   },
   "file_extension": ".py",
   "mimetype": "text/x-python",
   "name": "python",
   "nbconvert_exporter": "python",
   "pygments_lexer": "ipython3",
   "version": "3.7.3"
  }
 },
 "nbformat": 4,
 "nbformat_minor": 2
}
