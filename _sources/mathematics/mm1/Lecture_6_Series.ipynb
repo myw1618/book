{
 "cells": [
  {
   "cell_type": "code",
   "execution_count": null,
   "metadata": {},
   "outputs": [],
   "source": [
    "# This cell just imports relevant modules\n",
    "\n",
    "import numpy\n",
    "import pylab\n",
    "from sympy import sin, cos, exp, ln, Function, Symbol, diff, integrate, limit, oo, series, factorial\n",
    "from math import pi\n",
    "import mpmath"
   ]
  },
  {
   "cell_type": "code",
   "execution_count": null,
   "metadata": {},
   "outputs": [],
   "source": [
    "###### SEQUENCES ######\n",
    "###### Lecture 6, slide 10 ######\n",
    "# Finite sequence example. The elements of the sequence are stored in a list\n",
    "finite_sequence = [2*k for k in range(1, 5)] \n",
    "# Remember: range(A,B) generates integers from A up to B-1, so we need to use B=5 here"
   ]
  },
  {
   "cell_type": "code",
   "execution_count": null,
   "metadata": {},
   "outputs": [],
   "source": [
    "###### CONVERGENCE OF SEQUENCES ######\n",
    "###### Lecture 6, slide 11, 13, 14 ######\n",
    "k = Symbol('k')\n",
    "print(\"As k->infinity, the sequence {k} tends to: %f\" % limit(k, k, oo) ) \n",
    "# The 'oo' here is SymPy's notation for infinity\n",
    "\n",
    "print(\"As k->infinity, the sequence {1/k} tends to: %f\" % limit(1.0/k, k, oo)) \n",
    "\n",
    "print(\"As k->infinity, the sequence {exp(1/k)} tends to: %f\" % limit(exp(1.0/k), k, oo)) \n",
    "\n",
    "print(\"As k->infinity, the sequence {(k**3 + 2*k - 4)/(k**3 + 1)} tends to: %f\" \n",
    "      % limit((k**3 + 2*k - 4)/(k**3 + 1), k, oo)) "
   ]
  },
  {
   "cell_type": "code",
   "execution_count": null,
   "metadata": {},
   "outputs": [],
   "source": [
    "###### SERIES ######\n",
    "###### Lecture 6, slide 15 ######\n",
    "# Using list comprehension:\n",
    "print(\"The sum of 3*k + 1 (from k=0 to k=4) is: %f\" % sum([3*k + 1 for k in range(0,5)])) \n",
    "# Note: we could also use the nsum function (part of the module mpmath): \n",
    "# import mpmath\n",
    "# print mpmath.nsum(lambda k: 3*k + 1, [0, 4])\n",
    "\n",
    "x = 1\n",
    "print(\"The sum of (x**k)/(k!) from k=0 to k=4, with x = 1, is: %f\" % sum([x**k/factorial(k) for k in range(1,5)])) "
   ]
  },
  {
   "cell_type": "code",
   "execution_count": null,
   "metadata": {},
   "outputs": [],
   "source": [
    "###### ARITHMETIC PROGRESSION ######\n",
    "###### Lecture 6, slide 18 ######\n",
    "print(\"The sum of 5 + 4*k up to the 11th term (i.e. up to k=10) is: %f\" % sum([5 + 4*k for k in range(0,11)])) "
   ]
  },
  {
   "cell_type": "code",
   "execution_count": null,
   "metadata": {},
   "outputs": [],
   "source": [
    "###### GEOMETRIC PROGRESSION ######\n",
    "###### Lecture 6, slide 21 ######\n",
    "print(\"The sum of 3**k up to the 7th term (i.e. up to k=6) is: %f\" % sum([3**k for k in range(0,7)])) "
   ]
  },
  {
   "cell_type": "code",
   "execution_count": null,
   "metadata": {},
   "outputs": [],
   "source": [
    "###### INFINITE SERIES ######\n",
    "###### Lecture 6, slide 23, 24, 25 ######\n",
    "print(\"The sum of the infinite series sum(1/(2**k)) is: %f\" % mpmath.nsum(lambda k: 1/(2**k), [1, mpmath.inf]))  \n",
    "print(\"The sum of the infinite alternating series sum(((-1)**(k+1))/k) is: %f\" \n",
    "      % mpmath.nsum(lambda k: ((-1)**(k+1))/k, [1, mpmath.inf])) "
   ]
  },
  {
   "cell_type": "code",
   "execution_count": null,
   "metadata": {},
   "outputs": [],
   "source": [
    "###### RATIO TEST ######\n",
    "###### Lecture 6, slide 27 ######\n",
    "# A divergent example\n",
    "k = Symbol('k')\n",
    "f = (2**k)/(3*k)\n",
    "f1 = (2**(k+1))/(3*(k+1))\n",
    "ratio = f1/f\n",
    "\n",
    "lim = limit(ratio, k, oo) \n",
    "print(\"As k -> infinity, the ratio tends to: %f\" % lim) \n",
    "if(lim < 1.0):\n",
    "    print(\"The series converges\") \n",
    "elif(lim > 1.0):\n",
    "    print(\"The series diverges\") \n",
    "else:\n",
    "    print(\"The series either converges or diverges\") \n",
    "\n",
    "# A converging example\n",
    "f = (2**k)/(5**k)\n",
    "f1 = (2**(k+1))/(5**(k+1))\n",
    "ratio = f1/f"
   ]
  },
  {
   "cell_type": "code",
   "execution_count": null,
   "metadata": {},
   "outputs": [],
   "source": [
    "###### POWER SERIES ######\n",
    "###### Lecture 6, slide 30 ######\n",
    "k = Symbol('k')\n",
    "x = Symbol('x')\n",
    "\n",
    "a = 1.0/k\n",
    "f = a*(x**k)\n",
    "\n",
    "a1 = 1.0/(k+1)\n",
    "f1 = a1*(x**(k+1))\n",
    "\n",
    "ratio = abs(a/a1)\n",
    "R = limit(ratio, k, oo)\n",
    "print(\"The radius of convergence (denoted R) is: %f\" % R) \n",
    "\n",
    "x = 0.5\n",
    "if(abs(x) < 1):\n",
    "    print(\"The series converges for |x| = %f (< R)\" % abs(x)) \n",
    "elif(abs(x) > 1):\n",
    "    print(\"The series diverges for |x| = %f (> R)\" % abs(x)) \n",
    "else:\n",
    "    print(\"The series either converges or diverges for |x| = %f (== R)\\n\" % abs(x)) "
   ]
  },
  {
   "cell_type": "code",
   "execution_count": null,
   "metadata": {},
   "outputs": [],
   "source": [
    "###### USEFUL SERIES ######\n",
    "###### Lecture 6, slide 34 ######\n",
    "x = Symbol('x')\n",
    "r = Symbol('r')\n",
    "\n",
    "# Note: the optional argument 'n' allows us to truncate the series\n",
    "# after a certain order of x has been reached.\n",
    "print(\"1/(1+x) = \", series(1.0/(1.0+x), x, n=4)) \n",
    "print(\"1/(1-x) = \", series(1.0/(1.0-x), x, n=4)) \n",
    "print(\"ln(1+x) = \", series(ln(1.0+x), x, n=4)) \n",
    "print(\"exp(x) = \", series(exp(x), x, n=4)) \n",
    "print(\"cos(x) = \", series(cos(x), x, n=7)) \n",
    "print(\"sin(x) = \", series(sin(x), x, n=8)) "
   ]
  }
 ],
 "metadata": {
  "kernelspec": {
   "display_name": "Python 3",
   "language": "python",
   "name": "python3"
  },
  "language_info": {
   "codemirror_mode": {
    "name": "ipython",
    "version": 3
   },
   "file_extension": ".py",
   "mimetype": "text/x-python",
   "name": "python",
   "nbconvert_exporter": "python",
   "pygments_lexer": "ipython3",
   "version": "3.7.6"
  }
 },
 "nbformat": 4,
 "nbformat_minor": 4
}
