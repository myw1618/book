{
 "cells": [
  {
   "cell_type": "code",
   "execution_count": null,
   "metadata": {},
   "outputs": [],
   "source": [
    "## This cell just imports necessary modules\n",
    "%pylab notebook\n",
    "from sympy import sin, cos, Function, Symbol, diff, integrate, exp"
   ]
  },
  {
   "cell_type": "code",
   "execution_count": null,
   "metadata": {},
   "outputs": [],
   "source": [
    "###### FIRST PARTIAL DERIVATIVES ######\n",
    "###### Lecture 2, slide 10 ######\n",
    "\n",
    "# Define the independent variables using Symbol\n",
    "r = Symbol('r')\n",
    "h = Symbol('h')\n",
    "# Define the function V(r,h)\n",
    "V = pi*(r**2)*h\n",
    "\n",
    "# The first partial derivative of V w.r.t h (i.e. r is kept constant)\n",
    "print(\"The first partial derivative of V w.r.t. h is: \", diff(V, h))\n",
    "# The first partial derivative of V w.r.t r (i.e. h is kept constant)\n",
    "print(\"The first partial derivative of V w.r.t. r is: \", diff(V, r))\n"
   ]
  },
  {
   "cell_type": "code",
   "execution_count": null,
   "metadata": {},
   "outputs": [],
   "source": [
    "###### SECOND PARTIAL DERIVATIVES ######\n",
    "###### Lecture 2, slide 12 ######\n",
    "\n",
    "x = Symbol('x')\n",
    "y = Symbol('y')\n",
    "f = (x**2)*sin(y)\n",
    "\n",
    "f_x = diff(f, x)\n",
    "f_y = diff(f, y)\n",
    "\n",
    "print(\"The first partial derivatives of f = (x**2)*sin(y) are: \")\n",
    "print(\"f_x = \", f_x)\n",
    "print(\"f_y = \", f_y, \"\\n\")\n",
    "\n",
    "f_xx = diff(f_x, x)\n",
    "f_xy = diff(f_x, y)\n",
    "f_yx = diff(f_y, x)\n",
    "f_yy = diff(f_y, y)\n",
    "\n",
    "print(\"The second partial derivatives of f = (x**2)*sin(y) are: \")\n",
    "print(\"f_xx = \", f_xx)\n",
    "print(\"f_xy = \", f_xy)\n",
    "print(\"f_yy = \", f_yy)\n",
    "print(\"f_yx = \", f_yx)"
   ]
  },
  {
   "cell_type": "code",
   "execution_count": null,
   "metadata": {},
   "outputs": [],
   "source": [
    "###### CHAIN RULE ######\n",
    "###### Lecture 2, slide 19 ######\n",
    "a = Symbol('a')\n",
    "b = Symbol('b')\n",
    "t = Symbol('t')\n",
    "\n",
    "x = a*t\n",
    "y = b*t\n",
    "\n",
    "T = 3*y*sin(x)\n",
    "\n",
    "# SymPy automatically applies the chain rule here:\n",
    "print(\"Differentiating T = 3*y*sin(x) wrt t using the chain rule: \\n\")\n",
    "print(diff(T, t))"
   ]
  },
  {
   "cell_type": "code",
   "execution_count": null,
   "metadata": {},
   "outputs": [],
   "source": [
    "###### DEFINITE AND INDEFINITE INTEGRALS ######\n",
    "###### Lecture 2, slide 21 ######\n",
    "x = Symbol('x')\n",
    "y = Symbol('y')\n",
    "\n",
    "# Remember: Indefinite integrals result in a constant 'c'. SymPy sets this to zero.\n",
    "# f is the function we want to integrate.\n",
    "f = cos(x)\n",
    "\n",
    "# The second argument is the variable we want to integrate with respect to.\n",
    "# (in this example, it is 'x').\n",
    "print(\"Integrating cos(x) yields:\")\n",
    "print(integrate(f, x)) \n",
    "\n",
    "# Using integrate(2*x, (x, a, b)) evaluates a DEFINITE integral between x=a and x=b\n",
    "a = 0\n",
    "b = 2\n",
    "print(\"Integrating 2*x between x=0 and x=2 yields:\")\n",
    "print(integrate(2*x, (x, a, b)))"
   ]
  },
  {
   "cell_type": "code",
   "execution_count": null,
   "metadata": {},
   "outputs": [],
   "source": [
    "###### DOUBLE INTEGRALS ######\n",
    "###### Lecture 2, slide 26 ######\n",
    "\n",
    "# The function we want to integrate.\n",
    "f = 2*(x**2)*y\n",
    "\n",
    "# First integrate f wrt y between y=0 and y=2.\n",
    "inner_integral = integrate(f, (y, 0, 2)) \n",
    "print(\"The inner integral is: \", inner_integral)\n",
    "\n",
    "# Then integrate the inner_integral wrt x.\n",
    "outer_integral = integrate(inner_integral, (x, 0, 2)) \n",
    "print(\"The outer integral is: \", outer_integral)"
   ]
  }
 ],
 "metadata": {
  "hide_input": false,
  "kernelspec": {
   "display_name": "Python 3",
   "language": "python",
   "name": "python3"
  },
  "language_info": {
   "codemirror_mode": {
    "name": "ipython",
    "version": 3
   },
   "file_extension": ".py",
   "mimetype": "text/x-python",
   "name": "python",
   "nbconvert_exporter": "python",
   "pygments_lexer": "ipython3",
   "version": "3.7.5"
  },
  "toc": {
   "base_numbering": 1,
   "nav_menu": {},
   "number_sections": true,
   "sideBar": true,
   "skip_h1_title": false,
   "title_cell": "Table of Contents",
   "title_sidebar": "Contents",
   "toc_cell": false,
   "toc_position": {},
   "toc_section_display": true,
   "toc_window_display": false
  }
 },
 "nbformat": 4,
 "nbformat_minor": 2
}
