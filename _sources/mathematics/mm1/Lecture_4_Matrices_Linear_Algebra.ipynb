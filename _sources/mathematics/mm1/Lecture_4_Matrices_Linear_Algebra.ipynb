{
 "cells": [
  {
   "cell_type": "code",
   "execution_count": null,
   "metadata": {},
   "outputs": [],
   "source": [
    "# This cell just imports necessary modules\n",
    "\n",
    "import numpy\n",
    "import pylab\n",
    "from math import pi"
   ]
  },
  {
   "cell_type": "code",
   "execution_count": null,
   "metadata": {},
   "outputs": [],
   "source": [
    "###### DEFINING A MATRIX ######\n",
    "###### Lecture 4, slide 3 ######\n",
    "# Define matrices in Python using numpy.matrix\n",
    "\n",
    "# mA is a SQUARE matrix\n",
    "mA = numpy.matrix([[2, 3, -4],\n",
    "                   [3, -1, 2],\n",
    "                   [4, 2, 2]])   \n",
    "# mB is a NON-SQUARE matrix\n",
    "mB = numpy.matrix([[2, -4, 1, -2],\n",
    "                   [7, 8, 0, 3]])   \n",
    "                  \n",
    "# REMEMBER: when stating the dimension of a matrix (e.g. 3 x 3, 2 x 4, etc)\n",
    "# it's *R*ows Fi*R*st, *C*olumns Se*C*ond.\n",
    "# So, mA is 3 x 3 matrix, mB is a 2 x 4 matrix.\n",
    "\n",
    "# You can also use numpy.shape to determine the dimension of a matrix\n",
    "print(\"The dimension of A is \", numpy.shape(mA)) \n",
    "print(\"The dimension of B is \", numpy.shape(mB)) "
   ]
  },
  {
   "cell_type": "code",
   "execution_count": null,
   "metadata": {},
   "outputs": [],
   "source": [
    "###### MATRIX-SCALAR MULTIPLICATION ######\n",
    "###### Lecture 4, slide 5 ######\n",
    "mD = numpy.matrix([[2, -4, 1, -2],\n",
    "                   [7, 8, 0, 3]])  \n",
    "         \n",
    "print(\"3*D =\\n\", 3*mD) "
   ]
  },
  {
   "cell_type": "code",
   "execution_count": null,
   "metadata": {},
   "outputs": [],
   "source": [
    "###### MATRIX ADDITION AND SUBTRACTION ######\n",
    "###### Lecture 4, slide 6, 7 ######\n",
    "mE = numpy.matrix([[2, -4],\n",
    "                   [7, 8]])\n",
    "                  \n",
    "mF = numpy.matrix([[4, 0],\n",
    "                   [2, -1]])\n",
    "         \n",
    "print(\"E + F =\\n\", mE + mF) \n",
    "\n",
    "print(\"E - F =\\n\", mE - mF) \n",
    "\n",
    "# NOTE: The two matrices must have the same dimension. If they do not,\n",
    "# Python will give an error. Try adding mE (2 x 2) and mB (2 x 4). Python will give: \n",
    "# ValueError: operands could not be broadcast together with shapes (2,2) (2,4)"
   ]
  },
  {
   "cell_type": "code",
   "execution_count": null,
   "metadata": {},
   "outputs": [],
   "source": [
    "###### MATRIX-MATRIX MULTIPLICATION ######\n",
    "###### Lecture 4, slide 10 ######\n",
    "mE = numpy.matrix([[2, -4],\n",
    "                   [7, 8],\n",
    "                   [3, 2]])  \n",
    "mH = numpy.matrix([[4, 0, 0, 1],\n",
    "                   [2, -1, 3, -2]])                  \n",
    "         \n",
    "print(\"E*H =\\n\", mE*mH) "
   ]
  },
  {
   "cell_type": "code",
   "execution_count": null,
   "metadata": {},
   "outputs": [],
   "source": [
    "###### MATRIX TRANSPOSE ######\n",
    "###### Lecture 4, slide 12, 13 ######\n",
    "# Non-square matrix\n",
    "mB = numpy.matrix([[2, -4],\n",
    "                   [7, 8],\n",
    "                   [3, 2]])\n",
    "                  \n",
    "mB_transpose = numpy.transpose(mB)\n",
    "print(\"The transpose of (non-square) B =\\n\", mB_transpose) \n",
    "\n",
    "# Square matrix\n",
    "mB = numpy.matrix([[2, 3, -4],\n",
    "                   [3, -1, 2],\n",
    "                   [4, 2, 2]])                 \n",
    "\n",
    "mB_transpose = numpy.transpose(mB)\n",
    "print(\"The transpose of (square) B =\\n\", mB_transpose) "
   ]
  },
  {
   "cell_type": "code",
   "execution_count": null,
   "metadata": {},
   "outputs": [],
   "source": [
    "###### IDENTITY MATRIX ######\n",
    "###### Lecture 4, slide 15 ######\n",
    "mI = numpy.identity(3) # Creates a 3 x 3 identity matrix\n",
    "mB = numpy.matrix([[2, 3, -4],\n",
    "                   [3, -1, 2],\n",
    "                   [4, 2, 2]])                 \n",
    "\n",
    "# mIB should be equal to mB\n",
    "mIB = mI*mB\n",
    "print(\"I*B =\\n\", mIB) "
   ]
  },
  {
   "cell_type": "code",
   "execution_count": null,
   "metadata": {},
   "outputs": [],
   "source": [
    "###### DETERMINANTS ######\n",
    "###### Lecture 4, slide 16 ######\n",
    "# 2 x 2 example\n",
    "mD = numpy.matrix([[1, 4],\n",
    "                   [-3, 5]])            \n",
    "sDet = numpy.linalg.det(mD)\n",
    "print(\"det(D) = %f\" % sDet) \n",
    "\n",
    "# 3 x 3 example\n",
    "mA = numpy.matrix([[1, 2, 4],\n",
    "                   [-3, 1, -2],\n",
    "                   [3, 2, 5]])   \n",
    "det = numpy.linalg.det(mA)\n",
    "print(\"det(A) = %f\" % sDet) "
   ]
  },
  {
   "cell_type": "code",
   "execution_count": null,
   "metadata": {},
   "outputs": [],
   "source": [
    "###### SOLVING SYSTEMS OF LINEAR EQUATIONS ######\n",
    "# Set up a system of the form Ax = b\n",
    "mA = numpy.matrix([[2, 3, -4],\n",
    "                   [3, -1, 2],\n",
    "                   [4, 2, 2]])               \n",
    "vB = numpy.array([10, 3, 8])\n",
    "\n",
    "# Solve the system of linear equations\n",
    "vX = numpy.linalg.solve(mA, vB)\n",
    "\n",
    "print(\"The solution to Ax = b is:\\n\", vX) "
   ]
  },
  {
   "cell_type": "code",
   "execution_count": null,
   "metadata": {},
   "outputs": [],
   "source": [
    "###### EXISTENCE OF SOLUTIONS ######\n",
    "# Compute the determinant of the square matrix A\n",
    "sDet = numpy.linalg.det(mA)\n",
    "print(\"Determinant of A = %.3f\" % sDet) \n",
    "if(sDet != 0):\n",
    "    print(\"The system Ax = b has a UNIQUE solution.\") \n",
    "else:\n",
    "    print(\"The system Ax = b has either infinite solutions or no solutions.\") "
   ]
  },
  {
   "cell_type": "code",
   "execution_count": null,
   "metadata": {},
   "outputs": [],
   "source": [
    "###### INVERSE OF A MATRIX ######\n",
    "# Compute the inverse of A\n",
    "mA_inv = numpy.linalg.inv(mA)\n",
    "print(\"The inverse of A is:\\n\", mA_inv) \n",
    "\n",
    "# NOTE: A is an object with a set of methods (you'll learn more about these\n",
    "# in the Programming for Geophysicists course). Therefore, you could also use \n",
    "# the method getI() to compute the inverse by typing A.getI()\n",
    "\n",
    "# Check that A*A_inv gives the identity matrix I\n",
    "# NOTE: You may find that some elements of the matrix\n",
    "# are around 1e-16 (i.e. 10**(-16)) instead of exactly zero.\n",
    "print(\"A*A_inv should give the identity matrix:\\n\", mA*mA_inv) "
   ]
  }
 ],
 "metadata": {
  "kernelspec": {
   "display_name": "Python 3",
   "language": "python",
   "name": "python3"
  },
  "language_info": {
   "codemirror_mode": {
    "name": "ipython",
    "version": 3
   },
   "file_extension": ".py",
   "mimetype": "text/x-python",
   "name": "python",
   "nbconvert_exporter": "python",
   "pygments_lexer": "ipython3",
   "version": "3.7.6"
  }
 },
 "nbformat": 4,
 "nbformat_minor": 4
}
