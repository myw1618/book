{
 "cells": [
  {
   "cell_type": "code",
   "execution_count": null,
   "metadata": {},
   "outputs": [],
   "source": [
    "# This cell just imports relevant modules\n",
    "\n",
    "import numpy\n",
    "import scipy\n",
    "import scipy.optimize as optimize\n",
    "from math import pi, exp"
   ]
  },
  {
   "cell_type": "code",
   "execution_count": null,
   "metadata": {},
   "outputs": [],
   "source": [
    "###### NUMERICAL DIFFERENTIATION ######\n",
    "###### Lecture 8, slide 16 ######\n",
    "x = numpy.array([0.0, 0.1, 0.2, 0.3, 0.4])\n",
    "y = numpy.array([0.0, 0.0998, 0.1987, 0.2955, 0.3894])\n",
    "\n",
    "# The first derivatives are computed using central differences.\n",
    "# Here, the argument value of 0.1 is the 'sample distance' (i.e. dx)\n",
    "derivatives = numpy.gradient(y, 0.1)\n",
    "for i in range(0, len(x)):\n",
    "    print(\"The derivative at x = %f is %f\" % (x[i], derivatives[i])) "
   ]
  },
  {
   "cell_type": "code",
   "execution_count": null,
   "metadata": {},
   "outputs": [],
   "source": [
    "###### NUMERICAL INTEGRATION ######\n",
    "###### Lecture 8, slide 32 ######\n",
    "time = numpy.array([0, 1, 2, 3, 4, 5, 6]) # Time in hours\n",
    "discharge = numpy.array([0.07, 0.1, 0.06, 0.02, 0.07, 0.06, 0.05]) # Flow rate in m**3/s\n",
    "time = time*3600.0 # Convert time in hours into time in seconds\n",
    "\n",
    "integral = numpy.trapz(discharge, x=time) # Integrate using the trapezoidal rule. Units are m**3\n",
    "print(\"The integral of the discharge data w.r.t. time is %f\\n\" % integral) "
   ]
  },
  {
   "cell_type": "code",
   "execution_count": null,
   "metadata": {},
   "outputs": [],
   "source": [
    "###### FORWARD EULER METHOD ######\n",
    "###### Lecture 8, slide 70 ######\n",
    "print(\"Applying the forward Euler method to solve: dy/dx = 2*x*(1-y)...\") \n",
    "def derivative(x,y):\n",
    "    return 2*x*(1-y)\n",
    "n = 7 # Number of desired solution points\n",
    "dx = 0.4 # Distance between consecutive solution points along the x axis\n",
    "x = numpy.zeros(n) # x value at each solution point, initially full of zeros.\n",
    "y = numpy.zeros(n) # y value at each solution point, initially full of zeros.\n",
    "# Now set up the initial condition. These two lines aren't really needed \n",
    "# since we have already initialised each component of the array to zero,\n",
    "# but we'll put them here for completeness.\n",
    "x[0] = 0\n",
    "y[0] = 0 \n",
    "print(\"At x = %f, y = %f\" % (x[0], y[0]))  # Print out the initial condition\n",
    "for i in range(0, n-1):\n",
    "    x[i+1] = x[i] + dx\n",
    "    y[i+1] = y[i] + derivative(x[i],y[i])*dx\n",
    "    print(\"At x = %f, y = %f\" % (x[i+1], y[i+1])) "
   ]
  },
  {
   "cell_type": "code",
   "execution_count": null,
   "metadata": {},
   "outputs": [],
   "source": [
    "###### ROOT FINDING: BISECTION METHOD ######\n",
    "###### Lecture 8, slide 83 ######\n",
    "def f(x):\n",
    "    return x*exp(x) - 1\n",
    "# Find the root of the function f(x) using the bisection method.\n",
    "# We must specify limits a and b in the arguments list\n",
    "# so the method can find the root somewhere in between them.\n",
    "root = optimize.bisect(f, a=0, b=1)\n",
    "# Print out the root. Also print out the value of f at the root, \n",
    "# which should be zero if the root has been found accurately.\n",
    "print(\"The root of the function f(x) is: %f. At this point, f(x) = %f\" % (root, f(root))) "
   ]
  },
  {
   "cell_type": "code",
   "execution_count": null,
   "metadata": {},
   "outputs": [],
   "source": [
    "###### ROOT FINDING: NEWTON-RAPHSON METHOD ######\n",
    "###### Lecture 8, slide 114 ######\n",
    "def f(x):\n",
    "    return x*exp(x) - 1\n",
    "# Find the root of the function f(x) using the Newton-Raphson method.\n",
    "# We must provide the method with a starting point x0 (here we have chosen x0=0).\n",
    "root = optimize.newton(f, x0=0)\n",
    "print(\"The root of the function f(x) is: %f. At this point, f(x) = %f\" % (root, f(root))) "
   ]
  },
  {
   "cell_type": "code",
   "execution_count": null,
   "metadata": {},
   "outputs": [],
   "source": [
    "###### DOMINANT EIGENVALUES ######\n",
    "###### Lecture 8, slide 156 ######\n",
    "A = numpy.matrix([[2, 2],\n",
    "                  [1, 4]])\n",
    "# For this simple matrix we can use NumPy's eigvals function\n",
    "# which we have seen before. The max and abs functions have been used\n",
    "# to pick out the eigenvalue with the largest magnitude.\n",
    "print(\"The dominant eigenvalue of A is: %.f\" % max(abs(numpy.linalg.eigvals(A)))) \n",
    "\n",
    "# Note that for sparse matrices, we can use\n",
    "# the following scipy function. The optional\n",
    "# argument k is for controlling the desired number of\n",
    "# eigenvalues returned.\n",
    "print(scipy.sparse.linalg.eigs(A, k=1)) "
   ]
  }
 ],
 "metadata": {
  "kernelspec": {
   "display_name": "Python 3",
   "language": "python",
   "name": "python3"
  },
  "language_info": {
   "codemirror_mode": {
    "name": "ipython",
    "version": 3
   },
   "file_extension": ".py",
   "mimetype": "text/x-python",
   "name": "python",
   "nbconvert_exporter": "python",
   "pygments_lexer": "ipython3",
   "version": "3.7.6"
  }
 },
 "nbformat": 4,
 "nbformat_minor": 4
}
