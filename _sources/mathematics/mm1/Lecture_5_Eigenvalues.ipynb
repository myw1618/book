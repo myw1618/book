{
 "cells": [
  {
   "cell_type": "code",
   "execution_count": null,
   "metadata": {},
   "outputs": [],
   "source": [
    "# This cell just imports relevant modules\n",
    "\n",
    "import numpy\n",
    "import pylab\n",
    "from math import pi\n",
    "from sympy import sin, cos, Function, Symbol, diff, integrate, matrices"
   ]
  },
  {
   "cell_type": "code",
   "execution_count": null,
   "metadata": {},
   "outputs": [],
   "source": [
    "###### TRANSFORMATION MATRICES ######\n",
    "###### Lecture 5, slide 9 ######\n",
    "\n",
    "# Define the transformation matrix in Python using numpy.matrix\n",
    "mD = numpy.matrix([[1.25, 0],\n",
    "                  [0, 0.8]])\n",
    "           \n",
    "# A list of coordinate vectors in the form [x,y]. \n",
    "# These are stored as numpy arrays so we can easily multiply them \n",
    "# by the transformation matrix.\n",
    "vCoordinates = [numpy.array([1, 0]),\n",
    "               numpy.array([0, 1]),\n",
    "               numpy.array([-1, 0]),\n",
    "               numpy.array([0, -1])]\n",
    "\n",
    "# Take each coordinate and transform it\n",
    "for i in range(0, len(vCoordinates)):\n",
    "    # We need to reshape the array so it is conformable\n",
    "    # (i.e. it is of the right dimension for matrix-vector\n",
    "    # multiplication). In this case, we need it to be 2 x 1.\n",
    "    vCoordinates[i] = numpy.reshape(vCoordinates[i], (2,1))\n",
    "    print(mD*vCoordinates[i]) \n",
    "   \n",
    "sDet = numpy.linalg.det(mD)\n",
    "sVolStrain = sDet - 1 # The volumetric strain\n",
    "\n",
    "print(\"Determinant of D is: %f\" % sDet) \n",
    "print(\"This implies:\") \n",
    "if(sVolStrain == 1):\n",
    "    print(\"No volume change\") \n",
    "elif(sVolStrain > 1):\n",
    "    print(\"Increase in volume\") \n",
    "elif(sVolStrain > 0 and sVolStrain < 1):\n",
    "    print(\"Decrease in volume\") \n",
    "else:\n",
    "    print(\"No geological meaning\") "
   ]
  },
  {
   "cell_type": "code",
   "execution_count": null,
   "metadata": {},
   "outputs": [],
   "source": [
    "###### EIGENVALUES OF A 2 x 2 MATRIX ######\n",
    "###### Lecture 5, slide 18 ######\n",
    "mA = numpy.matrix([[1,4],\n",
    "                  [1,1]]) \n",
    "                  \n",
    "# A simple way of finding eigenvalues is to use \n",
    "# the eigvals function.\n",
    "sEigValues = numpy.linalg.eigvals(mA)\n",
    "print(\"The eigenvalues of mA are: \", sEigValues) \n",
    "             \n",
    "# Alternatively, we could work out the characteristic polynomial\n",
    "# for lambda, and then find the roots.\n",
    "# Computes det(mA - sLambda*mI) and returns a list of scalar coefficients [sX,sY,sZ] for \n",
    "# the characteristic polynomial sX*sLambda**2 + sY*sLambda + sZ\n",
    "sCharacteristicPoly = numpy.poly(mA)\n",
    "print(\"The characteristic polynomial of mA is: (%f*lambda**2) + (%f*lambda) + (%f)\" \n",
    "      % (sCharacteristicPoly[0], sCharacteristicPoly[1], sCharacteristicPoly[2])) \n",
    "# Finds the roots (in this case, these will be the eigenvalues)\n",
    "sRoots = numpy.roots(sCharacteristicPoly)\n",
    "print(\"The roots of the characteristic polynomial are: \", sRoots) "
   ]
  },
  {
   "cell_type": "code",
   "execution_count": null,
   "metadata": {},
   "outputs": [],
   "source": [
    "###### EIGENVECTORS OF A 2 x 2 MATRIX ######\n",
    "###### Lecture 5, slide 20 ######\n",
    "mA = numpy.matrix([[1,4],\n",
    "                  [1,1]]) \n",
    "                  \n",
    "# A simple way of finding eigenvectors is to use \n",
    "# the eig function. Note that this gives BOTH the eigenvalues in an array (say 'sEigValues')\n",
    "# AND eigenvectors in a matrix data type (say 'vEigVectors'). The i-th eigenvector, stored in the column vEigVectors[:,i], \n",
    "# corresponds to the eigenvalue stored in sEigValues[i].\n",
    "(sEigValues, vEigVectors) = numpy.linalg.eig(mA)\n",
    "for i in range(0, len(sEigValues)):\n",
    "    print(\"Eigenvalue #\", str(i+1), \" is: \", sEigValues[i]) \n",
    "    print(\"The corresponding eigenvector is:\\n\", vEigVectors[:,i]) "
   ]
  },
  {
   "cell_type": "code",
   "execution_count": null,
   "metadata": {},
   "outputs": [],
   "source": [
    "###### REPEATED EIGENVALUES ######\n",
    "###### Lecture 5, slide 24 ######\n",
    "mA = numpy.matrix([[1,0],\n",
    "                  [0,1]]) \n",
    "#NOTE: Here we could also define mA using numpy.identity(2).\n",
    "\n",
    "#NOTE: NumPy will give ALL eigenvalues, including the repeated ones.\n",
    "(sEigValues, vEigVectors) = numpy.linalg.eig(mA)\n",
    "for i in range(0, len(sEigValues)):\n",
    "    print(\"Eigenvalue #\", str(i+1), \" is: \", sEigValues[i]) \n",
    "    print(\"The corresponding eigenvector is:\\n\", vEigVectors[:,i]) "
   ]
  },
  {
   "cell_type": "code",
   "execution_count": null,
   "metadata": {},
   "outputs": [],
   "source": [
    "###### REAL AND COMPLEX EIGENVALUES ######\n",
    "###### Lecture 5, slide 28 ######\n",
    "mA = numpy.matrix([[0,1],\n",
    "                  [-1,0]]) \n",
    "# NumPy prints out complex numbers in the form c = a + bj, where j is the imaginary number.\n",
    "# We can use numpy.real(c) and numpy.imag(c) to print the real and imaginary parts respectively.\n",
    "sEigValues = numpy.linalg.eigvals(mA) \n",
    "print(\"The eigenvalues of A are: \", sEigValues) \n",
    "print(\"The real part of the first eigenvalue is: %f\" % numpy.real(sEigValues[0])) \n",
    "print(\"The imaginary part of the first eigenvalue is: %f\" % numpy.imag(sEigValues[0])) "
   ]
  },
  {
   "cell_type": "code",
   "execution_count": null,
   "metadata": {},
   "outputs": [],
   "source": [
    "###### EXAMPLE EIGENVALUE PROBLEM ######\n",
    "###### Lecture 5, slide 30 ######\n",
    "mM = numpy.matrix([[3,-1],\n",
    "                  [-1,3]])\n",
    "(sEigValues, vEigVectors) = numpy.linalg.eig(mA)\n",
    "for i in range(0, len(sEigValues)):\n",
    "    print(\"Eigenvalue #\", str(i+1), \" is: \", sEigValues[i]) \n",
    "    print(\"The corresponding eigenvector is:\\n\", vEigVectors[:,i]) "
   ]
  },
  {
   "cell_type": "code",
   "execution_count": null,
   "metadata": {},
   "outputs": [],
   "source": [
    "###### SYMMETRIC MATRICES ######\n",
    "###### Lecture 5, slide 31 ######\n",
    "mNonSymmetric = numpy.matrix([[1,4],\n",
    "                              [1,1]])\n",
    "                              \n",
    "(sEigValues, vEigVectors) = numpy.linalg.eig(mNonSymmetric)\n",
    "for i in range(0, len(sEigValues)):\n",
    "    print(\"Eigenvalue #\", str(i+1), \" is: \", sEigValues[i]) \n",
    "    print(\"The corresponding eigenvector is:\\n\", vEigVectors[:,i]) \n",
    "# NOTE 1: Unfortunately, because referencing a column of the matrix vEigVectors\n",
    "# also returns another matrix data type (essentially a 'sub-matrix' of vEigVectors),\n",
    "# we cannot use the numpy.dot function (which only operates on vectors/1D arrays).\n",
    "# Instead, we'll simply use numpy.transpose to perform the dot product instead.\n",
    "# NOTE 2: could also use numpy.vdot - read the documentation for more info.\n",
    "print(\"The dot product of the two eigenvectors is: \", float(numpy.transpose(vEigVectors[:,0])*vEigVectors[:,1])) \n",
    "\n",
    "mSymmetric = numpy.matrix([[3,-1],\n",
    "                           [-1,3]])\n",
    "                              \n",
    "(sEigValues, vEigVectors) = numpy.linalg.eig(mSymmetric)\n",
    "for i in range(0, len(sEigValues)):\n",
    "    print(\"Eigenvalue #\", str(i+1), \" is: \", sEigValues[i]) \n",
    "    print(\"The corresponding eigenvector is:\\n\", vEigVectors[:,i]) \n",
    "# The dot product should be zero here, as the two eigenvectors are orthogonal\n",
    "# for any symmetric matrix. \n",
    "print(\"The dot product of the two eigenvectors is: \", float(numpy.transpose(vEigVectors[:,0])*vEigVectors[:,1])) "
   ]
  },
  {
   "cell_type": "code",
   "execution_count": null,
   "metadata": {},
   "outputs": [],
   "source": [
    "###### EIGENVALUE PROBLEM FOR A 3 x 3 MATRIX ######\n",
    "###### Lecture 5, slide 37 ######\n",
    "mM = numpy.matrix([[2,2,1],\n",
    "                   [1,3,1],\n",
    "                   [1,2,2]])\n",
    "(sEigValues, vEigVectors) = numpy.linalg.eig(mM)\n",
    "for i in range(0, len(sEigValues)):\n",
    "    print(\"Eigenvalue #\", str(i+1), \" is: \", sEigValues[i]) \n",
    "    print(\"The corresponding eigenvector is:\\n\", vEigVectors[:,i]) \n",
    "## NOTE: If the values of x1, x2 or x3 are 'free' (i.e. can be chosen arbitrarily to obtain\n",
    "## an independent eigenvector), NumPy does not necessarily choose values of 0 or 1, which\n",
    "## is why the eigenvectors printed out here are different from those in your notes.\n",
    "## They still satisfy the equation (A - lambda*I)x = 0 and are still independent eigenvectors."
   ]
  }
 ],
 "metadata": {
  "kernelspec": {
   "display_name": "Python 3",
   "language": "python",
   "name": "python3"
  },
  "language_info": {
   "codemirror_mode": {
    "name": "ipython",
    "version": 3
   },
   "file_extension": ".py",
   "mimetype": "text/x-python",
   "name": "python",
   "nbconvert_exporter": "python",
   "pygments_lexer": "ipython3",
   "version": "3.7.6"
  }
 },
 "nbformat": 4,
 "nbformat_minor": 4
}
