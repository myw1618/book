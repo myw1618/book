{
 "cells": [
  {
   "cell_type": "markdown",
   "metadata": {},
   "source": [
    "# Fourier Series \n",
    "The Fourier series enables us to represent $periodic$ functions as an infinite sum. Particularly, it represents functions as a sum of weighted $sin$ and $cos$ functions.\n",
    "\n",
    "This is possible, since the sin and cos functions form a complete orthogonal set ($basis functions$). The Fourier series for a function $f(x)$ with a period of 2${\\pi}$ is given by:\n",
    "\n",
    "$$f(x) = \\frac{a_0}{2} + \\sum \\limits _{n=1} ^{\\infty}a_n \\cos(nx) + \\sum \\limits _{n=1} ^{\\infty}b_n \\sin(nx)$$\n",
    "\n",
    "where $a_n$ and $b_n$ are a set of coeffiecients."
   ]
  },
  {
   "cell_type": "markdown",
   "metadata": {},
   "source": [
    "## Fourier Coeffiecients\n",
    "Using the orthogonality property of the cos and sin functions we can determine an expression for the coefficients of the Fourier Series. By integrating the Fourier Series over the interval [-${\\pi}$,${\\pi}$], we can determine an expression for $a_0$. Over this interval, the sums will vanish, as we are intergrating the sin and cos functions over a period. Thus, we are left with\n",
    "\n",
    "$$\\int_{-{\\pi}}^{\\pi} f(x)dx = \\int_{-{\\pi}}^{\\pi}\\frac{a_0}{2}dx$$\n",
    "\n",
    "Therefore, by carrying out the integral we find the expression for $a_0$ to be\n",
    "\n",
    "$$a_0 = \\frac{1}{\\pi} \\int_{-{\\pi}}^{\\pi} f(x)dx $$\n",
    "\n",
    "From this, its is clear that the $\\frac{a_0}{2}$ term in the series represents the mean of the function $f(x)$ over the period. In order to determine the $a_n$ coefficients we must multiply the series by $\\cos(mx)$, for a positive integer $m$, and integrate over the period. The series becomes\n",
    "\n",
    "$$\\int_{-{\\pi}}^{\\pi}f(x)\\cos(mx)dx = \\frac{a_0}{2}\\int_{-{\\pi}}^{\\pi}\\cos(mx)dx + \\sum \\limits _{n=1} ^{\\infty}\\int_{-{\\pi}}^{\\pi}a_n\\cos(nx)\\cos(mx)dx + \\sum \\limits _{n=1} ^{\\infty}\\int_{-{\\pi}}^{\\pi}b_n\\sin(nx)\\cos(mx)dx$$\n",
    "\n",
    "Due to the orthogonality property of the $\\sin$ and $\\cos$ functions, the only term that does not vanish on the right-hand side is $\\int_{-{\\pi}}^{\\pi}a_n\\cos(nx)\\cos(mx)dx$ for $m=n$. Solving for $a_n$ we get\n",
    "\n",
    "$$a_n = \\frac{1}{\\pi} \\int_{-{\\pi}}^{\\pi} f(x)\\cos(nx)dx \\,\\,\\,\\,n=1, 2, ...$$\n",
    "\n",
    "This is consistent with the expresion for $a_0$ for $n=0$. Thus the 1/2 factor included on the $a_0$ term is there to maintain this consistency between $a_0$ and $a_n$.\n",
    "\n",
    "To determine the values of the $b_n$ coefficients we multiply by $\\sin(mx)$. Similarly to the $a_n$ coefficients, due to the orthogonality property, the only term that does not vanish on the right-hand side is $\\int_{-{\\pi}}^{\\pi}b_n\\sin(nx)\\sin(mx)dx$ for $m=n$. Thus, solving for $b_n$\n",
    "\n",
    "$$b_n = \\frac{1}{\\pi} \\int_{-{\\pi}}^{\\pi} f(x)\\sin(nx)dx \\,\\,\\,\\,n=1, 2, ...$$"
   ]
  },
  {
   "cell_type": "markdown",
   "metadata": {},
   "source": [
    "## Square Wave and Gibbs Phenomenon\n",
    "Now that we have introduced the Fourier Series lets look at an example, the positive square wave. This is defined as\n",
    "\n",
    "$$\n",
    "f(x) = \\left\\{\n",
    "    \\begin{array}\\\\\n",
    "        0 & \\mbox{if } \\ -{\\pi} \\leq x < 0 \\\\\n",
    "        1 & \\mbox{if } \\ 0 < x < {\\pi},\\\\\n",
    "    \\end{array}\n",
    "\\right.\n",
    "$$\n",
    "\n",
    "Lets plot this function."
   ]
  },
  {
   "cell_type": "code",
   "execution_count": 15,
   "metadata": {},
   "outputs": [
    {
     "data": {
      "image/png": "[encoded data removed]",
      "text/plain": [
       "<Figure size 504x288 with 1 Axes>"
      ]
     },
     "metadata": {
      "needs_background": "light"
     },
     "output_type": "display_data"
    }
   ],
   "source": [
    "import numpy as np\n",
    "import matplotlib.pyplot as plt\n",
    "import matplotlib.pylab as pylab\n",
    "params = {'font.size' : 16 }\n",
    "pylab.rcParams.update(params)\n",
    "\n",
    "def square(x):\n",
    "    y = np.zeros(len(x))\n",
    "    for i in range(len(x)):\n",
    "        if (x[i]/(2*np.pi)) % 1 < 0.50:\n",
    "            y[i] = 1.0\n",
    "    return y\n",
    "\n",
    "N = 1000\n",
    "x = np.linspace(-10.0, 10.0, N)\n",
    "\n",
    "plt.figure(figsize=(7,4))\n",
    "\n",
    "ax=plt.subplot(1, 1, 1)\n",
    "        \n",
    "plt.plot(x, square(x))\n",
    "ax.grid(True)\n",
    "ax.set_ylim(-0.2, 1.2)\n",
    "a = plt.xlabel('x')"
   ]
  },
  {
   "cell_type": "markdown",
   "metadata": {},
   "source": [
    "Now lets try to express the square wave as a Fourier Series. Firstly we need to calculate the coefficients using the above expressions. Carrying out the calculations we find\n",
    "\n",
    "$$a_0 = \\frac{1}{\\pi} \\int_{0}^{\\pi} dx = 1 $$\n",
    "\n",
    "$$a_n = \\frac{1}{\\pi} \\int_{0}^{\\pi} \\cos(nx)dx = 0, \\,\\,\\,\\,n\\geq 1$$\n",
    "\n",
    "$$\n",
    "b_n = \\frac{1}{\\pi} \\int_{0}^{\\pi} \\sin(nx)dx = \\left\\{\n",
    "    \\begin{array}\\\\\n",
    "        \\frac{2}{n{\\pi}} & \\mbox{if n is odd} \\\\\n",
    "        0 & \\mbox{if n is even}\\\\\n",
    "    \\end{array}\n",
    "\\right. \n",
    "$$\n",
    "\n",
    "Now lets formulate the Fourier Series for the positive square wave. First lets define the Fourier Series and its terms"
   ]
  },
  {
   "cell_type": "code",
   "execution_count": 16,
   "metadata": {},
   "outputs": [],
   "source": [
    "#define the cos and sin terms of the Fourier series\n",
    "def cosTerm(n):\n",
    "    # Always zero except for n=0\n",
    "    if n==0: return 1.0\n",
    "    return 0.\n",
    "\n",
    "def sinTerm(n):\n",
    "\n",
    "    if n%2: # n modulo 2 = 1 (True) then Odd\n",
    "        ret = 2. / (n* np.pi)\n",
    "    else:\n",
    "        ret = 0.\n",
    "    return ret\n",
    "\n",
    "def fourier(n,x):\n",
    "    #a_0 term, remember 1/2\n",
    "    sum = cosTerm(0)/2.0 * np.ones(len(x))\n",
    "    \n",
    "    #all other terms\n",
    "    for i in range(1, n+1):\n",
    "        sum += sinTerm(i)*np.sin(i*x) + cosTerm(i)*np.cos(i*x)\n",
    "    return sum"
   ]
  },
  {
   "cell_type": "markdown",
   "metadata": {},
   "source": [
    "Now lets plot the Fourier Series for $ 0 \\leq n \\leq 100$"
   ]
  },
  {
   "cell_type": "code",
   "execution_count": 43,
   "metadata": {},
   "outputs": [
    {
     "data": {
      "application/vnd.jupyter.widget-view+json": {
       "model_id": "cd7d1c8ecf86407784a1a8cfd1ce6773",
       "version_major": 2,
       "version_minor": 0
      },
      "text/plain": [
       "interactive(children=(IntSlider(value=0, description='Terms', step=10), Output()), _dom_classes=('widget-inter…"
      ]
     },
     "metadata": {},
     "output_type": "display_data"
    }
   ],
   "source": [
    "def squarePlot(n):\n",
    "    \n",
    "    N = n\n",
    "    x = np.linspace(-10.0, 10.0, 10000)\n",
    "    plt.figure(figsize=(7,4))\n",
    "    ax=plt.subplot(1, 1, 1)\n",
    "    plt.plot(x, fourier(N,x))\n",
    "    ax.set_ylim(-0.2, 1.2)\n",
    "    ax.grid(True)\n",
    "    plt.xlabel('x')\n",
    "    plt.legend(['n = %d' % N])\n",
    "\n",
    "#make a slider widget using the function\n",
    "import ipywidgets as widgets\n",
    "widgets.interact(squarePlot, n=widgets.IntSlider(description='Terms',value=0,min=0,max=100,step=10))\n",
    "plt.show()"
   ]
  },
  {
   "cell_type": "markdown",
   "metadata": {},
   "source": [
    "As expected, increasing the number of terms, $n$, results in the Fourier Series approaching closer to the true shape of the square wave. However, an overshoot (undershoot) and a ringing effect is evident on the plots. This occurs when a truncated Fourier Series is used to approximate a function with discontinuities, such as the function above. In fact, increasing the number of terms will not decrease the amplitude of the overshoot. The effect is present for all functions with discontinuities and is known as the *Gibbs phenomenon*.\n",
    "\n",
    "So why do Gibbs phenomena occur? A discontinuity represents a change that takes place in zero time and thus contains infinite high frequencies. By approximating this with a truncated Fourier Series we are including only finite frequencies, which is not enough to properly describe the discontinuity, resulting in the ringing effect around the discontinuity, where the first ring has the largest amplitude."
   ]
  },
  {
   "cell_type": "markdown",
   "metadata": {},
   "source": [
    "## Fourier Series of Odd and Even Functions\n",
    "Two classes of functions that will be of great use when dealing with Fourier Series are odd and even functions. In this section we will demonstrate how using the properties of odd and even functions can simplify the Fourier Series of a function.\n",
    "\n",
    "For a symmetric interval around zero we have\n",
    "\n",
    "$$f(x) = f(-x) \\,\\, \\mbox{if } f \\, \\mbox{is} \\,\\mbox{even}$$\n",
    "$$f(x) = -f(-x) \\,\\, \\mbox{if } f \\, \\mbox{is} \\,\\mbox{odd}$$\n",
    "\n",
    "From these definitions, it is clear that even functions are symmetric around the y axis, eg. $\\cos(x)$ while odd functions are antisymmetric around the y axis eg. $\\sin(x)$. The following properties of odd and even functions are very useful in Fourier analysis.\n",
    "- The product of two odd functions is an even function, $o_1(x)o_2(x) = e(x)$.\n",
    "\n",
    "\n",
    "- The product of two even functions is an even function, $e_1(x)e_2(x) = e(x)$.\n",
    "\n",
    "\n",
    "- The product of an even and an odd function is an odd function, $e_1(x)o_1(x) = o(x)$.\n",
    "\n",
    "\n",
    "- The integral of an odd function on a *symmetric* interval is zero, $ \\int_{-a}^{a} o(x)dx = 0$\n",
    "\n",
    "\n",
    "- The integral of an even function on a *symmetric* interval is twice the integral of the postive part, $ \\int_{-a}^{a} e(x)dx = 2\\int_{0}^{a} e(x)dx$\n",
    "\n",
    "Since $\\cos(nx)$ is even and $\\sin(nx)$ is odd, depending on the nature of $f(x)$ we may be able to eliminate some terms from the Fourier series. Lets use the above example, the positive square wave. The square wave is an odd function, thus the term $f(x)\\cos(nx)$  must be odd. Thus, looking at the expression for $a_n$ and the properties of odd functions, we can see that $a_n = 0$ for all $n > 0$, which agrees with what we have found before. Thus, the properties of odd and even functions can allow us to eliminate one of the infinite sums in the Fourier Series, making them very useful in Fourier analysis."
   ]
  },
  {
   "cell_type": "markdown",
   "metadata": {},
   "source": [
    "## Changing the Interval\n",
    "A function need not be periodic around the [-${\\pi}$,${\\pi}$] interval, in order to be expressed as a Fourier Series. Through a simple change of variable we can express a periodic function across any interval as a Fourier Series. For a function $f(x)$ with a period $p=2L$, we need to scale the x-axis by a variable $u$ where,\n",
    "\n",
    "$$u = \\frac{{\\pi}x}{L}$$\n",
    "\n",
    "Taking into consideration a new function $g(u)$, where $g(u)=f(x)$, we can write the Fourier Series for $g(u)$ as\n",
    "\n",
    "$$g(u) = \\frac{a_0}{2} + \\sum \\limits _{n=1} ^{\\infty}a_n \\cos(nu) + \\sum \\limits _{n=1} ^{\\infty}b_n \\sin(nu)$$\n",
    "\n",
    "Thus, by changing out variable back to $x$ we can write the Fourier Series of $f(x)$ as\n",
    "\n",
    "$$f(x) = \\frac{a_0}{2} + \\sum \\limits _{n=1} ^{\\infty}a_n \\cos(\\frac{n{\\pi}}{L}x) + \\sum \\limits _{n=1} ^{\\infty}b_n \\sin(\\frac{n{\\pi}}{L}x)$$\n",
    "\n",
    "Using $\\frac{du}{dx} = \\frac{{\\pi}}{L}$ we can determine the coefficients $a_0$, $a_n$ and $b_n$. These are given by\n",
    "\n",
    "$$a_0 = \\frac{1}{L} \\int_{-L}^{L} f(x)dx $$\n",
    "\n",
    "$$a_n = \\frac{1}{L} \\int_{-L}^{L} f(x)\\cos(\\frac{n{\\pi}}{L}x)dx \\,\\,\\,\\,n=1, 2, ...$$\n",
    "\n",
    "$$b_n = \\frac{1}{L} \\int_{-L}^{L} f(x)\\sin(\\frac{n{\\pi}}{L}x)dx \\,\\,\\,\\,n=1, 2, ...$$\n",
    "\n",
    "Using these expressions we can express periodic functions of any period as Fourier Series. "
   ]
  },
  {
   "cell_type": "markdown",
   "metadata": {},
   "source": [
    "## References:\n",
    "Material used in this notebook was based on the Fourier Series lecture content of Maths Methods 2 module provided by the Earth Science and Engineering Department and on the \"Fourier Transforms\" course by professor Carlo Contaldi provided by the Physics Department.\n"
   ]
  }
 ],
 "metadata": {
  "kernelspec": {
   "display_name": "Python 3",
   "language": "python",
   "name": "python3"
  },
  "language_info": {
   "codemirror_mode": {
    "name": "ipython",
    "version": 3
   },
   "file_extension": ".py",
   "mimetype": "text/x-python",
   "name": "python",
   "nbconvert_exporter": "python",
   "pygments_lexer": "ipython3",
   "version": "3.7.6"
  }
 },
 "nbformat": 4,
 "nbformat_minor": 2
}
