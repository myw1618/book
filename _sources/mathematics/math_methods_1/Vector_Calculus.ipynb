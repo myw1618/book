{
 "cells": [
  {
   "cell_type": "code",
   "execution_count": null,
   "metadata": {},
   "outputs": [],
   "source": [
    "## This cell just imports necessary modules\n",
    "%pylab notebook\n",
    "from sympy import sin, cos, exp, Function, Symbol, diff, integrate, solve\n",
    "from mpl_toolkits import mplot3d"
   ]
  },
  {
   "cell_type": "markdown",
   "metadata": {},
   "source": [
    "# Scalar fields\n",
    "\n",
    "Lecture 3, slide 3\n",
    "\n",
    "Define a scalar field"
   ]
  },
  {
   "cell_type": "code",
   "execution_count": null,
   "metadata": {},
   "outputs": [],
   "source": [
    "# Create a mesh of 2D Cartesian coordinates, where -5 <= x <= 5 and -5 <= y <= 5\n",
    "x = numpy.arange(-5., 5., 0.25)\n",
    "y = numpy.arange(-5., 5., 0.25)\n",
    "X, Y = numpy.meshgrid(x, y)\n",
    "\n",
    "# Computes the value of the scalar field at each (x,y) coordinate, and stores it in Z.\n",
    "f = 16 - 2*(X**2) - Y**2 + X*Y"
   ]
  },
  {
   "cell_type": "markdown",
   "metadata": {},
   "source": [
    "Plot a contour plot of the scalar field $h(x,y)=16-2x^{2}-y^{2}+xy$ using pylab"
   ]
  },
  {
   "cell_type": "code",
   "execution_count": null,
   "metadata": {},
   "outputs": [],
   "source": [
    "fig = pylab.figure()\n",
    "contour_plot = pylab.contour(X, Y, f)\n",
    "pylab.clabel(contour_plot, inline=1)\n",
    "pylab.xlabel(\"x\")\n",
    "pylab.ylabel(\"y\")"
   ]
  },
  {
   "cell_type": "markdown",
   "metadata": {},
   "source": [
    "Plot a surface plot of the scalar field $h(x,y)=16-2x^{2}-y^{2}+xy$ using pylab"
   ]
  },
  {
   "cell_type": "code",
   "execution_count": null,
   "metadata": {},
   "outputs": [],
   "source": [
    "fig = pylab.figure()\n",
    "ax = pylab.axes(projection='3d')\n",
    "ax.plot_surface(X, Y, f, cmap='gray', edgecolor = 'k', lw=0.25)\n",
    "ax.set_xlabel(\"x\")\n",
    "ax.set_ylabel(\"y\")\n",
    "ax.set_zlabel(\"h\")"
   ]
  },
  {
   "cell_type": "markdown",
   "metadata": {},
   "source": [
    "Plot the surface and contour plot of the scalar field $h(x,y)=16-2x^{2}-y^{2}+xy$ using pylab"
   ]
  },
  {
   "cell_type": "code",
   "execution_count": null,
   "metadata": {},
   "outputs": [],
   "source": [
    "fig = pylab.figure()\n",
    "ax = pylab.axes(projection='3d')\n",
    "ax.contour3D(X, Y, f, 10, colors = 'k', linestyles='-')\n",
    "ax.plot_surface(X, Y, f, cmap='gray', alpha=0.5)\n",
    "ax.set_xlabel(\"x\")\n",
    "ax.set_ylabel(\"y\")\n",
    "ax.set_zlabel(\"h\")"
   ]
  },
  {
   "cell_type": "markdown",
   "metadata": {},
   "source": [
    "# Vector fields\n",
    "\n",
    "Lecture 3, slide 4\n",
    "\n",
    "Define a vector field, and plot the vector field $v=[-x^2, -y^2]$ on a quiver plot using pylab.quiver"
   ]
  },
  {
   "cell_type": "code",
   "execution_count": null,
   "metadata": {},
   "outputs": [],
   "source": [
    "# Create a mesh of 2D Cartesian coordinates, where -5 <= x <= 5 and -5 <= y <= 5\n",
    "x = numpy.arange(-5.0, 5.0, 0.25)\n",
    "y = numpy.arange(-5.0, 5.0, 0.25)\n",
    "X, Y = numpy.meshgrid(x, y)\n",
    "\n",
    "# Computes the value of the vector field at each (x,y) coordinate.\n",
    "# Z1 and Z2 hold the i and j component of the vector field respectively.\n",
    "Z1 = -(X**2)\n",
    "Z2 = -(Y**2)\n",
    "\n",
    "fig = pylab.figure()\n",
    "plt = pylab.quiver(X,Y,Z1,Z2,angles='xy',scale=1000,color='r')\n",
    "pylab.quiverkey(plt,-5,5.5,50,\"50 units\",coordinates='data',color='r')\n",
    "pylab.xlabel(\"x\")\n",
    "pylab.ylabel(\"y\")"
   ]
  },
  {
   "cell_type": "markdown",
   "metadata": {},
   "source": [
    "# Gradients\n",
    "\n",
    "Lecture 3, slide 6\n",
    "\n",
    "Computing the gradient on scalar field using sympy.diff, and finding where gradient=0 using sympy.solve "
   ]
  },
  {
   "cell_type": "code",
   "execution_count": null,
   "metadata": {},
   "outputs": [],
   "source": [
    "# Define the independent variables using Symbol\n",
    "x = Symbol('x')\n",
    "y = Symbol('y')\n",
    "# Define the function f(x,y)\n",
    "f = 16 - 2*(x**2) - y**2 + x*y\n",
    "\n",
    "# The gradient of f (a scalar field) is a vector field:\n",
    "grad_f = [diff(f,x), diff(f,y)]\n",
    "print(\"The gradient of the scalar field f(x,y) = 16 - 2*(x**2) - y**2 + x*y is: \")\n",
    "print(grad_f)\n",
    "\n",
    "print(\"The point where the gradient is zero is: \")\n",
    "# We solve a simultaneous equation such that grad_f[0] == 0 and grad_f[1] == 0\n",
    "print(solve([grad_f[0], grad_f[1]], [x, y]))"
   ]
  },
  {
   "cell_type": "markdown",
   "metadata": {},
   "source": [
    "Quiver plot of the gradient of the scalar field.\n",
    "\n",
    "Gradient $v=[-4x+y, x-2y]$"
   ]
  },
  {
   "cell_type": "code",
   "execution_count": null,
   "metadata": {
    "tags": [
     "hide-input"
    ]
   },
   "outputs": [],
   "source": [
    "x = numpy.arange(-5., 5., 0.25)\n",
    "y = numpy.arange(-5., 5., 0.25)\n",
    "X, Y = numpy.meshgrid(x, y)\n",
    "\n",
    "Z1 = -4*X + Y\n",
    "Z2 = X - 2*Y\n",
    "\n",
    "fig = pylab.figure()\n",
    "plt = pylab.quiver(X,Y,Z1,Z2,angles='xy',scale=750,color='r')\n",
    "pylab.quiverkey(plt,-5,5.5,50,\"50 units\",coordinates='data',color='r')\n",
    "pylab.xlabel(\"x\")\n",
    "pylab.ylabel(\"y\")"
   ]
  },
  {
   "cell_type": "markdown",
   "metadata": {},
   "source": [
    "# Directional derivatives\n",
    "\n",
    "Lecture 3, slide 12\n",
    "\n",
    "Computing the gradient of a scalar field using sympy.diff, the gradient at a specific point using evalf, and the gradient at a specific point towards the direction of a unit vector using numpy.dot"
   ]
  },
  {
   "cell_type": "code",
   "execution_count": null,
   "metadata": {},
   "outputs": [],
   "source": [
    "# Define the independent variables using Symbol\n",
    "x = Symbol('x')\n",
    "y = Symbol('y')\n",
    "# Define the function h(x,y)\n",
    "h = 3*x*(y**2)\n",
    "\n",
    "# The gradient of h\n",
    "grad_h = [diff(h,x), diff(h,y)]\n",
    "print(\"The gradient of h(x,y) = 3*x*(y**2) is: \")\n",
    "print(grad_h, \"\\n\")\n",
    "\n",
    "print(\"At the point (1,2), the gradient is: \")\n",
    "# Use evalf to evaluate a function, with subs to substitute in specific values for x and y\n",
    "grad_h_at_point = [grad_h[0].evalf(subs={x:1, y:2}), grad_h[1].evalf(subs={x:1, y:2})]\n",
    "print(grad_h_at_point, \"\\n\")\n",
    "\n",
    "# Find the unit vector in the direction 3i + 4j\n",
    "a = numpy.array([3, 4])\n",
    "a_magnitude = numpy.linalg.norm(a, ord=2)\n",
    "unit_a = a/a_magnitude\n",
    "\n",
    "print(\"The unit vector in the direction 3i + 4j is:\")\n",
    "print(unit_a, \"\\n\")\n",
    "\n",
    "# Dot product to get the directional derivative \n",
    "# (i.e. the gradient of h in the direction of the vector unit_a)\n",
    "slope = numpy.dot(grad_h_at_point, unit_a)\n",
    "print(\"The slope of h in the direction \", unit_a, \" at (1,2) is: \", slope)"
   ]
  },
  {
   "cell_type": "markdown",
   "metadata": {},
   "source": [
    "Surface plot of $h(x,y)=3xy^2$"
   ]
  },
  {
   "cell_type": "code",
   "execution_count": null,
   "metadata": {
    "tags": [
     "hide-input"
    ]
   },
   "outputs": [],
   "source": [
    "# Create a mesh of 2D Cartesian coordinates, where -5 <= x <= 5 and -5 <= y <= 5\n",
    "x = numpy.arange(0., 3., 0.1)\n",
    "y = numpy.arange(0., 3., 0.1)\n",
    "X, Y = numpy.meshgrid(x, y)\n",
    "h = 3 * X * Y**2\n",
    "\n",
    "fig = pylab.figure()\n",
    "ax = pylab.axes(projection='3d')\n",
    "ax.plot_surface(X, Y, h, cmap=cm.coolwarm, edgecolor = 'none', lw=0.25)\n",
    "ax.set_xlabel(\"x\")\n",
    "ax.set_ylabel(\"y\")\n",
    "ax.set_zlabel(\"h(x,y)\")"
   ]
  },
  {
   "cell_type": "markdown",
   "metadata": {},
   "source": [
    "# Divergence\n",
    "\n",
    "Lecture 3, slide 15\n",
    "\n",
    "Computing divergence of a vector field using sympy.diff"
   ]
  },
  {
   "cell_type": "code",
   "execution_count": null,
   "metadata": {},
   "outputs": [],
   "source": [
    "# Define the independent variables using Symbol\n",
    "x = Symbol('x')\n",
    "y = Symbol('y')\n",
    "# Define the vector field v(x,y)\n",
    "v = [-(x**2), -(y**2)]\n",
    "\n",
    "# Compute the divergence using diff. \n",
    "# NOTE 1: A neater way would be to use SymPy's dot function. \n",
    "# However, there doesn't seem to be a way of defining a gradient vector\n",
    "# in SymPy without specifying the function we wish to operate on,\n",
    "# so we'll compute the divergence the long way.\n",
    "# NOTE 2: this is the dot product of the gradient vector and v,\n",
    "# which will always result in a scalar.\n",
    "# d/dx is applied to the first component of v (i.e. v[0]),\n",
    "# d/dy is applied to the second component of v (i.e. v[1])\n",
    "divergence = diff(v[0],x) + diff(v[1],y)\n",
    "print(\"The divergence of the vector field \", v, \" is: \")\n",
    "print(divergence)"
   ]
  },
  {
   "cell_type": "markdown",
   "metadata": {},
   "source": [
    "Surface plot of the divergence of the vector field.\n",
    "\n",
    "Divergence $h(x,y)=-2x-2y$"
   ]
  },
  {
   "cell_type": "code",
   "execution_count": null,
   "metadata": {
    "tags": [
     "hide-input"
    ]
   },
   "outputs": [],
   "source": [
    "# Create a mesh of 2D Cartesian coordinates, where -5 <= x <= 5 and -5 <= y <= 5\n",
    "x = numpy.arange(-5., 5., 0.25)\n",
    "y = numpy.arange(-5., 5., 0.25)\n",
    "X, Y = numpy.meshgrid(x, y)\n",
    "\n",
    "h = -2 * X - 2 * Y\n",
    "\n",
    "fig = pylab.figure()\n",
    "ax = pylab.axes(projection='3d')\n",
    "ax.plot_surface(X, Y, h, cmap=cm.coolwarm, edgecolor = 'none', lw=0.25)\n",
    "ax.set_xlabel(\"x\")\n",
    "ax.set_ylabel(\"y\")\n",
    "ax.set_zlabel(\"h\")"
   ]
  },
  {
   "cell_type": "markdown",
   "metadata": {},
   "source": [
    "# Curl\n",
    "\n",
    "Lecture 3, slide 19\n",
    "\n",
    "Compute the curl of a vector field using sympy.diff, and the curl at a specific point using evalf"
   ]
  },
  {
   "cell_type": "code",
   "execution_count": null,
   "metadata": {},
   "outputs": [],
   "source": [
    "# Define the independent variables using Symbol\n",
    "x = Symbol('x')\n",
    "y = Symbol('y')\n",
    "# Define the vector field v(x,y)\n",
    "v = [cos(pi*y), -cos(pi*x)]\n",
    "\n",
    "# Compute the curl using diff.\n",
    "# Remember: the curl of a vector always results in another vector.\n",
    "# The first two components of the curl are zero because v has a zero k-component.\n",
    "curl = [0, 0, diff(v[1], x) - diff(v[0], y)]\n",
    "print(\"The curl of the vector field \", v, \" is: \")\n",
    "print(curl)\n",
    "print()\n",
    "print(\"At the point (0, -0.5), the curl is: \")\n",
    "print([0, 0, curl[2].evalf(subs={x:0, y:-0.5})])"
   ]
  },
  {
   "cell_type": "markdown",
   "metadata": {},
   "source": [
    "Quiver plot of vector field $v=[\\cos(\\pi y), -\\cos(\\pi x)]$"
   ]
  },
  {
   "cell_type": "code",
   "execution_count": null,
   "metadata": {
    "tags": [
     "hide-input"
    ]
   },
   "outputs": [],
   "source": [
    "x = numpy.arange(-2., 2., 0.2)\n",
    "y = numpy.arange(-2., 2., 0.2)\n",
    "X, Y = numpy.meshgrid(x, y)\n",
    "\n",
    "# Computes the value of the vector field at each (x,y) coordinate.\n",
    "# Z1 and Z2 hold the i and j component of the vector field respectively.\n",
    "Z1 = numpy.cos(pi*Y)\n",
    "Z2 = -numpy.cos(pi*X)\n",
    "\n",
    "fig = pylab.figure()\n",
    "plt = pylab.quiver(X,Y,Z1,Z2,angles='xy',scale=25,color='r')\n",
    "pylab.xlabel(\"x\")\n",
    "pylab.ylabel(\"y\")"
   ]
  },
  {
   "cell_type": "markdown",
   "metadata": {},
   "source": [
    "Surface plot of the magnitude of z of the vector field.\n",
    "\n",
    "Curl $v=[0, 0, \\pi \\sin(\\pi x)+\\pi \\sin(\\pi y)]$"
   ]
  },
  {
   "cell_type": "code",
   "execution_count": null,
   "metadata": {
    "tags": [
     "hide-input"
    ]
   },
   "outputs": [],
   "source": [
    "x = numpy.arange(-2, 2, 0.1)\n",
    "y = numpy.arange(-2, 2, 0.1)\n",
    "X, Y = numpy.meshgrid(x, y)\n",
    "\n",
    "Z = pi*numpy.sin(pi*X) + pi*numpy.sin(pi*Y)\n",
    "\n",
    "fig = pylab.figure()\n",
    "ax = pylab.axes(projection='3d')\n",
    "ax.plot_surface(X, Y, Z, cmap=cm.coolwarm, edgecolor = 'none', lw=0.25)\n",
    "ax.set_xlabel(\"x\")\n",
    "ax.set_ylabel(\"y\")\n",
    "ax.set_zlabel(\"z magnitude\")"
   ]
  },
  {
   "cell_type": "markdown",
   "metadata": {},
   "source": [
    "# Laplacian\n",
    "\n",
    "Lecture 3, slide 22\n",
    "\n",
    "Compute Laplacian of a scalar field using sympy.diff"
   ]
  },
  {
   "cell_type": "code",
   "execution_count": null,
   "metadata": {},
   "outputs": [],
   "source": [
    "# Define the independent variables using Symbol\n",
    "x = Symbol('x')\n",
    "y = Symbol('y')\n",
    "# Define the scalar field f(x,y)\n",
    "f = x*y + 3*exp(x*y)\n",
    "\n",
    "# In SymPy we can specify the order of the derivative as an optional argument\n",
    "# (in this case, it is '2' to get the second derivative).\n",
    "print(\"The Laplacian of \", f, \" is: \")\n",
    "laplacian = diff(f, x, 2) + diff(f, y, 2)\n",
    "print(laplacian)"
   ]
  },
  {
   "cell_type": "markdown",
   "metadata": {},
   "source": [
    "Surface plot of scalar field $h(x,y)=xy+3\\exp(xy)$"
   ]
  },
  {
   "cell_type": "code",
   "execution_count": null,
   "metadata": {},
   "outputs": [],
   "source": [
    "x = numpy.arange(-2, 2, 0.1)\n",
    "y = numpy.arange(-2, 2, 0.1)\n",
    "X, Y = numpy.meshgrid(x, y)\n",
    "\n",
    "h = X * Y + 3 * numpy.exp(X*Y)\n",
    "\n",
    "fig = pylab.figure()\n",
    "ax = pylab.axes(projection='3d')\n",
    "ax.plot_surface(X, Y, h, cmap=cm.coolwarm, edgecolor = 'none', lw=0.25)\n",
    "ax.set_xlabel(\"x\")\n",
    "ax.set_ylabel(\"y\")\n",
    "ax.set_zlabel(\"h\")"
   ]
  },
  {
   "cell_type": "markdown",
   "metadata": {},
   "source": [
    "Surface plot of Laplacian of scalar field. $$\\Delta h(x,y)=3x^2\\exp(xy)+3y^2\\exp(xy)$$"
   ]
  },
  {
   "cell_type": "code",
   "execution_count": null,
   "metadata": {
    "tags": [
     "hide-input"
    ]
   },
   "outputs": [],
   "source": [
    "x = numpy.arange(-2, 2, 0.1)\n",
    "y = numpy.arange(-2, 2, 0.1)\n",
    "X, Y = numpy.meshgrid(x, y)\n",
    "\n",
    "h = 3*X**2*numpy.exp(X*Y) + 3*Y**2*numpy.exp(X*Y)\n",
    "\n",
    "fig = pylab.figure()\n",
    "ax = pylab.axes(projection='3d')\n",
    "ax.plot_surface(X, Y, h, cmap=cm.coolwarm, edgecolor = 'none', lw=0.25)\n",
    "ax.set_xlabel(\"x\")\n",
    "ax.set_ylabel(\"y\")\n",
    "ax.set_zlabel(\"h\")"
   ]
  }
 ],
 "metadata": {
  "celltoolbar": "Tags",
  "hide_input": false,
  "kernelspec": {
   "display_name": "Python 3",
   "language": "python",
   "name": "python3"
  },
  "language_info": {
   "codemirror_mode": {
    "name": "ipython",
    "version": 3
   },
   "file_extension": ".py",
   "mimetype": "text/x-python",
   "name": "python",
   "nbconvert_exporter": "python",
   "pygments_lexer": "ipython3",
   "version": "3.7.6"
  },
  "toc": {
   "base_numbering": 1,
   "nav_menu": {},
   "number_sections": true,
   "sideBar": true,
   "skip_h1_title": false,
   "title_cell": "Table of Contents",
   "title_sidebar": "Contents",
   "toc_cell": false,
   "toc_position": {},
   "toc_section_display": true,
   "toc_window_display": false
  }
 },
 "nbformat": 4,
 "nbformat_minor": 2
}
