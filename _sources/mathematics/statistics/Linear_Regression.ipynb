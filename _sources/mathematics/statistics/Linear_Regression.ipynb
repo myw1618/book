{
 "cells": [
  {
   "cell_type": "markdown",
   "metadata": {},
   "source": [
    "(linear_regress)=\n",
    "# Linear regression\n",
    "```{index} Linear regression\n",
    "```\n",
    "## Theory\n",
    "Linearity refers to a linear relationship between two or more variables. Linear regression aims to predict the dependent variable value (\\\\(y\\\\)) based on a given independent variable (\\\\(x\\\\)). Therefore, linear regression finds out a linear relationship between \\\\(x\\\\) and \\\\(y\\\\).\n",
    "\n",
    "With noisy data or multiple different measurements of \\\\(y\\\\) at a given value of \\\\(x\\\\), we may not be able to fit a function/curve that goes through all points exactly. Therefore, in linear regresssion the aim is to find a function that best approximates the data but does not necessarily go through all the points.\n",
    "\n",
    "### Simple linear regression\n",
    "Plotting the independent variable \\\\(x\\\\) on the x-axis and dependent variable \\\\(y\\\\) on the y-axis, linear regression gives us a straight line with equation:\n",
    "\\\\[y=b_0+b_1x,\\\\]\n",
    "where \\\\(b_0\\\\) is the intercept and \\\\(b_1\\\\) is the slope of the line. The \\\\(x\\\\) and \\\\(y\\\\) variables remain the same as the data points cannot change, however, the intercept (\\\\(b_0\\\\)) and slope (\\\\(b_1\\\\)) can be modified to obtain the most optimal value for the intercept and the slope. The linear regression algorithm fits multiple lines on the data points and returns the line that results in the smallest error. This may be achieved by minimising the sum of the squares of the differences to the data, known as a least squares approximation.\n",
    "\n",
    "[<img src=\"https://s3.amazonaws.com/acadgildsite/wordpress_images/Data+Science/2Linear+regression+Case+Study+2/blogs+LR+2+pic+1.png\" style=\"width:300px;\"/>](https://acadgild.com/blog/2linear-regression-case-study-2)\n",
    "\n",
    "Figure 1: Plot of scatter points in 2D space (blue) and line that results in the least error (red).\n",
    "\n",
    "### Multiple linear regression\n",
    "This can be extended to multiple linear regression where there are more than two variables. In this scenario, the dependent variable is dependent upon several independent variables \\\\(x= (x_1, …, x_n)\\\\) where \\\\(n\\\\) is the number of variables. You can assume a linear relationship between \\\\(x\\\\) and \\\\(y\\\\) with the regression equation:\n",
    "\\\\[y=b_0+b_1x_1+b_2x_2+b_3x_3+…b_nx_n +\\epsilon,\\\\]\n",
    "where \\\\(b_0,b_1,...,b_n\\\\) are the regression coefficients and \\\\(\\epsilon\\\\) is the random error.\n",
    "\n",
    "### Root-mean-square error\n",
    "```{index} Root-mean-square error\n",
    "```\n",
    "There are many methods to evaluate the performance of the linear regression algorithm. Two commonly used methods are the [root-mean-square error](https://en.wikipedia.org/wiki/Root-mean-square_deviation) (RMSE) and the [coefficient of determination](https://en.wikipedia.org/wiki/Coefficient_of_determination) (\\\\(R^2\\\\) score).\n",
    "\n",
    "RMSE is the square root of the sum of all errors squared divided by the number of values. The equation for the RMSE is:\n",
    "\\\\[RMSE=\\sqrt{\\frac{1}{n}\\sum_{i=1}^{n} (\\hat{y_i} - y_i)^2},\\\\]\n",
    "where \\\\(\\hat{y_1}, \\hat{y_2}, ..., \\hat{y_n}\\\\)  are the predicted values, \\\\(y_1, y_2, ..., y_n\\\\) are the observed values and \\\\(n\\\\) is the number of observations.\n",
    "\n",
    "### Coefficient of determination\n",
    "```{index} Coefficient of determination\n",
    "```\n",
    "The coefficient of determinaion is a statistical measure of how close the data are to the linear regression line.\n",
    "\n",
    "\\\\[R^2 = \\frac{\\text{Explained variation}}{\\text{Total variation}}.\\\\]\n",
    "\n",
    "\\\\(R^2\\\\) is therefore always between 0 and 100%. The higher the \\\\(R^2\\\\), the better the model fits the data. \n",
    "\n",
    "\\\\(R^2\\\\) is defined as follows:\n",
    "\\\\[R^2 = 1-\\frac{SS_r}{SS_t},\\\\\\\\\\\\\n",
    "SS_r=\\sum_{i=1}^{n} ({y_i} - \\hat{y_i})^2,\\\\\\\\\\\\\n",
    "SS_t=\\sum_{i=1}^{n} ({y_i} - \\bar{y_i})^2.\\\\]\n",
    "\n",
    "\\\\(SS_r\\\\) is the sum of squared regression and represents the variation explained by the linear regression model.\n",
    "\n",
    "\\\\(SS_t\\\\) is the sum of squared yotal and represents the total variation in the data.\n",
    "\n",
    "\\\\(y_1, y_2, ..., y_n\\\\) are the observed values, \\\\(\\hat{y_1}, \\hat{y_2}, ..., \\hat{y_n}\\\\)  are the predicted values of \\\\(y\\\\), and \\\\(\\bar{y_1}, \\bar{y_2}, ..., \\bar{y_n}\\\\) are the mean values of \\\\(y\\\\).\n",
    "\n",
    "Based on the above equation the \\\\(R^2\\\\) score usually ranges from 0 to 1, but can be negative if the model is completely wrong."
   ]
  },
  {
   "cell_type": "markdown",
   "metadata": {},
   "source": [
    "### Least  squares error calculation\n",
    "\n",
    "Least squares fitting minimises the sum of the squares of the differences between the data provided and the polynomial approximation. In other words it minimises the folowing expression:\n",
    "\n",
    "\\\\[E=\\sum_{i=0}^{N} (P(x_i) - y_i)^2,\\\\]\n",
    "\n",
    "where \\\\(E\\\\) is the squared error, \\\\(P(x_i)\\\\) is the value of the polynomial function that has been fit to the data evaluated at point \\\\(x_i\\\\), and \\\\(y_i\\\\) is the \\\\(i^{th}\\\\) data value.\n",
    "\n",
    "[<img src=\"https://upload.wikimedia.org/wikipedia/commons/thumb/b/b0/Linear_least_squares_example2.svg/440px-Linear_least_squares_example2.svg.png\" style=\"width:300px;\"/>](https://en.wikipedia.org/wiki/Linear_least_squares)\n",
    "\n",
    "Figure 2: A plot of the data points (red), the least squares line of best fit (blue), and the residuals (green).\n",
    "\n",
    "In this calulation we are computing the sum of the squares of the distances indicated in green in Figure 1.\n",
    "\n",
    "## Implementation of linear regression in Python\n",
    "### Simple example - submarine landslide size in the North Atlantic"
   ]
  },
  {
   "cell_type": "code",
   "execution_count": 1,
   "metadata": {
    "tags": [
     "hide_input"
    ]
   },
   "outputs": [],
   "source": [
    "# Some imports needed for linear regression in python\n",
    "\n",
    "%matplotlib inline\n",
    "import numpy as np\n",
    "import matplotlib.pyplot as plt\n",
    "import scipy.interpolate as si\n",
    "import scipy.stats as ss\n",
    "\n",
    "# Some default font sizes for plots\n",
    "plt.rcParams['font.size'] = 12\n",
    "plt.rcParams['font.family'] = 'sans-serif'\n",
    "plt.rcParams['font.sans-serif'] = ['Arial', 'Dejavu Sans']"
   ]
  },
  {
   "cell_type": "markdown",
   "metadata": {},
   "source": [
    "In this example we are attempting to fit a linear best fit line to the data `length_width.dat` in log-log space. This file contains the lengths and widths of submarine landslides in the North Atlantic basin from Fig. 7 in [Huhnerbach & Masson (2004)](https://www.sciencedirect.com/science/article/pii/S0025322704002774).\n",
    "\n",
    "Firstly, we will use `numpy.polyfit` in order to carry out the least squares error calculation to fit a linear polynomial. Next, we will use `scipy.stats.linregress` to perform linear regression using a [SciPy](https://www.scipy.org/) implementation of linear regression. Then, we will compare the slope and the intercept (the two coefficients in the linear polynomial) between the two approaches.\n",
    "\n",
    "The coefficient of determination is also determined by default from the linear regression calculation. To check these values agree we will also calculate the \\\\(R^2\\\\) value using the `numpy.polyfit` data.\n",
    "\n",
    "Let's define a function to evaluate squared error:"
   ]
  },
  {
   "cell_type": "code",
   "execution_count": 2,
   "metadata": {},
   "outputs": [],
   "source": [
    "# Function to evaluate the squared error\n",
    "def sqr_error(p, xi, yi):\n",
    "    \n",
    "    \"\"\"\"Function to evaluate the sum of square of errors\"\"\"\n",
    "    \n",
    "    # Compute the square of the differences\n",
    "    diff2 = (p(xi)-yi)**2\n",
    "    \n",
    "    # Return their sum\n",
    "    return diff2.sum()"
   ]
  },
  {
   "cell_type": "markdown",
   "metadata": {},
   "source": [
    "Open a file and store data in arrays:"
   ]
  },
  {
   "cell_type": "code",
   "execution_count": 3,
   "metadata": {},
   "outputs": [
    {
     "ename": "FileNotFoundError",
     "evalue": "[Errno 2] No such file or directory: 'length_width.dat'",
     "output_type": "error",
     "traceback": [
      "\u001b[1;31m---------------------------------------------------------------------------\u001b[0m",
      "\u001b[1;31mFileNotFoundError\u001b[0m                         Traceback (most recent call last)",
      "\u001b[1;32m<ipython-input-3-d3597f022e67>\u001b[0m in \u001b[0;36m<module>\u001b[1;34m\u001b[0m\n\u001b[1;32m----> 1\u001b[1;33m \u001b[0mfile\u001b[0m \u001b[1;33m=\u001b[0m \u001b[0mopen\u001b[0m\u001b[1;33m(\u001b[0m\u001b[1;34m\"length_width.dat\"\u001b[0m\u001b[1;33m,\u001b[0m \u001b[1;34m'r'\u001b[0m\u001b[1;33m)\u001b[0m\u001b[1;33m\u001b[0m\u001b[1;33m\u001b[0m\u001b[0m\n\u001b[0m\u001b[0;32m      2\u001b[0m \u001b[1;33m\u001b[0m\u001b[0m\n\u001b[0;32m      3\u001b[0m \u001b[0mxi\u001b[0m \u001b[1;33m=\u001b[0m \u001b[1;33m[\u001b[0m\u001b[1;33m]\u001b[0m\u001b[1;33m\u001b[0m\u001b[1;33m\u001b[0m\u001b[0m\n\u001b[0;32m      4\u001b[0m \u001b[0myi\u001b[0m \u001b[1;33m=\u001b[0m \u001b[1;33m[\u001b[0m\u001b[1;33m]\u001b[0m\u001b[1;33m\u001b[0m\u001b[1;33m\u001b[0m\u001b[0m\n\u001b[0;32m      5\u001b[0m \u001b[1;33m\u001b[0m\u001b[0m\n",
      "\u001b[1;31mFileNotFoundError\u001b[0m: [Errno 2] No such file or directory: 'length_width.dat'"
     ]
    }
   ],
   "source": [
    "file = open(\"length_width.dat\", 'r')\n",
    "\n",
    "xi = []\n",
    "yi = []\n",
    "\n",
    "for line in file:\n",
    "    xi.append(float(line.split()[0]))\n",
    "    yi.append(float(line.split()[1]))\n",
    "    \n",
    "xi = np.array(xi)\n",
    "yi = np.array(yi)"
   ]
  },
  {
   "cell_type": "markdown",
   "metadata": {},
   "source": [
    "Perform linear regression and plot the results:"
   ]
  },
  {
   "cell_type": "code",
   "execution_count": 4,
   "metadata": {
    "tags": [
     "hide-input"
    ]
   },
   "outputs": [
    {
     "ename": "NameError",
     "evalue": "name 'xi' is not defined",
     "output_type": "error",
     "traceback": [
      "\u001b[1;31m---------------------------------------------------------------------------\u001b[0m",
      "\u001b[1;31mNameError\u001b[0m                                 Traceback (most recent call last)",
      "\u001b[1;32m<ipython-input-4-cc473cde23c1>\u001b[0m in \u001b[0;36m<module>\u001b[1;34m\u001b[0m\n\u001b[0;32m      3\u001b[0m \u001b[1;33m\u001b[0m\u001b[0m\n\u001b[0;32m      4\u001b[0m \u001b[1;31m# Plot the raw data\u001b[0m\u001b[1;33m\u001b[0m\u001b[1;33m\u001b[0m\u001b[1;33m\u001b[0m\u001b[0m\n\u001b[1;32m----> 5\u001b[1;33m \u001b[0max1\u001b[0m\u001b[1;33m.\u001b[0m\u001b[0mloglog\u001b[0m\u001b[1;33m(\u001b[0m\u001b[0mxi\u001b[0m\u001b[1;33m,\u001b[0m \u001b[0myi\u001b[0m\u001b[1;33m,\u001b[0m \u001b[1;34m'ko'\u001b[0m\u001b[1;33m)\u001b[0m\u001b[1;33m\u001b[0m\u001b[1;33m\u001b[0m\u001b[0m\n\u001b[0m\u001b[0;32m      6\u001b[0m \u001b[1;33m\u001b[0m\u001b[0m\n\u001b[0;32m      7\u001b[0m \u001b[1;31m# Fit a linear line to the log of the data using numpy.polyfit\u001b[0m\u001b[1;33m\u001b[0m\u001b[1;33m\u001b[0m\u001b[1;33m\u001b[0m\u001b[0m\n",
      "\u001b[1;31mNameError\u001b[0m: name 'xi' is not defined"
     ]
    },
    {
     "data": {
      "image/png": "[encoded data removed]",
      "text/plain": [
       "<Figure size 504x504 with 1 Axes>"
      ]
     },
     "metadata": {
      "needs_background": "light"
     },
     "output_type": "display_data"
    }
   ],
   "source": [
    "# Set up figure\n",
    "fig, ax1 = plt.subplots(1, 1, figsize=(7, 7))\n",
    "\n",
    "# Plot the raw data\n",
    "ax1.loglog(xi, yi, 'ko')\n",
    "\n",
    "# Fit a linear line to the log of the data using numpy.polyfit\n",
    "logxi = np.log(xi)\n",
    "logyi = np.log(yi)\n",
    "poly_coeffs = np.polyfit(logxi, logyi, 1)\n",
    "\n",
    "# Construct the corresponding polynomial function from these coefficients\n",
    "p1 = np.poly1d(poly_coeffs)\n",
    "# print the polynomial coefficients to compare with regression\n",
    "print('Lagrange polynomial coefficients = {}'.format(poly_coeffs))\n",
    "\n",
    "#Calculate and print an R-squared value for this fit using the mathematical\n",
    "# definition from https://en.wikipedia.org/wiki/Coefficient_of_determination\n",
    "SS_res = sqr_error(p1, logxi, logyi)\n",
    "SS_tot = np.sum((np.mean(logyi) - logyi)**2)\n",
    "r2 = 1. - SS_res/SS_tot\n",
    "print('R^2 value calculated from Lagrange polynomial fit to the data in log-log space = {}\\n'.format(r2))\n",
    "\n",
    "# Only need two points to plot the regression\n",
    "x = np.linspace(min(xi), max(xi), 2)\n",
    "ax1.loglog(x, p1(x), 'b', label='$\\log(y) = $%.3f$\\,\\log(x) + $%.3f' %\n",
    "           (poly_coeffs[0], poly_coeffs[1]))\n",
    "ax1.legend(loc='best', fontsize=12)\n",
    "\n",
    "# Check values computed above against scipy's linear regression\n",
    "slope, intercept, r_value, p_value, std_err = ss.linregress(logxi, logyi)\n",
    "print('Linear regression: slope, intercept, r_value = {0:.8f}, {1:.8f}, {2:.8f}'\\\n",
    "      .format(slope, intercept, r_value))\n",
    "print('R^2 = {:.8f}'.format(r_value**2))\n",
    "\n",
    "ax1.set_title('Submarine landslide dimensions', fontsize=16)\n",
    "ax1.set_xlabel('Length [km]', fontsize=16)\n",
    "ax1.set_ylabel('Width [km]', fontsize=16)\n",
    "\n",
    "ax1.text(0.76, 0.05, 'R2 = %.6f' % r2, transform=ax1.transAxes)\n",
    "\n",
    "plt.show()"
   ]
  },
  {
   "cell_type": "markdown",
   "metadata": {},
   "source": [
    "### Polynomial curve fitting\n",
    "\n",
    "Curve fitting is popular to use for datasets containing noise. To fit these curves of varying polynomial degree we can again use the least squares error calculation.\n",
    "\n",
    "Using `numpy.polyfit` we can fit curves of varying polynomial degree to the data points. This is demonstrated below."
   ]
  },
  {
   "cell_type": "code",
   "execution_count": 5,
   "metadata": {},
   "outputs": [
    {
     "name": "stdout",
     "output_type": "stream",
     "text": [
      "poly_coeffs = \n",
      "[[ 0.5         0.          0.          0.          0.          0.        ]\n",
      " [ 0.0508044   0.26714649  0.          0.          0.          0.        ]\n",
      " [ 0.02013603 -0.13983999  0.55279339  0.          0.          0.        ]\n",
      " [-0.00552147  0.09889271 -0.43193108  0.75909819  0.          0.        ]\n",
      " [-0.00420655  0.07403681 -0.38492428  0.59251888  0.27906056  0.        ]\n",
      " [-0.00301599  0.06536037 -0.49614427  1.59623195 -2.08266478  1.20030166]]\n"
     ]
    }
   ],
   "source": [
    "# Data points\n",
    "xi = np.array([0.5, 2.0, 4.0, 5.0, 7.0, 9.0])\n",
    "yi = np.array([0.5, 0.4, 0.3, 0.1, 0.9, 0.8])\n",
    "\n",
    "# Let's set up some space to store all the polynomial coefficients\n",
    "# there are some redundancies here, and we have assumed we will only \n",
    "# consider polynomials up to degree N\n",
    "N = 6\n",
    "poly_coeffs = np.zeros((N, N))\n",
    "\n",
    "for i in range(N):\n",
    "    poly_coeffs[i, :(i+1)] = np.polyfit(xi, yi, i)\n",
    "\n",
    "print('poly_coeffs = \\n{}'.format(poly_coeffs))"
   ]
  },
  {
   "cell_type": "code",
   "execution_count": 16,
   "metadata": {
    "tags": [
     "hide_input"
    ]
   },
   "outputs": [
    {
     "data": {
      "image/png": "[encoded data removed]",
      "text/plain": [
       "<Figure size 576x432 with 1 Axes>"
      ]
     },
     "metadata": {
      "needs_background": "light"
     },
     "output_type": "display_data"
    }
   ],
   "source": [
    "fig = plt.figure(figsize=(8, 6))\n",
    "ax1 = fig.add_subplot(111)\n",
    "ax1.margins(0.1)\n",
    "\n",
    "x = np.linspace(0.4, 9.1, 100)\n",
    "\n",
    "for i in range(N):\n",
    "    p = np.poly1d(poly_coeffs[i, :(i+1)])\n",
    "    ax1.plot(x, p(x), label='Degree %i' % i)\n",
    "\n",
    "ax1.plot(xi, yi, 'o', color=\"black\", label=\"raw data\")\n",
    "\n",
    "plt.legend(loc='best', fontsize = 12)\n",
    "plt.title('Polynomial approximations of differing degree', fontsize=16)\n",
    "plt.grid(True)\n",
    "plt.xlabel(\"x\", fontsize=16)\n",
    "plt.ylabel(\"y\", fontsize=16)\n",
    "plt.show()"
   ]
  },
  {
   "cell_type": "markdown",
   "metadata": {},
   "source": [
    "Using the above function that evaluates the squared error, we can evaluate the error for each of the polynomials calculated above."
   ]
  },
  {
   "cell_type": "code",
   "execution_count": 17,
   "metadata": {},
   "outputs": [
    {
     "name": "stdout",
     "output_type": "stream",
     "text": [
      "Square of the difference between the data and the polynomial of degree 0 = 4.60000000e-01.\n",
      "Square of the difference between the data and the polynomial of degree 1 = 3.32988992e-01.\n",
      "Square of the difference between the data and the polynomial of degree 2 = 1.99478242e-01.\n",
      "Square of the difference between the data and the polynomial of degree 3 = 1.57303437e-01.\n",
      "Square of the difference between the data and the polynomial of degree 4 = 4.69232378e-02.\n",
      "Square of the difference between the data and the polynomial of degree 5 = 1.75525473e-26.\n"
     ]
    }
   ],
   "source": [
    "for i in range(N):\n",
    "    p = np.poly1d(poly_coeffs[i, :(i+1)])\n",
    "    print('Square of the difference between the data and the '\n",
    "          'polynomial of degree {0:1d} = {1:.8e}.'.format(i, sqr_error(p, xi, yi)))"
   ]
  },
  {
   "cell_type": "markdown",
   "metadata": {},
   "source": [
    "As can be seen above the error drops as we approximate the data with higher degree polynomials.\n",
    "\n",
    "For some inspiration on multiple linear regression, you can look at [\"A beginner's guide to linear regression in Python with Scikit-Learn\"](https://towardsdatascience.com/a-beginners-guide-to-linear-regression-in-python-with-scikit-learn-83a8f7ae2b4f) and [\"Linear regression case study\"](https://acadgild.com/blog/2linear-regression-case-study-2).\n",
    "\n",
    "## References\n",
    "* Information in this notebook is compiled based on ACSE-3 (Numerical Methods), Lecture 1: Interpolation and Curve Fitting\n",
    "* V. Huhnerbach, D.G. Masson, Landslides in the North Atlantic and its adjacent seas: an analysis of their morphology, setting and behaviour, Marine Geology 213 (2004) 343 – 362.\n",
    "* Real Python - [\"Linear regression in Python\"](https://realpython.com/linear-regression-in-python/)\n",
    "* Towards Data Science - [\"A beginner's guide to linear regression in Python with Scikit-Learn\"](https://towardsdatascience.com/a-beginners-guide-to-linear-regression-in-python-with-scikit-learn-83a8f7ae2b4f) and [\"What does RMSE really mean?\"](https://towardsdatascience.com/what-does-rmse-really-mean-806b65f2e48e)\n",
    "* Acadgild - [\"Linear regression case study\"](https://acadgild.com/blog/2linear-regression-case-study-2)\n"
   ]
  }
 ],
 "metadata": {
  "celltoolbar": "Tags",
  "kernelspec": {
   "display_name": "Python 3",
   "language": "python",
   "name": "python3"
  },
  "language_info": {
   "codemirror_mode": {
    "name": "ipython",
    "version": 3
   },
   "file_extension": ".py",
   "mimetype": "text/x-python",
   "name": "python",
   "nbconvert_exporter": "python",
   "pygments_lexer": "ipython3",
   "version": "3.7.3"
  }
 },
 "nbformat": 4,
 "nbformat_minor": 4
}
