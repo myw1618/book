{
 "cells": [
  {
   "cell_type": "markdown",
   "metadata": {},
   "source": [
    "# Logic and proof\n",
    "\n",
    "## Logic symbols"
   ]
  },
  {
   "cell_type": "markdown",
   "metadata": {},
   "source": [
    "```{index} Logic symbols\n",
    "```\n",
    "\n",
    "The origins of logic symbols stem from first attempts at creating a clear language to express logic statements. Everyday languages are not suitable for this as the use of them can easily lead to ambiguities and paradoxes. This is the case in mathematics as well, so general mathematics was influenced by this language and borrowed some of it. The use of logic symbols is more widespread in areas of mathematics where there is a need for a clear language, for example set theory (which is full of paradoxes!).\n",
    "\n",
    "Here we will list some more common logic symbols. For a full list visit [Wikipedia](https://en.wikipedia.org/wiki/List_of_logic_symbols).\n",
    "\n",
    "```{list-table} Common logic symbols\n",
    ":name: logic-symbols\n",
    ":header-rows: 1\n",
    ":widths: 10 20 20 25 25\n",
    ":align: center\n",
    "\n",
    "* - Symbol\n",
    "  - Name\n",
    "  - Read as\n",
    "  - Example\n",
    "  - Meaning\n",
    "* - $\\forall$\n",
    "  - universal quantification\n",
    "  - for all, for any, for each\n",
    "  - $\\forall x$ ($x \\in$ A) $\\Rightarrow$ ($x \\in$ B)\n",
    "  - Meaning\n",
    "* - $\\exists$\n",
    "  - existential quantification\n",
    "  - there exists\n",
    "  - $\\exists a(a \\in$ A)\n",
    "  - There exists an element $a$ in A, i.e. A $\\neq \\emptyset$\n",
    "* - $\\exists !$\n",
    "  - uniqueness quantification\n",
    "  - there exists exactly one\n",
    "  - $\\exists ! a(a \\in$ A)\n",
    "  - There exists exactly one element $a$ in A, i.e. A is a set of one element  \n",
    "* - $\\lnot$\n",
    "  - negation\n",
    "  - not\n",
    "  - $\\forall x$, ($x \\in$ A) $\\Rightarrow$ ($x \\in$ B)\n",
    "  - Explanation\n",
    "* - $\\land$\n",
    "  - conjunction\n",
    "  - and\n",
    "  - $\\forall x$, ($x \\in$ A) $\\Rightarrow$ ($x \\in$ B)\n",
    "  - Explanation\n",
    "* - $\\lor$\n",
    "  - disjunction\n",
    "  - implies, if... then\n",
    "  - $\\forall x$, ($x \\in$ A) $\\Rightarrow$ ($x \\in$ B)\n",
    "  - Explanation\n",
    "* - $\\implies$\n",
    "  - implication\n",
    "  - implies, if... then\n",
    "  - $\\forall x$, ($x \\in$ A) $\\Rightarrow$ ($x \\in$ B)\n",
    "  - Explanation\n",
    "* - $\\iff$\n",
    "  - equivalence\n",
    "  - if and only if, iff\n",
    "  - $\\forall x$ ($x \\in$ A) $\\iff$ ($x \\in$ B)\n",
    "  - Explanation\n",
    "* - $:, |, \\text{s.t.}$\n",
    "  - condition\n",
    "  - such that\n",
    "  - $\\forall x$, ($x \\in$ A) $\\Rightarrow$ ($x \\in$ B)\n",
    "  - Explanation\n",
    "  \n",
    "```"
   ]
  },
  {
   "cell_type": "code",
   "execution_count": null,
   "metadata": {},
   "outputs": [],
   "source": []
  }
 ],
 "metadata": {
  "kernelspec": {
   "display_name": "Python 3",
   "language": "python",
   "name": "python3"
  },
  "language_info": {
   "codemirror_mode": {
    "name": "ipython",
    "version": 3
   },
   "file_extension": ".py",
   "mimetype": "text/x-python",
   "name": "python",
   "nbconvert_exporter": "python",
   "pygments_lexer": "ipython3",
   "version": "3.7.4"
  }
 },
 "nbformat": 4,
 "nbformat_minor": 4
}
