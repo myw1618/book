{
 "cells": [
  {
   "cell_type": "markdown",
   "metadata": {},
   "source": [
    "# Functions\n",
    "\n",
    "## Intro\n",
    "\n",
    "```{index} Domain\n",
    "```\n",
    "\n",
    "```{index} Codomain\n",
    "```\n",
    "\n",
    "Let us give a somewhat informal definition of a function.\n",
    "\n",
    "Let $\\mathcal{D}$ and $\\mathcal{C}$ be non-empty sets and let $f$ be a rule by which every element $x \\in \\mathcal{D}$ is assigned a **unique** element $y \\in \\mathcal{C}$. The ordered triple $(\\mathcal{D}, \\mathcal{C}, f)$ is called a **function**  (also *map* or *mapping*). We write $f: \\mathcal{D} \\to \\mathcal{C}$.\n",
    "\n",
    "```{note}\n",
    "What that means is that the following three functions are all different despite their assignment $f$ being the same:\n",
    "\n",
    "$$ \\begin{aligned}\n",
    "f_1 : \\mathbb{R} \\to \\mathbb{R}, \\quad & f_1(x) = x^2 \\\\\n",
    "f_2 : \\mathbb{R} \\to [0, \\infty), \\quad & f_2(x) = x^2 \\\\\n",
    "f_3 : (- \\infty, 0) \\to (0, \\infty), \\quad & f_3(x) = x^2 \n",
    "\\end{aligned}$$\n",
    "\n",
    "Functions $(\\mathcal{D}_1, \\mathcal{C}_1, f_1)$ and $(\\mathcal{D}_2, \\mathcal{C}_2, f_2)$ are equal iff $\\mathcal{D}_1 = \\mathcal{D}_2, \\mathcal{C}_1 = \\mathcal{C}_2, f_1 = f_2$.\n",
    "\n",
    "```\n",
    "\n",
    "- $\\mathcal{D(f)}$ is called the **domain** of the function $f$\n",
    "- $\\mathcal{C(f)}$ is called the **codomain** of the function $f$\n",
    "- $f(x)$ is the value (sometimes called output) of $f$ at point $x$\n",
    "\n",
    "**Example:**\n",
    "\n",
    "```{figure} snfdata/funcdom.png\n",
    ":height: 200px\n",
    ":align: center\n",
    "\n",
    "Left is a function, right is not!\n",
    "```\n",
    "\n",
    "The figure on the left shows a function where $ a \\mapsto f(a) = 1, b \\mapsto f(b) = 2, c \\mapsto f(c)=2 $. The figure on the right does not represent a function since $c$ is assigned both $2$ and $4$.\n",
    "\n",
    "```{margin} [Cartesian (Descartes) product](https://en.wikipedia.org/wiki/Cartesian_product)\n",
    "The Cartesian product $A \\times B$ of two sets $A$ and $B$ is the set of all ordered pairs $(a, b)$ where $a \\in A, b \\in B$. That is,\n",
    "\n",
    "$$ A \\times B = \\{ (a, b) : a \\in A, b \\in B \\}. $$\n",
    "\n",
    "An example is the Cartesian plane,\n",
    "\n",
    "$$ \\mathbb{R}^2 = \\mathbb{R} \\times \\mathbb{R} = \\{ (x, y) : x, y \\in \\mathbb{R} \\}. $$\n",
    "```\n",
    "\n",
    "## Graph\n",
    "\n",
    "```{index} Graph (functions)\n",
    "```\n",
    "\n",
    "The **graph** of the function is the set \n",
    "\n",
    "$$ G(f) := \\{ (x, f(x)) : x \\in \\mathcal{D} \\}. $$\n",
    "\n",
    "Therefore, $ G(f) \\subseteq \\mathcal{D} \\times \\mathcal{C} = \\{ (d, c) : d \\in \\mathcal{D}, c \\in \\mathcal{C} \\} $ .\n",
    "\n",
    "From above examples we have the following graphs:"
   ]
  },
  {
   "cell_type": "code",
   "execution_count": 47,
   "metadata": {
    "tags": [
     "hide-input"
    ]
   },
   "outputs": [
    {
     "data": {
      "image/png": "[encoded data removed]",
      "text/plain": [
       "<Figure size 576x216 with 2 Axes>"
      ]
     },
     "metadata": {
      "needs_background": "light"
     },
     "output_type": "display_data"
    }
   ],
   "source": [
    "import matplotlib.pyplot as plt\n",
    "\n",
    "\n",
    "fig, ax = plt.subplots(1, 2, figsize=(8, 3), sharey=True)\n",
    "\n",
    "ax[0].scatter(['a', 'b', 'c'], y = [1, 2, 2])\n",
    "ax[0].set_ylabel('$f(x)$')\n",
    "\n",
    "ax[1].scatter(['a', 'b', 'c', 'c'], y = [1, 2, 2, 4], zorder=10)\n",
    "ax[1].plot(['c', 'c'], [0, 4], '--k', alpha=0.3)\n",
    "ax[1].set_title('Not a graph of a function!')\n",
    "\n",
    "for i in [0, 1]:\n",
    "    ax[i].set_yticks([1, 2, 3, 4])\n",
    "    ax[i].spines['right'].set_visible(False)\n",
    "    ax[i].spines['top'].set_visible(False)\n",
    "    ax[i].set_ylim(0.8, 4.2)\n",
    "    ax[i].set_xlabel('x')\n",
    "\n",
    "plt.show()"
   ]
  },
  {
   "cell_type": "markdown",
   "metadata": {},
   "source": [
    "The graph on the right is **not** a graph of a function because two points lie on the vertical line drawn through $c$, i.e. $c$ is assigned two different values $f(c)$. This is a contradiction to our definition of a function. Sometimes this is called the *vertical line test*.\n",
    "\n",
    "## Restriction\n",
    "\n",
    "```{index} Restriction (functions)\n",
    "```\n",
    "\n",
    "Let $f : \\mathcal{D} \\to \\mathcal{C}$ be a function and let $A \\subseteq \\mathcal{D}$. We can define a **restriction** of $f$ to the domain of $A$ as $\\left.f\\right|_A : A \\to \\mathcal{C}$ with $\\left.f\\right|_A (x) = f(x), \\forall x \\in A$.\n",
    "\n",
    "## Image\n",
    "\n",
    "```{index} Image (functions)\n",
    "```\n",
    "\n",
    "```{sidebar} $\\phantom{title}$\n",
    "\n",
    "<img src=\"https://upload.wikimedia.org/wikipedia/commons/thumb/6/64/Codomain2.SVG/640px-Codomain2.SVG.png\" height=\"170\">\n",
    "\n",
    "Source: [Wikipedia](https://en.wikipedia.org/wiki/Image_(mathematics))\n",
    "\n",
    "```\n",
    "\n",
    "Let $f : \\mathcal{D} \\to \\mathcal{C}$ be a function and let $A \\subseteq \\mathcal{D}$. The **image of a subset** $A$ under $f$ is the set $f(A) \\subseteq \\mathcal{C}$ such that:\n",
    "\n",
    "$$ f(A) := \\{ f(x) : x \\in A \\} \\subseteq \\mathcal{C}. $$\n",
    "\n",
    "If $A = \\mathcal{D}$, i.e. the entire domain, we call the set $f(D)$ the **image** or **range** of $f$. In other words, the image is a set of all values that $f(x)$ can take for all $x$ in the domain.\n",
    "\n",
    "From our example of a function above (left figure), let us take $A = \\{ a, c \\}$. The image of a subset $A$ is then:\n",
    "\n",
    "$$ f(A) = \\{ f(x) : x \\in A \\} = \\{ \\underbrace{f(a)}_{=1}, \\underbrace{f(b)}_{=2} \\} = \\{ 1, 2 \\}.$$\n",
    "\n",
    "Similarly for the entire domain:\n",
    "\n",
    "$$ f(D) = \\{ f(x) : x \\in \\mathcal{D} \\} = \\{ \\underbrace{f(a)}_{=1}, \\underbrace{f(b)}_{=2}, \\underbrace{f(c)}_{=2} \\} = \\{ 1, 2 \\}. $$\n",
    "\n",
    "## Inverse image\n",
    "\n",
    "Let $f : \\mathcal{D} \\to \\mathcal{C}$ be a function and let $E \\subseteq \\mathcal{C}$.  The **inverse image** (or *preimage*) of $E$ under function $f$ is the set\n",
    "\n",
    "$$ f^{-1}(E) := \\{ x \\in \\mathcal{D} : f(x) \\in E \\} \\subseteq \\mathcal{D}. $$\n",
    "\n",
    "If we take $E = \\mathcal{C}$, then $f^{-1}(\\mathcal{C}) = \\mathcal{D}$. In other words, we are looking for the values $x \\in \\mathcal{D}$ for which $f(x)$ takes specified values.\n",
    "\n",
    "Again from the example above, let us consider $ E_1 = \\{ 1 \\}, E_2 = \\{ 2 \\}, E_3 = \\{ 1, 2 \\} $:\n",
    "\n",
    "$$\n",
    "f^{-1}(E_1) = \\{ x \\in \\mathcal{D} : f(x) \\in E_1 \\} = \\{ x \\in \\mathcal{D} : f(x) = 1 \\} = \\{ a \\} \\\\\n",
    "f^{-1}(E_2) = \\{ x \\in \\mathcal{D} : f(x) \\in E_2 \\} = \\{ x \\in \\mathcal{D} : f(x) = 2 \\} = \\{ b, c \\}\n",
    "$$\n",
    "\n",
    "Or some may appreciate a more applied example: let $f: \\mathbb{R} \\to \\mathbb{R}$ be a function with $f(x) = x^2$, then\n",
    "\n",
    "$$ f([0, \\infty)) = [0, \\infty), \\qquad f( (- \\infty, 0] ) = [0, \\infty) \\\\\n",
    "f^{-1}([0, \\infty)) = \\mathbb{R}, \\qquad f^{-1}((- \\infty, 0)) = \\emptyset. $$\n",
    "\n",
    "The last point means that there are no $x \\in \\mathbb{R}$ such that $f(x) = x^2$ is a negative number.\n",
    "\n",
    "```{sidebar} $\\phantom{title}$\n",
    "\n",
    "<img src=\"snfdata/preimage.png\" height=\"250\" align=\"center\">\n",
    "\n",
    "```\n",
    "\n",
    "Or a more applied example: consider $f: \\mathbb{R} \\to \\mathbb{R}$ where $f(x) = x - 5$ (we can simply write $x \\mapsto x - 5$) and $A = (-3, 1]$. Let us find the preimage $f^{-1}(A)$ graphically and by calculating it.\n",
    "\n",
    "$$ \\begin{aligned}\n",
    "f^{-1}(A) & = \\{ x \\in \\mathbb{R} : f(x) \\in A \\} \\\\\n",
    "& = \\{ x \\in \\mathbb{R} : x - 5 \\in (-3, 1] \\} \\\\\n",
    "& = \\{ x \\in \\mathbb{R} : -3 < x - 5 \\leq -1 \\}\n",
    "\\end{aligned} $$\n",
    "\n",
    "$$ \\begin{aligned} x - 5 > -3 \\quad  & \\text{and} \\quad x - 2 \\leq -1 \\\\\n",
    "x > 2 \\quad & \\text{and} \\quad x \\leq 4 \\end{aligned}$$\n",
    "\n",
    "$$ \\begin{aligned} & \\implies x \\in (2, 4] \\\\\n",
    "& \\implies f^{-1}(A) = (2, 4] \\end{aligned}$$\n",
    "\n",
    "This agrees with our findings on the graph.\n",
    "\n",
    "## Real functions\n",
    "\n",
    "If $\\mathcal{D}$ and $\\mathcal{C}$ are subsets of $\\mathbb{R}$ then we call a function $f : \\mathcal{D} \\to \\mathcal{C}$ a **real-valued function of a real variable** or, simply, a real function.\n",
    "\n",
    "The largest subset of $\\mathbb{R}$ for which the function $f$ is defined is called the **natural domain**.\n",
    "\n",
    "For example, the natural domain of \n",
    "\n",
    "### Monotonic functions\n",
    "\n",
    "Many useful properties of real functions can easily be seen on the graph of the function. One of those is whether a function is **monotonic**, i.e. whether it is always increasing or decreasing on the whole domain. For a function $f : A \\to \\mathbb{R}, A \\subseteq \\mathbb{R}$, we say that it is:\n",
    "\n",
    "- **increasing** on $A$ if $(x_1 < x_2) \\Rightarrow (f(x_1) \\leq f(x_2)) $ for all $x_1, x_2 \\in A$\n",
    "- **strictly increasing** on $A$ if $(x_1 < x_2) \\Rightarrow (f(x_1) < f(x_2)) $ for all $x_1, x_2 \\in A$\n",
    "- **decreasing** on $A$ if $ (x_1 < x_2) \\Rightarrow (f(x_1) \\geq f(x_2)) $ for all $x_1, x_2 \\in A$\n",
    "- **strictly decreasing** on $A$ if $(x_1 < x_2) \\Rightarrow (f(x_1) > f(x_2)) $ for all $x_1, x_2 \\in A$"
   ]
  },
  {
   "cell_type": "code",
   "execution_count": 88,
   "metadata": {
    "tags": [
     "hide-input"
    ]
   },
   "outputs": [
    {
     "data": {
      "image/png": "[encoded data removed]",
      "text/plain": [
       "<Figure size 432x288 with 4 Axes>"
      ]
     },
     "metadata": {},
     "output_type": "display_data"
    }
   ],
   "source": [
    "import numpy as np\n",
    "\n",
    "\n",
    "def f(x):\n",
    "    if x <= 0:\n",
    "        y = x**3 + 1\n",
    "    elif x <= 1:\n",
    "        y = 1\n",
    "    else:\n",
    "        y = (x-1)**3 + 1\n",
    "    \n",
    "    return y\n",
    "\n",
    "\n",
    "titles = [['Increasing', 'Strictly increasing'], \n",
    "          ['Decreasing', 'Strictly decreasing']]\n",
    "    \n",
    "x1 = np.linspace(-2, 3, 50)\n",
    "x2 = np.linspace(-1.3, 1.3, 50)\n",
    "\n",
    "fig, ax = plt.subplots(2, 2)\n",
    "\n",
    "ax[0, 0].plot(x, list(map(f, x)))\n",
    "ax[0, 1].plot(x, np.tan(x2))\n",
    "ax[1, 0].plot(x, -np.array(list(map(f, x))))\n",
    "ax[1, 1].plot(x, -np.tan(x2))\n",
    "\n",
    "for i in range(2):\n",
    "    for j in range(2):\n",
    "        ax[i, j].spines['right'].set_visible(False)\n",
    "        ax[i, j].spines['top'].set_visible(False)\n",
    "        ax[i, j].set_title(titles[i][j])\n",
    "        ax[i, j].set_xticks([])\n",
    "        ax[i, j].set_yticks([])\n",
    "\n",
    "plt.show()"
   ]
  },
  {
   "cell_type": "markdown",
   "metadata": {},
   "source": [
    "### Even and odd functions\n",
    "\n",
    "Even and odd functions satisfy particular symmetry relations. A function $f : A \\to \\mathbb{R}, A \\subseteq \\mathbb{R}$ is:\n",
    "\n",
    "- **even** on $A$ if $f(-x) = f(x)$ for all $x \\in A$\n",
    "- **odd** on $A$ if $f(-x) = -f(x)$ for all $x \\in A$\n",
    "\n",
    "The names 'even' and 'odd' originate from the function $f(x) = x^n$, which is even for even $n$ and odd for odd $n$. For example, $f(x)=x^2$ and $f(x)=x^3$ below:"
   ]
  },
  {
   "cell_type": "code",
   "execution_count": 120,
   "metadata": {
    "tags": [
     "hide-input"
    ]
   },
   "outputs": [
    {
     "data": {
      "image/png": "[encoded data removed]",
      "text/plain": [
       "<Figure size 432x288 with 2 Axes>"
      ]
     },
     "metadata": {
      "needs_background": "light"
     },
     "output_type": "display_data"
    }
   ],
   "source": [
    "x = np.linspace(-2, 2, 100)\n",
    "y1 = x**2\n",
    "y2 = x**3 / 2\n",
    "\n",
    "fig, ax = plt.subplots(1, 2)\n",
    "\n",
    "ax[0].plot(x, y1)\n",
    "ax[1].plot(x, y2)\n",
    "\n",
    "ax[0].plot([-1.4, 1.4], [1.4**2, 1.4**2], '--k')\n",
    "ax[0].plot([-1.8, 1.8], [1.8**2, 1.8**2], '--k')\n",
    "ax[1].plot([-1.4, 1.4], [-1.4**3 / 2, 1.4**3 /2], '--k')\n",
    "ax[1].plot([-1.8, 1.8], [-1.8**3 / 2, 1.8**3 /2], '--k')\n",
    "\n",
    "ax[0].set_title('Even')\n",
    "ax[1].set_title('Odd')\n",
    "\n",
    "for i in range(2):\n",
    "    ax[i].axis('off')\n",
    "    ax[i].arrow(-2, 0, 4, 0, shape='full', head_width=0.15, head_length=0.25)\n",
    "    ax[i].arrow(0, -4, 0, 8, shape='full', head_width=0.15, head_length=0.25)\n",
    "\n",
    "plt.show()"
   ]
  },
  {
   "cell_type": "code",
   "execution_count": null,
   "metadata": {},
   "outputs": [],
   "source": []
  }
 ],
 "metadata": {
  "celltoolbar": "Tags",
  "kernelspec": {
   "display_name": "Python 3",
   "language": "python",
   "name": "python3"
  },
  "language_info": {
   "codemirror_mode": {
    "name": "ipython",
    "version": 3
   },
   "file_extension": ".py",
   "mimetype": "text/x-python",
   "name": "python",
   "nbconvert_exporter": "python",
   "pygments_lexer": "ipython3",
   "version": "3.7.4"
  }
 },
 "nbformat": 4,
 "nbformat_minor": 4
}
