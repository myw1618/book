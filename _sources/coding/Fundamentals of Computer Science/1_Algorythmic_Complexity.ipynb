{
 "cells": [
  {
   "cell_type": "markdown",
   "metadata": {},
   "source": [
    "(algorythmic_complexity)=\n",
    "# Algorithmic Complexity\n",
    "``` {index} Algorithmic Complexity\n",
    "```\n",
    "\n",
    "In order to make our programs efficient (or, at least, not horribly inefficient), we can consider how the execution time varies depending on the input size \\\\(n\\\\). Let us define a measure of this efficiency as a function \\\\( T(n)\\\\). Of course, the time it takes to execute a code will vary largely depending on the processor, compiler or disk speed. \\\\( T(n)\\\\) goes around this variance by measuring *asymptotic* complexity. In this case, only (broadly defined) *steps* will determine the time it takes to execute an algorithm."
   ]
  },
  {
   "cell_type": "markdown",
   "metadata": {},
   "source": [
    "Now, say we want to add two \\\\(n\\\\)-bit binary digits. One way to do this is to go bit by bit and add the two. We can se that \\\\(n\\\\) operations are involved. \n",
    "\\\\[T(n) = c*n\\\\]\n",
    "where \\\\(c\\\\) is time it takes to add two bits on a machine. On different machines the value of \\\\(c\\\\) may vary, but the linearity of this function is the common factor. Our aim is to abstract away from the details of implementation and think about the fundamental usage of computing resources. "
   ]
  },
  {
   "cell_type": "markdown",
   "metadata": {},
   "source": [
    "## Big Oh Notation\n",
    "\n",
    "The mathematical definiton of this concept can be found [**here**](https://primer-computational-mathematics.github.io/book/mathematics/mathematical_notation/Big_O_notation.html). In simple terms, we say that:\n",
    "\n",
    "\\\\[f(n) = O(g(n))\\\\] \n",
    "if there exists \\\\(c>0\\\\) and \\\\(n_0>0\\\\) such that \n",
    "\n",
    "\\\\[f(n) \\leq c * g(n)\\\\] for all \\\\(n \\geq n_0\\\\).\n",
    "\n",
    "\\\\(g(n)\\\\) can be thought of as an *upper bound* of \\\\(f(n)\\\\) as \\\\(n\\\\) tends to infinity. Here are a couple of examples:\n",
    "\n",
    "\\\\[ 3n + 4 = O(n)\\\\]\n",
    "\\\\[ n^2 + 17n = O(n^2)\\\\]\n",
    "\\\\[2^n = O(2^n)\\\\]\n",
    "\\\\[42 = O(1)\\\\]\n",
    "but also:\n",
    "\n",
    "\\\\[log(n) = O(n)\\\\]\n",
    "\\\\[n = O(n^2)\\\\]\n",
    "\n",
    "We will now consider different time complexities of algorithms."
   ]
  },
  {
   "cell_type": "markdown",
   "metadata": {},
   "source": [
    "----------------\n",
    "### Constant Time \\\\(O(1)\\\\)\n",
    "\n",
    "An algorithm is said to run in *constant* time if its complexity is \\\\(O(1)\\\\). This is usually considered the *fastest* case (which is true, but only in the *asymptotic* sense). No matter what the input size is, the program will take the same amount of time to terminate. Let us consider some examples:\n",
    "\n",
    "* ```Hello World!```: "
   ]
  },
  {
   "cell_type": "code",
   "execution_count": 4,
   "metadata": {},
   "outputs": [],
   "source": [
    "def f(n):\n",
    "    print(\"Hello World!\")"
   ]
  },
  {
   "cell_type": "markdown",
   "metadata": {},
   "source": [
    "No matter what ```n``` is, the function does the same thing, which takes the same time. Therefore its complexity is constant."
   ]
  },
  {
   "cell_type": "markdown",
   "metadata": {},
   "source": [
    "* Checking if an integer is odd or not:"
   ]
  },
  {
   "cell_type": "code",
   "execution_count": 26,
   "metadata": {},
   "outputs": [
    {
     "name": "stdout",
     "output_type": "stream",
     "text": [
      "True\n",
      "False\n"
     ]
    }
   ],
   "source": [
    "import time\n",
    "\n",
    "def f(n):\n",
    "    return n & 1 == 1\n",
    "print(f(7))\n",
    "print(f(2349017324987123948729382))"
   ]
  },
  {
   "cell_type": "markdown",
   "metadata": {},
   "source": [
    "In this case, we only need to check if the zeroth bit of the binary representation is set to 1. The number of operations does not depend on the value or the size of the input number."
   ]
  },
  {
   "cell_type": "markdown",
   "metadata": {},
   "source": [
    "* Searching a dictionary:"
   ]
  },
  {
   "cell_type": "code",
   "execution_count": 27,
   "metadata": {},
   "outputs": [
    {
     "name": "stdout",
     "output_type": "stream",
     "text": [
      "2\n"
     ]
    }
   ],
   "source": [
    "d = {}\n",
    "d['A'] = 1\n",
    "d['B'] = 2\n",
    "d['C'] = 3\n",
    "\n",
    "print(d['B'])"
   ]
  },
  {
   "cell_type": "markdown",
   "metadata": {},
   "source": [
    "Dictionaries are data structures which can be queried in constant time. If we have a key, we can retireve an element instantaneously."
   ]
  },
  {
   "cell_type": "markdown",
   "metadata": {},
   "source": [
    "----------------\n",
    "### Linear Time \\\\(O(n)\\\\)\n",
    "\n",
    "This complexity appears in real-life problems much more frequently than the constant time. The program is said to run in *linear* time if the time it takes is proportional to the input size:"
   ]
  },
  {
   "cell_type": "markdown",
   "metadata": {},
   "source": [
    "* Finding a maximum in an unsorted list:"
   ]
  },
  {
   "cell_type": "code",
   "execution_count": 29,
   "metadata": {},
   "outputs": [
    {
     "name": "stdout",
     "output_type": "stream",
     "text": [
      "9\n"
     ]
    }
   ],
   "source": [
    "def f(l):\n",
    "    _max = l[0]\n",
    "    for i in l:\n",
    "        if i > _max:\n",
    "            _max  = i       \n",
    "    return _max\n",
    "\n",
    "print(f([1,4,7,4,3,9,0,4,-3]))"
   ]
  },
  {
   "cell_type": "markdown",
   "metadata": {},
   "source": [
    "As we do not know anything about the order of elements in this list, we need to check every element in order to *see* if it is not the greatest. The longer the list, the more such checks are needed. In general, when we need to go trough some data structure a constant number of times, we are dealing with linear time."
   ]
  },
  {
   "cell_type": "markdown",
   "metadata": {},
   "source": [
    "----------------\n",
    "### Quadratic Time \\\\(O(n^2)\\\\)\n",
    "The *quadratic* time complexity is also a very popular case. It often might not be the most efficient solution and can point to better complexities such as \\\\(O(n*log(n))\\\\). However, there are problems in which such traversal is necessary. "
   ]
  },
  {
   "cell_type": "markdown",
   "metadata": {},
   "source": [
    "* **Selection sort**:"
   ]
  },
  {
   "cell_type": "code",
   "execution_count": 30,
   "metadata": {},
   "outputs": [
    {
     "name": "stdout",
     "output_type": "stream",
     "text": [
      "[2, 3, 3, 4, 5, 6, 7, 8, 9]\n"
     ]
    }
   ],
   "source": [
    "def swap(i,j,l):\n",
    "    temp = l[i]\n",
    "    l[i] = l[j]\n",
    "    l[j] = temp\n",
    "\n",
    "def selectionSort(l):\n",
    "    \n",
    "    i = 0\n",
    "    \n",
    "    while i < len(l)-1:\n",
    "        swap(i,i+l[i:].index(min(l[i:])),l)\n",
    "        i+=1\n",
    "        \n",
    "    return l\n",
    "    \n",
    "print(selectionSort([3,4,5,6,7,8,9,3,2]))"
   ]
  },
  {
   "cell_type": "markdown",
   "metadata": {},
   "source": [
    "The algorithm works as follows:\n",
    "\n",
    "1) Find the minimum of the list and swap it with the first element.\n",
    "\n",
    "2) Now consider all elements behind the first index\n",
    "\n",
    "3) Find the minimum of this sublist and swap it with the first element (of the sublist)S\n",
    "\n",
    "A diagram says more than a 1000 words:\n",
    "\n",
    "```{figure} Images/SelectionSort.png\n",
    ":width: 60%\n",
    "```\n"
   ]
  },
  {
   "cell_type": "code",
   "execution_count": null,
   "metadata": {},
   "outputs": [],
   "source": []
  }
 ],
 "metadata": {
  "kernelspec": {
   "display_name": "Python 3",
   "language": "python",
   "name": "python3"
  },
  "language_info": {
   "codemirror_mode": {
    "name": "ipython",
    "version": 3
   },
   "file_extension": ".py",
   "mimetype": "text/x-python",
   "name": "python",
   "nbconvert_exporter": "python",
   "pygments_lexer": "ipython3",
   "version": "3.7.4"
  }
 },
 "nbformat": 4,
 "nbformat_minor": 2
}
