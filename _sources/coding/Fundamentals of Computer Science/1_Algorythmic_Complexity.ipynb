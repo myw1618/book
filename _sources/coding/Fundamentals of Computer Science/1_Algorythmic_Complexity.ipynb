{
 "cells": [
  {
   "cell_type": "markdown",
   "metadata": {},
   "source": [
    "(algorythmic_complexity)=\n",
    "# Algorithmic Complexity\n",
    "``` {index} Algorithmic Complexity\n",
    "```\n",
    "\n",
    "In order to make our programs efficient (or, at least, not horribly inefficient), we can consider how the execution time varies depending on the input size \\\\(n\\\\). Let us define a measure of this efficiency as a function \\\\( T(n)\\\\). Of course, the time it takes to execute a code will vary largely depending on the processor, compiler or disk speed. \\\\( T(n)\\\\) goes around this variance by measuring *asymptotic* complexity. In this case, only (broadly defined) *steps* will determine the time it takes to execute an algorithm."
   ]
  },
  {
   "cell_type": "markdown",
   "metadata": {},
   "source": [
    "Now, say we want to add two \\\\(n\\\\)-bit binary digits. One way to do this is to go bit by bit and add the two. We can se that \\\\(n\\\\) operations are involved. \n",
    "\\\\[T(n) = c*n\\\\]\n",
    "where \\\\(c\\\\) is time it takes to add two bits on a machine. "
   ]
  },
  {
   "cell_type": "code",
   "execution_count": null,
   "metadata": {},
   "outputs": [],
   "source": []
  }
 ],
 "metadata": {
  "kernelspec": {
   "display_name": "Python 3",
   "language": "python",
   "name": "python3"
  },
  "language_info": {
   "codemirror_mode": {
    "name": "ipython",
    "version": 3
   },
   "file_extension": ".py",
   "mimetype": "text/x-python",
   "name": "python",
   "nbconvert_exporter": "python",
   "pygments_lexer": "ipython3",
   "version": "3.7.4"
  }
 },
 "nbformat": 4,
 "nbformat_minor": 2
}
