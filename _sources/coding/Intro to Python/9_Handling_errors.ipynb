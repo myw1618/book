{
 "cells": [
  {
   "cell_type": "markdown",
   "metadata": {},
   "source": [
    "(handling_errors)=\n",
    "# Handling errors\n",
    "``` {index} Handling errors\n",
    "```\n",
    "When an _error_ occurs in Python, an _exception_ is _raised_. \n",
    "\n",
    "(error_types)=\n",
    "## Error types\n",
    "The full list of built-in exceptions is available in the [documentation](https://docs.python.org/3/library/exceptions.html#concrete-exceptions).\n",
    "\n",
    "For example, when we create a tuple with only four elements and want to print the 5th element, we get this error message:\n",
    "\n",
    "    flower_names = (\"iris\",\n",
    "                    \"poppy\",\n",
    "                    \"dandelion\",\n",
    "                    \"rose\")\n",
    "\n",
    "    print(flower_names[4])\n",
    "\n",
    "    ---------------------------------------------------------------------------\n",
    "    IndexError                                Traceback (most recent call last)\n",
    "    <ipython-input-2-3497b57dd596> in <module>\n",
    "          4                 \"rose\")\n",
    "          5 \n",
    "    ----> 6 print(flower_names[4])\n",
    "\n",
    "    IndexError: tuple index out of range\n",
    "    \n",
    "IndexError refers to incorrect index, such as out of bounds.\n",
    "\n",
    "(raising_errors)=\n",
    "## Raising errors\n",
    "In-built functions trigger or _raise_ errors in Python. We can do that as well by using _raise_:\n",
    "\n",
    "    raise ValueError\n",
    "\n",
    "    ---------------------------------------------------------------------------\n",
    "    ValueError                                Traceback (most recent call last)\n",
    "    <ipython-input-5-e4c8e09828d5> in <module>\n",
    "    ----> 1 raise ValueError\n",
    "\n",
    "    ValueError:\n",
    "    \n",
    "## Catching errors\n",
    "(try_except)=\n",
    "### Try and except blocks\n",
    "To handle errors in the code gracefully, we can use _try_ and _except_ blocks to avoid unnecessary crashes of the program. The _try_ block executes the program and if the program fails, exception is raised and we can recover from the error. This is especially useful if we do not want our program to crash (imagine YouTube crashing!). The syntax is:\n",
    "\n",
    "    try:\n",
    "        # some code\n",
    "    except ExceptionName1:\n",
    "        # some code\n",
    "    except ExceptionName2:\n",
    "        # some code\n",
    "    …\n",
    "    except:\n",
    "        # lines to execute if there was an exception not caught above\n",
    "    else:\n",
    "        # lines to execute if there was no exception at all\n",
    "_else_ is optional, at least one _except_ needs to be raised. An example code below:"
   ]
  },
  {
   "cell_type": "code",
   "execution_count": 1,
   "metadata": {},
   "outputs": [
    {
     "name": "stdout",
     "output_type": "stream",
     "text": [
      "Exception was raised.\n",
      "Please use digits in your string.\n"
     ]
    }
   ],
   "source": [
    "a = \"ten\"\n",
    "\n",
    "try:\n",
    "    \n",
    "    # Try to create a number out of a string\n",
    "    \n",
    "    float(a)\n",
    "    \n",
    "except ValueError:\n",
    "    \n",
    "    # Raise an error if characters are not numbers\n",
    "    \n",
    "    print(\"Exception was raised.\\nPlease use digits in your string.\")"
   ]
  },
  {
   "cell_type": "markdown",
   "metadata": {},
   "source": [
    "(handling_errors_exercises)=\n",
    "## Exercises\n",
    "------------\n",
    "* **Identify** which errors will be thrown in the following code samples (without running it :D):\n"
   ]
  },
  {
   "cell_type": "code",
   "execution_count": 1,
   "metadata": {
    "tags": [
     "remove-output"
    ]
   },
   "outputs": [
    {
     "ename": "NameError",
     "evalue": "name 's' is not defined",
     "output_type": "error",
     "traceback": [
      "\u001b[1;31m---------------------------------------------------------------------------\u001b[0m",
      "\u001b[1;31mNameError\u001b[0m                                 Traceback (most recent call last)",
      "\u001b[1;32m<ipython-input-1-964a7f747009>\u001b[0m in \u001b[0;36m<module>\u001b[1;34m\u001b[0m\n\u001b[1;32m----> 1\u001b[1;33m \u001b[0ms\u001b[0m\u001b[1;33m+=\u001b[0m\u001b[1;36m1\u001b[0m\u001b[1;33m\u001b[0m\u001b[1;33m\u001b[0m\u001b[0m\n\u001b[0m",
      "\u001b[1;31mNameError\u001b[0m: name 's' is not defined"
     ]
    }
   ],
   "source": [
    "s+=1"
   ]
  },
  {
   "cell_type": "code",
   "execution_count": 2,
   "metadata": {
    "tags": [
     "remove-output"
    ]
   },
   "outputs": [
    {
     "ename": "IndexError",
     "evalue": "list index out of range",
     "output_type": "error",
     "traceback": [
      "\u001b[1;31m---------------------------------------------------------------------------\u001b[0m",
      "\u001b[1;31mIndexError\u001b[0m                                Traceback (most recent call last)",
      "\u001b[1;32m<ipython-input-2-90366a66442d>\u001b[0m in \u001b[0;36m<module>\u001b[1;34m\u001b[0m\n\u001b[0;32m      1\u001b[0m \u001b[0ms\u001b[0m \u001b[1;33m=\u001b[0m \u001b[1;33m[\u001b[0m\u001b[1;36m1\u001b[0m\u001b[1;33m,\u001b[0m\u001b[1;36m0\u001b[0m\u001b[1;33m,\u001b[0m\u001b[1;36m1\u001b[0m\u001b[1;33m,\u001b[0m\u001b[1;36m3\u001b[0m\u001b[1;33m,\u001b[0m\u001b[1;36m2\u001b[0m\u001b[1;33m,\u001b[0m\u001b[1;36m4\u001b[0m\u001b[1;33m]\u001b[0m\u001b[1;33m\u001b[0m\u001b[1;33m\u001b[0m\u001b[0m\n\u001b[1;32m----> 2\u001b[1;33m \u001b[0ms\u001b[0m\u001b[1;33m[\u001b[0m\u001b[1;36m9\u001b[0m\u001b[1;33m]\u001b[0m\u001b[1;33m\u001b[0m\u001b[1;33m\u001b[0m\u001b[0m\n\u001b[0m",
      "\u001b[1;31mIndexError\u001b[0m: list index out of range"
     ]
    }
   ],
   "source": [
    "s = [1,0,1,3,2,4]\n",
    "s[9]"
   ]
  },
  {
   "cell_type": "code",
   "execution_count": 3,
   "metadata": {
    "scrolled": true,
    "tags": [
     "remove-output"
    ]
   },
   "outputs": [
    {
     "ename": "TypeError",
     "evalue": "can only concatenate str (not \"int\") to str",
     "output_type": "error",
     "traceback": [
      "\u001b[1;31m---------------------------------------------------------------------------\u001b[0m",
      "\u001b[1;31mTypeError\u001b[0m                                 Traceback (most recent call last)",
      "\u001b[1;32m<ipython-input-3-a447d8e131a1>\u001b[0m in \u001b[0;36m<module>\u001b[1;34m\u001b[0m\n\u001b[1;32m----> 1\u001b[1;33m \u001b[1;34m\"str\"\u001b[0m \u001b[1;33m+\u001b[0m \u001b[1;36m7\u001b[0m\u001b[1;33m\u001b[0m\u001b[1;33m\u001b[0m\u001b[0m\n\u001b[0m",
      "\u001b[1;31mTypeError\u001b[0m: can only concatenate str (not \"int\") to str"
     ]
    }
   ],
   "source": [
    "\"str\" + 7"
   ]
  },
  {
   "cell_type": "code",
   "execution_count": 6,
   "metadata": {
    "tags": [
     "remove-output"
    ]
   },
   "outputs": [
    {
     "ename": "OverflowError",
     "evalue": "cannot fit 'int' into an index-sized integer",
     "output_type": "error",
     "traceback": [
      "\u001b[1;31m---------------------------------------------------------------------------\u001b[0m",
      "\u001b[1;31mOverflowError\u001b[0m                             Traceback (most recent call last)",
      "\u001b[1;32m<ipython-input-6-1ff1a3b0e706>\u001b[0m in \u001b[0;36m<module>\u001b[1;34m\u001b[0m\n\u001b[1;32m----> 1\u001b[1;33m \u001b[1;33m[\u001b[0m\u001b[1;36m0\u001b[0m\u001b[1;33m]\u001b[0m\u001b[1;33m*\u001b[0m\u001b[1;33m(\u001b[0m\u001b[1;36m2\u001b[0m\u001b[1;33m**\u001b[0m\u001b[1;36m5000\u001b[0m\u001b[1;33m)\u001b[0m\u001b[1;33m\u001b[0m\u001b[1;33m\u001b[0m\u001b[0m\n\u001b[0m",
      "\u001b[1;31mOverflowError\u001b[0m: cannot fit 'int' into an index-sized integer"
     ]
    }
   ],
   "source": [
    "[0]*(2**5000)"
   ]
  },
  {
   "cell_type": "markdown",
   "metadata": {},
   "source": [
    "```{admonition} Anwser\n",
    ":class: dropdown\n",
    "\n",
    "1) NameError\n",
    "\n",
    "2) IndexError\n",
    "\n",
    "3) TypeError\n",
    "\n",
    "4) OverflowError\n",
    "\n",
    "\n",
    "```"
   ]
  },
  {
   "cell_type": "markdown",
   "metadata": {},
   "source": [
    "_________________\n",
    "* **Types are gone!** Say we have a list:\n",
    "\n",
    "        l = [1,True, 4, \"blob\", \"boom\", 5,6, print]\n",
    "        \n",
    "Compute the sum of the numerical element of the list (do not use the \\\\(type()\\\\) function!). Anything interesting regarding the boolean constants?   \n",
    "\n",
    "**HINT**: Consider using a ```pass``` statement in the ```except``` block which circumvents (*ignores*) the raised error and continues the execution."
   ]
  },
  {
   "cell_type": "markdown",
   "metadata": {},
   "source": [
    "```{admonition} Anwser\n",
    ":class: dropdown    \n",
    "\n",
    "    l = [1,True, 4, \"blob\", \"boom\", 5,6, print]\n",
    "    res = 0\n",
    "\n",
    "    for i in l:\n",
    "        try:\n",
    "            res+=i\n",
    "        except TypeError:\n",
    "            pass\n",
    "\n",
    "    print(res)\n",
    "```"
   ]
  }
 ],
 "metadata": {
  "celltoolbar": "Tags",
  "kernelspec": {
   "display_name": "Python 3",
   "language": "python",
   "name": "python3"
  },
  "language_info": {
   "codemirror_mode": {
    "name": "ipython",
    "version": 3
   },
   "file_extension": ".py",
   "mimetype": "text/x-python",
   "name": "python",
   "nbconvert_exporter": "python",
   "pygments_lexer": "ipython3",
   "version": "3.7.4"
  }
 },
 "nbformat": 4,
 "nbformat_minor": 2
}
