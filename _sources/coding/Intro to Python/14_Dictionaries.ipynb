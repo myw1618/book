{
 "cells": [
  {
   "cell_type": "markdown",
   "metadata": {},
   "source": [
    "(dictionaries)=\n",
    "# Dictionaries\n",
    "``` {index} Dictionaries\n",
    "```\n",
    "A dictionary is a Python data structure that can store data as key-value pairs. The syntax is:\n",
    "\n",
    "    dict1 = {key1: value1, key2: value2, key3: value3, etc...}\n",
    "Keys can be strings or numbers and values can be anything: strings, numbers, lists, arrays, etc. Keys must be unique - if you set it twice, the second value replaces the first."
   ]
  },
  {
   "cell_type": "code",
   "execution_count": 1,
   "metadata": {},
   "outputs": [
    {
     "name": "stdout",
     "output_type": "stream",
     "text": [
      "{'basalt': 1, 'granite': 2, 'marl': 3, 'gneiss': 4, 'shale': 5}\n"
     ]
    }
   ],
   "source": [
    "rocks_dict = {\"basalt\": 1, \"granite\": 2,\n",
    "              \"marl\": 3, \"gneiss\": 4, \n",
    "              \"shale\": 5}\n",
    "print(rocks_dict)"
   ]
  },
  {
   "cell_type": "markdown",
   "metadata": {},
   "source": [
    "We can access and modify values based on their key:"
   ]
  },
  {
   "cell_type": "code",
   "execution_count": 2,
   "metadata": {},
   "outputs": [
    {
     "name": "stdout",
     "output_type": "stream",
     "text": [
      "1\n",
      "{'basalt': 1, 'granite': 2, 'marl': 3, 'gneiss': 4, 'shale': 5, 'sandstone': 6}\n",
      "{'basalt': 1, 'granite': 2, 'marl': 3, 'gneiss': 4, 'shale': 5, 'sandstone': 6, 'schist': 7}\n",
      "{'basalt': 1, 'granite': 2, 'marl': 3, 'gneiss': 4, 'shale': 5, 'schist': 7}\n",
      "{'basalt': 1, 'granite': 2, 'marl': 3, 'gneiss': 4, 'shale': 5}\n"
     ]
    }
   ],
   "source": [
    "# Access value with key 'basalt'\n",
    "print(rocks_dict[\"basalt\"])\n",
    "\n",
    "# Create a new key 'sandstone' with value 6\n",
    "rocks_dict[\"sandstone\"] = 6\n",
    "print(rocks_dict)\n",
    "\n",
    "# Add another key/valye pair to the dictionary\n",
    "rocks_dict.update({\"schist\": 7})\n",
    "print(rocks_dict)\n",
    "\n",
    "# Remove new entry\n",
    "del rocks_dict[\"sandstone\"]\n",
    "print(rocks_dict)\n",
    "\n",
    "# Remove entry\n",
    "rocks_dict.pop(\"schist\")\n",
    "print(rocks_dict)"
   ]
  },
  {
   "cell_type": "markdown",
   "metadata": {},
   "source": [
    "We can also search and iterate over keys:"
   ]
  },
  {
   "cell_type": "code",
   "execution_count": 3,
   "metadata": {},
   "outputs": [
    {
     "name": "stdout",
     "output_type": "stream",
     "text": [
      "2\n",
      "basalt 1\n",
      "granite 2\n",
      "marl 3\n",
      "gneiss 4\n",
      "shale 5\n"
     ]
    }
   ],
   "source": [
    "# Search if key 'granite' exists\n",
    "if \"granite\" in rocks_dict:\n",
    "    print(rocks_dict[\"granite\"])\n",
    "    \n",
    "# Iterate over keys in rocks_dict\n",
    "for key in rocks_dict:\n",
    "    print(key, rocks_dict[key])"
   ]
  },
  {
   "cell_type": "markdown",
   "metadata": {},
   "source": [
    "(dictionaries_exercises)=\n",
    "## Exercises\n",
    "\n",
    "-------------\n",
    "\n",
    "* **Countries per continent** Question very similair to the one in File Handling Section. Change the following code, so that the result is a dictionary:\n",
    "\n"
   ]
  },
  {
   "cell_type": "code",
   "execution_count": 4,
   "metadata": {},
   "outputs": [
    {
     "name": "stdout",
     "output_type": "stream",
     "text": [
      "[('Europe', 57), ('Asia', 58), ('Africa', 58), ('Antarctica', 5), ('North America', 43), ('South America', 14), ('Oceania', 27)]\n"
     ]
    }
   ],
   "source": [
    "from pandas import read_csv\n",
    "\n",
    "df = read_csv('Data\\\\CountryContinent.csv')\n",
    "\n",
    "continents = ('Europe','Asia','Africa','Antarctica','North America','South America','Oceania')\n",
    "\n",
    "res = []\n",
    "\n",
    "for i in continents:\n",
    "    res.append((i,0))\n",
    "\n",
    "for index, row in df.iterrows():\n",
    "\n",
    "    if row[\"Three_Letter_Country_Code\"] != \"nan\":\n",
    "\n",
    "        for j in range(len(res)):\n",
    "\n",
    "            if row[\"Continent_Name\"] == res[j][0]:\n",
    "\n",
    "                res[j] = (res[j][0],res[j][1]+1)\n",
    "\n",
    "print(res)"
   ]
  },
  {
   "cell_type": "markdown",
   "metadata": {},
   "source": [
    "```{admonition} Anwser\n",
    ":class: dropdown\n",
    "\n",
    "    from pandas import read_csv\n",
    "\n",
    "    df = read_csv('Data\\\\CountryContinent.csv')\n",
    "\n",
    "    continents = ('Europe','Asia','Africa','Antarctica','North America','South America','Oceania')\n",
    "\n",
    "    res = {} #change here\n",
    "\n",
    "    for i in continents:\n",
    "        res[i] = 0\n",
    "\n",
    "\n",
    "    for index, row in df.iterrows():\n",
    "\n",
    "        if row[\"Three_Letter_Country_Code\"] != \"nan\": \n",
    "\n",
    "            #change here\n",
    "            \n",
    "            res[row[\"Continent_Name\"]] +=1\n",
    "            \n",
    "    print(res)\n",
    "```"
   ]
  },
  {
   "cell_type": "code",
   "execution_count": null,
   "metadata": {},
   "outputs": [],
   "source": []
  }
 ],
 "metadata": {
  "kernelspec": {
   "display_name": "Python 3",
   "language": "python",
   "name": "python3"
  },
  "language_info": {
   "codemirror_mode": {
    "name": "ipython",
    "version": 3
   },
   "file_extension": ".py",
   "mimetype": "text/x-python",
   "name": "python",
   "nbconvert_exporter": "python",
   "pygments_lexer": "ipython3",
   "version": "3.7.4"
  }
 },
 "nbformat": 4,
 "nbformat_minor": 2
}
