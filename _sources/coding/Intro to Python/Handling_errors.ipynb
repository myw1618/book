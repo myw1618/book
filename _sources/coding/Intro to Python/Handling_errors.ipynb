{
 "cells": [
  {
   "cell_type": "markdown",
   "metadata": {},
   "source": [
    "(handling_errors)=\n",
    "# Handling errors\n",
    "``` {index} Handling errors\n",
    "```\n",
    "When an _error_ occurs in Python, an _exception_ is _raised_. \n",
    "\n",
    "(error_types)=\n",
    "## Error types\n",
    "The full list of built-in exceptions is available in the [documentation](https://docs.python.org/3/library/exceptions.html#concrete-exceptions).\n",
    "\n",
    "For example, when we create a tuple with only four elements and want to print the 5th element, we get this error message:\n",
    "\n",
    "    flower_names = (\"iris\",\n",
    "                    \"poppy\",\n",
    "                    \"dandelion\",\n",
    "                    \"rose\")\n",
    "\n",
    "    print(flower_names[4])\n",
    "\n",
    "    ---------------------------------------------------------------------------\n",
    "    IndexError                                Traceback (most recent call last)\n",
    "    <ipython-input-2-3497b57dd596> in <module>\n",
    "          4                 \"rose\")\n",
    "          5 \n",
    "    ----> 6 print(flower_names[4])\n",
    "\n",
    "    IndexError: tuple index out of range\n",
    "    \n",
    "IndexError refers to incorrect index, such as out of bounds.\n",
    "\n",
    "(raising_errors)=\n",
    "## Raising errors\n",
    "In-built functions trigger or _raise_ errors in Python. We can do that as well by using _raise_:\n",
    "\n",
    "    raise ValueError\n",
    "\n",
    "    ---------------------------------------------------------------------------\n",
    "    ValueError                                Traceback (most recent call last)\n",
    "    <ipython-input-5-e4c8e09828d5> in <module>\n",
    "    ----> 1 raise ValueError\n",
    "\n",
    "    ValueError:\n",
    "    \n",
    "## Catching errors\n",
    "(try_except)=\n",
    "### Try and except blocks\n",
    "To handle errors in the code gracefully, we can use _try_ and _except_ blocks to avoid unnecessary crashes of the program. The _try_ block executes the program and if the program fails, exception is raised and we can recover from the error. The syntax is:\n",
    "\n",
    "    try:\n",
    "        # some code\n",
    "    except ExceptionName1:\n",
    "        # some code\n",
    "    except ExceptionName2:\n",
    "        # some code\n",
    "    …\n",
    "    except:\n",
    "        # lines to execute if there was an exception not caught above\n",
    "    else:\n",
    "        # lines to execute if there was no exception at all\n",
    "_else_ is optional, at least one _except_ needs to be raised. An example code below:"
   ]
  },
  {
   "cell_type": "code",
   "execution_count": 1,
   "metadata": {},
   "outputs": [
    {
     "name": "stdout",
     "output_type": "stream",
     "text": [
      "Exception was raised.\n",
      "Please use digits in your string.\n"
     ]
    }
   ],
   "source": [
    "a = \"ten\"\n",
    "\n",
    "try:\n",
    "    \n",
    "    # Try to create a number out of a string\n",
    "    \n",
    "    float(a)\n",
    "    \n",
    "except ValueError:\n",
    "    \n",
    "    # Raise an error if characters are not numbers\n",
    "    \n",
    "    print(\"Exception was raised.\\nPlease use digits in your string.\")"
   ]
  }
 ],
 "metadata": {
  "kernelspec": {
   "display_name": "Python 3",
   "language": "python",
   "name": "python3"
  },
  "language_info": {
   "codemirror_mode": {
    "name": "ipython",
    "version": 3
   },
   "file_extension": ".py",
   "mimetype": "text/x-python",
   "name": "python",
   "nbconvert_exporter": "python",
   "pygments_lexer": "ipython3",
   "version": "3.7.3"
  }
 },
 "nbformat": 4,
 "nbformat_minor": 2
}
