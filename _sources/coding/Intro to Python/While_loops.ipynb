{
 "cells": [
  {
   "cell_type": "markdown",
   "metadata": {},
   "source": [
    "# _While_ loops\n",
    "``` {index} Loops: while loops\n",
    "```\n",
    "_While_ loops repeat instructions until certain condition is **False** (while the condition is **True**). The syntax is as follows:\n",
    "    \n",
    "    while boolean:\n",
    "        # Some code to be executed while boolean is True\n",
    "        \n",
    "    # Some more code to be executed once the while loop is over, executed once\n",
    "    \n",
    "Some _while_ loops are infinite, where the condition never becomes **False**. A _while_ loop, similar to _if_ statements, needs the code to be indented."
   ]
  },
  {
   "cell_type": "markdown",
   "metadata": {},
   "source": [
    "## Example:"
   ]
  },
  {
   "cell_type": "code",
   "execution_count": 1,
   "metadata": {},
   "outputs": [
    {
     "name": "stdout",
     "output_type": "stream",
     "text": [
      "Initial counter is:  0\n",
      "\n",
      "Entering while loop\n",
      "1\n",
      "2\n",
      "3\n",
      "4\n",
      "5\n",
      "6\n",
      "7\n",
      "8\n",
      "9\n",
      "10\n",
      "11\n",
      "While loop finished.\n",
      "\n",
      "Final counter is:  11\n"
     ]
    }
   ],
   "source": [
    "counter = 0 # Set counter\n",
    "\n",
    "print(\"Initial counter is: \", counter)\n",
    "\n",
    "print(\"\\nEntering while loop\")\n",
    "\n",
    "while counter <= 10:\n",
    "    \n",
    "    # Add one to the counter until it is equal to 10\n",
    "    counter = counter + 1\n",
    "    \n",
    "    print(counter)\n",
    "    \n",
    "print(\"While loop finished.\\n\")\n",
    "    \n",
    "print(\"Final counter is: \", counter)"
   ]
  },
  {
   "cell_type": "markdown",
   "metadata": {},
   "source": [
    "## Exercise:\n",
    "\n",
    "Create a _while_ loop to find Celsius temperatures for Fahrenheit temperatures between 20$^\\circ$F and 80$^\\circ$F at 5$^\\circ$F increments. The Fahrenheit-Celsius conversion formula is: $$ T_{Celsius} = \\frac{5}{9}*(T_{Fahrenheit}-32) $$"
   ]
  },
  {
   "cell_type": "code",
   "execution_count": 2,
   "metadata": {},
   "outputs": [
    {
     "name": "stdout",
     "output_type": "stream",
     "text": [
      "20.00 degrees Fahrenheit is -6.67 degrees Celsius.\n",
      "25.00 degrees Fahrenheit is -3.89 degrees Celsius.\n",
      "30.00 degrees Fahrenheit is -1.11 degrees Celsius.\n",
      "35.00 degrees Fahrenheit is 1.67 degrees Celsius.\n",
      "40.00 degrees Fahrenheit is 4.44 degrees Celsius.\n",
      "45.00 degrees Fahrenheit is 7.22 degrees Celsius.\n",
      "50.00 degrees Fahrenheit is 10.00 degrees Celsius.\n",
      "55.00 degrees Fahrenheit is 12.78 degrees Celsius.\n",
      "60.00 degrees Fahrenheit is 15.56 degrees Celsius.\n",
      "65.00 degrees Fahrenheit is 18.33 degrees Celsius.\n",
      "70.00 degrees Fahrenheit is 21.11 degrees Celsius.\n",
      "75.00 degrees Fahrenheit is 23.89 degrees Celsius.\n",
      "80.00 degrees Fahrenheit is 26.67 degrees Celsius.\n"
     ]
    }
   ],
   "source": [
    "temp_F = 20           # Initial temperature in Fahrenheit\n",
    "dF = 5                # Increment in Fahrenheit\n",
    "\n",
    "while temp_F <= 80:\n",
    "    \n",
    "    temp_C = 5./9.*(temp_F-32) # Calculate the temperature in Celsius\n",
    "    \n",
    "    # Make a nicely formatted print statement\n",
    "    \n",
    "    print(\"%.2f degrees Fahrenheit is %.2f degrees Celsius.\" % (temp_F, temp_C))\n",
    "    \n",
    "    # Add increment to the temperature so it increases with each loop\n",
    "    \n",
    "    temp_F = temp_F + dF"
   ]
  }
 ],
 "metadata": {
  "kernelspec": {
   "display_name": "Python 3",
   "language": "python",
   "name": "python3"
  },
  "language_info": {
   "codemirror_mode": {
    "name": "ipython",
    "version": 3
   },
   "file_extension": ".py",
   "mimetype": "text/x-python",
   "name": "python",
   "nbconvert_exporter": "python",
   "pygments_lexer": "ipython3",
   "version": "3.7.3"
  }
 },
 "nbformat": 4,
 "nbformat_minor": 2
}
