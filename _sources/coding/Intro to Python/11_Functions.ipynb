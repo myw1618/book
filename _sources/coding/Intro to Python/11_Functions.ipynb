{
 "cells": [
  {
   "cell_type": "markdown",
   "metadata": {},
   "source": [
    "(functions_python)=\n",
    "# Creating custom functions\n",
    "``` {index} Creating functions\n",
    "```\n",
    "Functions in Python are blocks of code that will only be executed when called. They look like this:\n",
    "\n",
    "    def function_name(arg1, arg2, ...):\n",
    "        # some code to execute\n",
    "        return # return some variables, optional\n",
    "\n",
    "Function names should be descriptive. The arguments are separated by commas and will become local variables within the function. Any object, and any number of objects, can be returned from a function.\n",
    "\n",
    "Functions have to appear in the code before you execute them:"
   ]
  },
  {
   "cell_type": "code",
   "execution_count": 1,
   "metadata": {},
   "outputs": [
    {
     "name": "stdout",
     "output_type": "stream",
     "text": [
      "1 - 2 = -1\n",
      "17 - 5 = 12\n",
      "9 - 28 = -19\n"
     ]
    }
   ],
   "source": [
    "a = 1\n",
    "b = 2\n",
    "\n",
    "# Create a function\n",
    "\n",
    "def subtract_numbers(a, b):\n",
    "    return \"%g - %g = %g\" % (a, b, a-b)\n",
    "\n",
    "# Call created function\n",
    "\n",
    "print(subtract_numbers(a, b))\n",
    "print(subtract_numbers(17,5))\n",
    "print(subtract_numbers(9, 28))"
   ]
  },
  {
   "cell_type": "markdown",
   "metadata": {},
   "source": [
    "Even though we have variables a and b in the code, the function does not use them unless they are arguments to the function. Variables 'a' and 'b' inside the function are local variables and they only exist there. If we want to use global variables (variables outside of the function), the code will look like this:"
   ]
  },
  {
   "cell_type": "code",
   "execution_count": 2,
   "metadata": {},
   "outputs": [
    {
     "name": "stdout",
     "output_type": "stream",
     "text": [
      "a = 12\n",
      "a = 16\n"
     ]
    }
   ],
   "source": [
    "a = 10\n",
    "\n",
    "# Create a function\n",
    "\n",
    "def add_to_variable_a(b):\n",
    "    global a  # Make 'a' a global variable\n",
    "    a += b\n",
    "    return a\n",
    "\n",
    "# Call the function\n",
    "\n",
    "print(\"a =\", add_to_variable_a(2))\n",
    "print(\"a =\", add_to_variable_a(4))\n",
    "\n",
    "# Note how variable a changed"
   ]
  },
  {
   "cell_type": "markdown",
   "metadata": {},
   "source": [
    "(functions_exercises) =\n",
    "## Exercises\n",
    "-------\n",
    "* **Immutable vs Mutable** Functions can either change the objects (variables) passed to them. Everything depends if an object is mutable. Compare the behaviour of the two functions"
   ]
  },
  {
   "cell_type": "code",
   "execution_count": 12,
   "metadata": {},
   "outputs": [
    {
     "name": "stdout",
     "output_type": "stream",
     "text": [
      "int Before: 1\n",
      "int After: 1\n",
      "list Before: [1, 2, 3]\n",
      "list After: [2, 4, 6]\n"
     ]
    }
   ],
   "source": [
    "def listTimesTwo(l):\n",
    "    \n",
    "    for i in range(len(l)):\n",
    "        l[i]*=2\n",
    "\n",
    "def intTimesTwo(a):\n",
    "    a *= 2\n",
    "    \n",
    "a = 1\n",
    "\n",
    "print(\"int Before: \" + str(a))\n",
    "\n",
    "intTimesTwo(a)\n",
    "\n",
    "print(\"int After: \" + str(a))\n",
    "\n",
    "l = [1,2,3]\n",
    "\n",
    "print(\"list Before: \" + str(l))\n",
    "\n",
    "listTimesTwo(l)\n",
    "\n",
    "print(\"list After: \" + str(l))"
   ]
  },
  {
   "cell_type": "markdown",
   "metadata": {},
   "source": [
    "Let us have some fun with mutability. Define a function which takes a list and doubles the elements on the even indicies and negates the ones on odd indicies"
   ]
  }
 ],
 "metadata": {
  "kernelspec": {
   "display_name": "Python 3",
   "language": "python",
   "name": "python3"
  },
  "language_info": {
   "codemirror_mode": {
    "name": "ipython",
    "version": 3
   },
   "file_extension": ".py",
   "mimetype": "text/x-python",
   "name": "python",
   "nbconvert_exporter": "python",
   "pygments_lexer": "ipython3",
   "version": "3.7.4"
  }
 },
 "nbformat": 4,
 "nbformat_minor": 2
}
