{
 "cells": [
  {
   "cell_type": "markdown",
   "metadata": {},
   "source": [
    "(functions)=\n",
    "# Creating custom functions\n",
    "``` {index} Creating functions\n",
    "```\n",
    "Functions in Python are blocks of code that will only be executed when called. They look like this:\n",
    "\n",
    "    def function_name(arg1, arg2, ...):\n",
    "        # some code to execute\n",
    "        return # return some variables, optional\n",
    "\n",
    "Function names should be descriptive. The arguments are separated by commas and will become local variables within the function. Any object, and any number of objects, can be returned from a function.\n",
    "\n",
    "Functions have to appear in the code before you execute them:"
   ]
  },
  {
   "cell_type": "code",
   "execution_count": 1,
   "metadata": {},
   "outputs": [
    {
     "name": "stdout",
     "output_type": "stream",
     "text": [
      "1 - 2 = -1\n",
      "17 - 5 = 12\n",
      "9 - 28 = -19\n"
     ]
    }
   ],
   "source": [
    "a = 1\n",
    "b = 2\n",
    "\n",
    "# Create a function\n",
    "\n",
    "def subtract_numbers(a, b):\n",
    "    return \"%g - %g = %g\" % (a, b, a-b)\n",
    "\n",
    "# Call created function\n",
    "\n",
    "print(subtract_numbers(a, b))\n",
    "print(subtract_numbers(17,5))\n",
    "print(subtract_numbers(9, 28))"
   ]
  },
  {
   "cell_type": "markdown",
   "metadata": {},
   "source": [
    "Even though we have variables a and b in the code, the function does not use them unless they are arguments to the function. Variables 'a' and 'b' inside the function are local variables and they only exist there. If we want to use global variables (variables outside of the function), the code will look like this:"
   ]
  },
  {
   "cell_type": "code",
   "execution_count": 2,
   "metadata": {},
   "outputs": [
    {
     "name": "stdout",
     "output_type": "stream",
     "text": [
      "a = 12\n",
      "a = 16\n"
     ]
    }
   ],
   "source": [
    "a = 10\n",
    "\n",
    "# Create a function\n",
    "\n",
    "def add_to_variable_a(b):\n",
    "    global a  # Make 'a' a global variable\n",
    "    a += b\n",
    "    return a\n",
    "\n",
    "# Call the function\n",
    "\n",
    "print(\"a =\", add_to_variable_a(2))\n",
    "print(\"a =\", add_to_variable_a(4))\n",
    "\n",
    "# Note how variable a changed"
   ]
  }
 ],
 "metadata": {
  "kernelspec": {
   "display_name": "Python 3",
   "language": "python",
   "name": "python3"
  },
  "language_info": {
   "codemirror_mode": {
    "name": "ipython",
    "version": 3
   },
   "file_extension": ".py",
   "mimetype": "text/x-python",
   "name": "python",
   "nbconvert_exporter": "python",
   "pygments_lexer": "ipython3",
   "version": "3.7.3"
  }
 },
 "nbformat": 4,
 "nbformat_minor": 2
}
