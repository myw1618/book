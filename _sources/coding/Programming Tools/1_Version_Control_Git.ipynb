{
 "cells": [
  {
   "cell_type": "markdown",
   "metadata": {},
   "source": [
    "(version_control_git)=\n",
    "# Version Control Git\n",
    "\n",
    "As a future researcher, professional or enthusiast you will find that maintaing a high standard of code is a considerable challenge. This can get even harder when multiple programmers are involved. Coding can be very rewarding, but it is also ful of pitfalls and requires a *trial-and-error* approach.  \n",
    "\n",
    "This is where **version control** comes in. It is a software which allows you to track the development of your coding project. It also enables your peers to work on different versions of the same structure. \n",
    "\n",
    "The most well known version control facility is [git](https://git-scm.com/) but there are others such as [mercurial](https://www.mercurial-scm.org/). We are goint to tacle the former. There are many platforms that allow to host git repositories, but the most well known one is [GitHub](https://github.com/). This is the one we are going to use. "
   ]
  },
  {
   "cell_type": "markdown",
   "metadata": {},
   "source": [
    "## Setting up Git\n",
    "\n",
    "If you are on macOS or most distributions of Linux, you have git already configured on your machine. \n",
    "\n",
    "For Windows, you will need to download and install [Git for Windows](https://gitforwindows.org/).\n",
    "\n",
    "We will be accessing git via the terminal (*Git Bash* on Windows)."
   ]
  },
  {
   "cell_type": "markdown",
   "metadata": {},
   "source": [
    "## My first git repo"
   ]
  },
  {
   "cell_type": "code",
   "execution_count": null,
   "metadata": {},
   "outputs": [],
   "source": []
  }
 ],
 "metadata": {
  "kernelspec": {
   "display_name": "Python 3",
   "language": "python",
   "name": "python3"
  },
  "language_info": {
   "codemirror_mode": {
    "name": "ipython",
    "version": 3
   },
   "file_extension": ".py",
   "mimetype": "text/x-python",
   "name": "python",
   "nbconvert_exporter": "python",
   "pygments_lexer": "ipython3",
   "version": "3.7.4"
  }
 },
 "nbformat": 4,
 "nbformat_minor": 2
}
