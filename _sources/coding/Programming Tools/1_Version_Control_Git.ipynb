{
 "cells": [
  {
   "cell_type": "markdown",
   "metadata": {},
   "source": [
    "(version_control_git)=\n",
    "# Version control git\n",
    "\n",
    "As a future researcher, professional or enthusiast you will find that maintaing a high standard of code is a considerable challenge. This can get even harder when multiple programmers are involved. Coding can be very rewarding, but it is also ful of pitfalls and requires a *trial-and-error* approach.  \n",
    "\n",
    "This is where **version control** comes in. It is a software which allows you to track the development of your coding project. It also enables your peers to work on different versions of the same structure. \n",
    "\n",
    "The most well known version control facility is [git](https://git-scm.com/) but there are others such as [mercurial](https://www.mercurial-scm.org/). We are goint to tacle the former. There are many platforms that allow to host git repositories, but the most well known one is [GitHub](https://github.com/). This is the one we are going to use. "
   ]
  },
  {
   "cell_type": "markdown",
   "metadata": {},
   "source": [
    "## Setting up Git\n",
    "\n",
    "If you are on macOS or most distributions of Linux, you have git already configured on your machine. \n",
    "\n",
    "For Windows, you will need to download and install [Git for Windows](https://gitforwindows.org/).\n",
    "\n",
    "We will be accessing git via the terminal (*Git Bash* on Windows)."
   ]
  },
  {
   "cell_type": "markdown",
   "metadata": {},
   "source": [
    "## My first git repo"
   ]
  },
  {
   "cell_type": "markdown",
   "metadata": {},
   "source": [
    "There are two ways of initialising a github *repo* (= repository), one can be done via terminal only. In the second option we create a repository on Github and then connect to it with the terminal. \n",
    "\n",
    "If you want to try the first option, check out [this page](https://kbroman.org/github_tutorial/pages/init.html). Otherwise follow these steps.\n",
    "\n",
    "1) Create a GitHub account [here](https://github.com/join)\n",
    "\n",
    "2) Click your profile picture in the upper right corner -> Your Repositories -> New (Green)\n",
    "\n",
    "3) Choose a name (\"MyFirstRepo\"?)\n",
    "\n",
    "4) Set to Private\n",
    "\n",
    "5) Initialise this repository with a README (used to describe the repository)\n",
    "\n",
    "6) Create Repository (Green)\n",
    "\n",
    "Now your repository is on Github, time to connect it to your local machine.\n",
    "\n",
    "1) In the repository window click Code (Green)\n",
    "\n",
    "2) Copy the given link (you might have an option to use SHH or HTTPS - the latter will be simpler for now)\n",
    "\n",
    "3) Now go to the terminal\n",
    "\n",
    "4) Type  ```git clone LINKYOUCOPIED``` e.g  ```git clone https://github.com/funnyaccount/MyFirstRepoTutorial``` and hit enter. You might be asked for your GitHub  credentials.\n",
    "\n",
    "Congratulations, your repo is on your machine!"
   ]
  },
  {
   "cell_type": "markdown",
   "metadata": {},
   "source": [
    "## Playing with MyFirstRepo\n",
    "\n",
    "\n"
   ]
  }
 ],
 "metadata": {
  "kernelspec": {
   "display_name": "Python 3",
   "language": "python",
   "name": "python3"
  },
  "language_info": {
   "codemirror_mode": {
    "name": "ipython",
    "version": 3
   },
   "file_extension": ".py",
   "mimetype": "text/x-python",
   "name": "python",
   "nbconvert_exporter": "python",
   "pygments_lexer": "ipython3",
   "version": "3.7.4"
  }
 },
 "nbformat": 4,
 "nbformat_minor": 2
}
