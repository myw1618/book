{
 "cells": [
  {
   "cell_type": "markdown",
   "metadata": {},
   "source": [
    "# Nested lists\n",
    "Lists can contain elements which are also lists."
   ]
  },
  {
   "cell_type": "code",
   "execution_count": 1,
   "metadata": {},
   "outputs": [
    {
     "name": "stdout",
     "output_type": "stream",
     "text": [
      "[[-20, -15, -10, -5, 0, 5, 10, 15, 20, 25, 30, 35, 40, 45], [100, 102, 104, 106, 108, 110, 112, 114, 116, 118, 120, 122, 124, 126, 128]]\n",
      "[-20, -15, -10, -5, 0, 5, 10, 15, 20, 25, 30, 35, 40, 45]\n",
      "[100, 102, 104, 106, 108, 110, 112, 114, 116, 118, 120, 122, 124, 126, 128]\n",
      "-15\n"
     ]
    }
   ],
   "source": [
    "list1 = list(range(-20, 50, 5))\n",
    "list2 = list(range(100, 130, 2))\n",
    "\n",
    "list3 = [list1, list2]\n",
    "\n",
    "print(list3)       # Print new list\n",
    "print(list3[0])    # Print list1\n",
    "print(list3[1])    # Print list2\n",
    "print(list3[0][1]) # Print second element in first list"
   ]
  },
  {
   "cell_type": "markdown",
   "metadata": {},
   "source": [
    "Above, we created a table with rows. Using _zip()_ function we can loop through two or more lists at the same time. With that we can create a table with columns:"
   ]
  },
  {
   "cell_type": "code",
   "execution_count": 2,
   "metadata": {},
   "outputs": [
    {
     "name": "stdout",
     "output_type": "stream",
     "text": [
      "[[-20, 100], [-15, 102], [-10, 104], [-5, 106], [0, 108], [5, 110], [10, 112], [15, 114], [20, 116], [25, 118], [30, 120], [35, 122], [40, 124], [45, 126]]\n",
      "[[-20, 100], [-15, 102], [-10, 104], [-5, 106], [0, 108], [5, 110], [10, 112], [15, 114], [20, 116], [25, 118], [30, 120], [35, 122], [40, 124], [45, 126]]\n"
     ]
    }
   ],
   "source": [
    "list4 = []\n",
    "\n",
    "for i, j in zip(list1, list2):\n",
    "    row = [i, j]\n",
    "    list4. append(row)\n",
    "    \n",
    "print(list4)\n",
    "\n",
    "# This can be also done with list comprehension\n",
    "\n",
    "list5 = [[i, j] for i, j in zip(list1, list2)]\n",
    "print(list5)"
   ]
  }
 ],
 "metadata": {
  "kernelspec": {
   "display_name": "Python 3",
   "language": "python",
   "name": "python3"
  },
  "language_info": {
   "codemirror_mode": {
    "name": "ipython",
    "version": 3
   },
   "file_extension": ".py",
   "mimetype": "text/x-python",
   "name": "python",
   "nbconvert_exporter": "python",
   "pygments_lexer": "ipython3",
   "version": "3.7.3"
  }
 },
 "nbformat": 4,
 "nbformat_minor": 2
}
