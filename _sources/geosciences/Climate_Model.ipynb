{
 "cells": [
  {
   "cell_type": "code",
   "execution_count": 1,
   "metadata": {},
   "outputs": [],
   "source": [
    "#import relevant modules\n",
    "\n",
    "%matplotlib inline\n",
    "import numpy as np\n",
    "import matplotlib.pyplot as plt"
   ]
  },
  {
   "cell_type": "markdown",
   "metadata": {},
   "source": [
    "# Constructing an energy balance model \n",
    "\n",
    "\n",
    "The <b>energy flux density at the surface of the Earth</b> can be calculated from the inverse square law, given the power of the Sun $3.86$x$10^{26}W$ ($E_S$), and the distance between the Sun and the Earth $1.5$x$10^{11}m$ ($R$): \n",
    "\n",
    "$$S_o=\\frac{E_S}{4\\pi R^{2}}$$\n",
    "\n",
    "This is the <b>solar constant $S_o$</b>, which is roughly 1365 $Wm^{-2}$.\n",
    "\n",
    "Energy balance model is crucial in building a climate model, since atmospheric dynamics are driven by the input of energy into the climate system. \n",
    "\n",
    "Let's first make several <b>assumptions</b> about the Earth:\n",
    "1. It is a perfect blackbody\n",
    "2. Its albedo is 0.3, which is the average terrestrial albedo\n",
    "3. It is in radiative equilibrium i.e. energy in = energy out\n",
    "4. Equal solar irradiation on the surface of the Earth\n",
    "\n",
    "Recall that albedo (α) is the <b>reflectance of an object over all wavelengths</b>, which measures how well a surface reflects EM radiation. \n",
    "\n",
    "We already know the energy flux density at the surface of the Earth = the solar constant $S_o$.\n",
    "\n",
    "Thus, the energy flux density ($Wm^{-2}$) into the Earth is:\n",
    "\n",
    "$$M_{in}=S_o(1-α)$$ \n",
    "\n",
    "In terms of total energy flux ($W$):\n",
    "\n",
    "$$E_{in}=S_o\\pi R_E^2(1-α)$$\n",
    "\n",
    "where $R_E$ is the radius of the Earth.\n",
    "\n",
    "The energy flux density emitted is described by Stefan-Boltzmann Law:\n",
    "\n",
    "$$M_{out}=σ𝑇_K^{4}$$\n",
    "\n",
    "where σ=<b>Stefan-Boltzmann constant</b>=$5.67$x$10^{-8}Wm^{-2}K^{-4}$, and $T_K$ is <b>absolute temperature</b>. \n",
    "\n",
    "In terms of total energy flux:\n",
    "\n",
    "$$E_{out}=4\\pi R_E^2σ𝑇_K^{4}$$\n",
    "\n",
    "At <b>radiative equilibrium</b>, energy absorbed = energy emitted, thus:\n",
    "\n",
    "$$E_{in}=E_{out}$$\n",
    "\n",
    "$$S_o\\pi R_E^2(1-α)=4\\pi R_E^{2}σ𝑇_K^{4}$$\n",
    "\n",
    "$$\\frac{1}{4}S_o(1-α)=σ𝑇_K^{4}$$ \n",
    "\n",
    "Recall $σ𝑇_K^{4}=M_{out}$, thus $\\frac{1}{4}S_o(1-α)=M_{in}$ at radiative equilibrium.\n",
    "\n",
    "Rearranging for $T_K$:\n",
    "\n",
    "$$T_K=(\\frac{S_o(1-α)}{4σ})^{\\frac{1}{4}}$$\n",
    "\n",
    "Substituting albedo=0.3, temperature on the surface of the Earth is <b>-18˚C</b>."
   ]
  },
  {
   "cell_type": "code",
   "execution_count": 2,
   "metadata": {},
   "outputs": [
    {
     "name": "stdout",
     "output_type": "stream",
     "text": [
      "When albedo = 0.3, surface temperature on Earth would be -18˚C.\n"
     ]
    }
   ],
   "source": [
    "# define a function to calculate temperature in degrees Celsius for a given albedo\n",
    "# al = albedo, s = stefan-boltzmann constant, S_o = solar constant\n",
    "def find_temp(al, S_o=1365, s=5.67e-8):\n",
    "    return ((S_o*(1-al))/(4*s))**0.25-273\n",
    "\n",
    "print(\"When albedo = %.1f, surface temperature on Earth would be %.d˚C.\" % (0.3, find_temp(0.3)))"
   ]
  },
  {
   "cell_type": "markdown",
   "metadata": {},
   "source": [
    "But the average temperature on Earth should be around <b>14˚C</b>, so something in the model must be wrong.\n",
    "\n",
    "Actually, some of the assumptions are not valid and are too simple.\n",
    "\n",
    "#### Assumption 1 \n",
    "\n",
    "The Earth is not a perfect blackbody, because it doesn't radiate perfectly.\n",
    "\n",
    "#### Assumption 2 \n",
    "\n",
    "Albedo = 0.3 is actually pretty accurate. As you'll see below, after accounting for the Earth being an imperfect blackbody, the surface temperature calculated is very sensible.\n",
    "\n",
    "#### Assumption 3\n",
    "\n",
    "Equilibrium is easily disturbed, especially by <b>positive feedbacks</b>.\n",
    "\n",
    "#### Assumption 4 \n",
    "\n",
    "The Earth is a sphere, so heat absorbtion (and heat emission) is not uniform."
   ]
  },
  {
   "cell_type": "markdown",
   "metadata": {},
   "source": [
    "## Emissivity\n",
    "\n",
    "To improve the model and address assumption 1, <b>emissivity ε</b> is introduced to describe the <b>difference in the range of radiation emitted between the object and an ideal black body</b>.\n",
    "\n",
    "Including this 'fudge factor', Stefan-Boltzmann Law becomes:\n",
    "\n",
    "$$M_{out}=εσT_K^{4}$$\n",
    "\n",
    "Since $M_{in}=M_{out}$,\n",
    "\n",
    "$$\\frac{1}{4}S_o(1-α)=εσT_K^{4}$$\n",
    "\n",
    "$$T_K=(\\frac{S_o(1-α)}{4εσ})^{\\frac{1}{4}}$$\n",
    "\n",
    "It is found that the emissivity of the Earth is 0.62, and substituting this into the equation gives 14˚C, proving that albedo=0.3 is a valid assumption."
   ]
  },
  {
   "cell_type": "code",
   "execution_count": 4,
   "metadata": {},
   "outputs": [
    {
     "name": "stdout",
     "output_type": "stream",
     "text": [
      "Including emissivity, with albedo of 0.3, temperature on Earth would be 14˚C.\n"
     ]
    },
    {
     "data": {
      "image/png": "[encoded data removed]",
      "text/plain": [
       "<Figure size 576x432 with 1 Axes>"
      ]
     },
     "metadata": {
      "needs_background": "light"
     },
     "output_type": "display_data"
    }
   ],
   "source": [
    "# define a function to find the temperature with a given emissivity\n",
    "# e = emissivity\n",
    "\n",
    "def find_new_temp(al, S_o=1365, e=0.62, s=5.67e-8):\n",
    "    return ((S_o*(1-al))/(4*e*s))**0.25-273\n",
    "\n",
    "print(\"Including emissivity, with albedo of 0.3, temperature on Earth would be %.d˚C.\" % (find_new_temp(0.3)))\n",
    "\n",
    "# make an array of values of albedo between 0 and 1\n",
    "albedo = np.array([0.01*i for i in range(101)])\n",
    "\n",
    "#calculate temperature with different albedo\n",
    "new_temp = find_new_temp(albedo)\n",
    "\n",
    "# plot figure\n",
    "plt.figure(figsize=(8,6))\n",
    "plt.plot(albedo, new_temp, 'b')\n",
    "plt.plot(albedo[29], new_temp[29], 'ro', label='albedo=%.1f' % (albedo[29])) \n",
    "plt.xlabel('Albedo')\n",
    "plt.ylabel('Temperature (Degrees Celsius)')\n",
    "plt.title('A plot of temperature vs emissivity when emissivity=0.62', fontsize=14)\n",
    "plt.legend(loc='best', fontsize=10)\n",
    "plt.grid(True)\n",
    "plt.show()"
   ]
  },
  {
   "cell_type": "markdown",
   "metadata": {},
   "source": [
    "## Conclusion\n",
    "\n",
    "This model is still very crude, since plenty of things are still not taken into account, such as greenhouse effect, clouds, position of continents, vegetation, positive and negative feedbacks, etc. \n",
    "\n",
    "In a real climate model, other factors also have to be included such as atmospheric dynamics, climate variability like ENSO, human influence, etc.\n",
    "\n",
    "However, this example shows how scientists build climate models by using equations from physics, making approximations and assumptions, including parameters to account for any variability, and adjusting the values of parameters so that it resembles the real world when it is run.\n",
    "\n",
    "For more information about how other factors are accounted for in a model, including greenhouse effect and positive feedbacks, you can visit the __[New York University Maths Department website](https://math.nyu.edu/faculty/kleeman/zero_dim_ebm.html)__."
   ]
  },
  {
   "cell_type": "markdown",
   "metadata": {},
   "source": [
    "### References\n",
    "\n",
    "- Practical 1 of the Climate module"
   ]
  }
 ],
 "metadata": {
  "kernelspec": {
   "display_name": "Python 3",
   "language": "python",
   "name": "python3"
  },
  "language_info": {
   "codemirror_mode": {
    "name": "ipython",
    "version": 3
   },
   "file_extension": ".py",
   "mimetype": "text/x-python",
   "name": "python",
   "nbconvert_exporter": "python",
   "pygments_lexer": "ipython3",
   "version": "3.7.6"
  }
 },
 "nbformat": 4,
 "nbformat_minor": 4
}
