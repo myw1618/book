{
 "cells": [
  {
   "cell_type": "markdown",
   "metadata": {},
   "source": [
    "# Google Earth Engine\n",
    "\n",
    "This notebooks aims to walk you through and clarify some of the basic concept of using the Google Earth engine by building upon our script step by step. Majority of this content has been borrowed from a [github repository]() containing over 360+ Jupyter Python notebooks examples to demonstrate the [Google Earth Engine guide](https://developers.google.com/earth-engine) in python notebooks."
   ]
  },
  {
   "cell_type": "markdown",
   "metadata": {},
   "source": [
    "## Setting Up Your Notebook"
   ]
  },
  {
   "cell_type": "code",
   "execution_count": 1,
   "metadata": {},
   "outputs": [],
   "source": [
    "# Installs geemap package\n",
    "import subprocess\n",
    "\n",
    "try:\n",
    "    import geemap\n",
    "except ImportError:\n",
    "    print('geemap package not installed. Installing ...')\n",
    "    subprocess.check_call([\"python\", '-m', 'pip', 'install', 'geemap'])\n",
    "\n",
    "# Checks whether this notebook is running on Google Colab\n",
    "try:\n",
    "    import google.colab\n",
    "    import geemap.eefolium as geemap\n",
    "except:\n",
    "    import geemap\n",
    "\n",
    "# Authenticates and initializes Earth Engine\n",
    "import ee\n",
    "\n",
    "try:\n",
    "    ee.Initialize()\n",
    "except Exception as e:\n",
    "    ee.Authenticate()\n",
    "    ee.Initialize()"
   ]
  },
  {
   "cell_type": "code",
   "execution_count": 4,
   "metadata": {},
   "outputs": [
    {
     "data": {
      "application/vnd.jupyter.widget-view+json": {
       "model_id": "6cf0352e879d4d74886486c1a060aeb1",
       "version_major": 2,
       "version_minor": 0
      },
      "text/plain": [
       "Map(center=[40, -100], controls=(WidgetControl(options=['position'], widget=HBox(children=(ToggleButton(value=…"
      ]
     },
     "metadata": {},
     "output_type": "display_data"
    }
   ],
   "source": [
    "#set map\n",
    "Map = geemap.Map(center=[40,-100], zoom=4)\n",
    "#Set a basemap, standard is google maps\n",
    "Map.add_basemap('SATELLITE')\n",
    "Map"
   ]
  },
  {
   "cell_type": "markdown",
   "metadata": {},
   "source": [
    "## Display An Image"
   ]
  },
  {
   "cell_type": "code",
   "execution_count": null,
   "metadata": {},
   "outputs": [],
   "source": [
    "# Load an image.\n",
    "image = ee.Image('LANDSAT/LC08/C01/T1/LC08_044034_20140318')\n",
    "\n",
    "# Display the image.\n",
    "Map.addLayer(image, {}, 'Landsat 8 original image')\n",
    "Map.centerObject(image, 7)\n",
    "#show Map\n",
    "Map"
   ]
  },
  {
   "cell_type": "markdown",
   "metadata": {},
   "source": [
    "<img src=\"UROP/GEE_Foundations/1.png\" style=\"100%;\"/>"
   ]
  },
  {
   "cell_type": "markdown",
   "metadata": {},
   "source": [
    "## Visualise Specific Bands\n",
    "Remember multiple bands are displayed as RGB to our eyes."
   ]
  },
  {
   "cell_type": "code",
   "execution_count": null,
   "metadata": {},
   "outputs": [],
   "source": [
    "# Define visualization parameters in an object literal.\n",
    "vizParams = {'bands': ['B5', 'B4', 'B3'],\n",
    "            'min': 5000, 'max': 15000, 'gamma': 1.3}\n",
    "\n",
    "# Center the map on the image and display.\n",
    "Map.centerObject(image, 7)\n",
    "Map.addLayer(image, vizParams, 'Landsat 8 False color')\n",
    "Map"
   ]
  },
  {
   "cell_type": "markdown",
   "metadata": {},
   "source": [
    "<img src=\"UROP/GEE_Foundations/2.png\" style=\"100%;\"/>"
   ]
  },
  {
   "cell_type": "markdown",
   "metadata": {},
   "source": [
    "## Find An Image\n",
    "it is highly recommended to first look at the [Google Earth Engine database](https://developers.google.com/earth-engine/datasets) before starting to filter for an image in your script. Each dataset on the website also has a few lines of code showing how to access it."
   ]
  },
  {
   "cell_type": "code",
   "execution_count": null,
   "metadata": {},
   "outputs": [],
   "source": [
    "#set location, easy to find on google maps\n",
    "point = ee.Geometry.Point(-122.262, 37.8719)\n",
    "\n",
    "#set filter criteria\n",
    "filteredCollection = ee.ImageCollection('LANDSAT/LC08/C01/T1') \\\n",
    "    .filterBounds(point) \\\n",
    "    .filterDate('2014-06-01','2014-10-01') \\\n",
    "    .sort('CLOUD_COVER', True)   #sort by cloudcover\n",
    "\n",
    "#see how many images in collection\n",
    "print(filteredCollection.size().getInfo())\n",
    "\n",
    "#take 1st image from collection, least cloudy one\n",
    "first = filteredCollection.first()\n",
    "\n",
    "# Define visualization parameters in an object literal.\n",
    "vizParams = {'bands': ['B5', 'B4', 'B3'],\n",
    "             'min': 5000, 'max': 15000, 'gamma': 1.3}\n",
    "\n",
    "# Center the map on the image and display.\n",
    "Map.centerObject(point, 9)\n",
    "Map.addLayer(first, vizParams, 'Landsat 8 image')\n",
    "Map"
   ]
  },
  {
   "cell_type": "markdown",
   "metadata": {},
   "source": [
    "# Band Maths\n",
    "There are many more functions than the below which can be applied, they are found in the linked manuals. but here is a demonstration on how they work. "
   ]
  },
  {
   "cell_type": "code",
   "execution_count": null,
   "metadata": {},
   "outputs": [],
   "source": [
    "# find image\n",
    "point = ee.Geometry.Point(-122.262, 37.8719)\n",
    "\n",
    "filteredCollection = ee.ImageCollection('LANDSAT/LC08/C01/T1') \\\n",
    "    .filterBounds(point) \\\n",
    "    .filterDate('2014-06-01','2014-10-01') \\\n",
    "    .sort('CLOUD_COVER', True)   #sort by cloudcover\n",
    "\n",
    "#take 1st image from collection, least cloudy one\n",
    "first = filteredCollection.first()\n",
    "\n",
    "#define function to be applied to image\n",
    "def getNDWI(image):    # (B5 - B3)/(B5+B3)\n",
    "    return image.normalizedDifference(['B5', 'B3'])\n",
    "#apply function to image\n",
    "ndwi1 = getNDWI(first)\n",
    "\n",
    "# Define visualization parameters in an object literal.\n",
    "ndwiParams = {'min': -0.5, 'max': 0.5, 'palette': ['FF0000', 'FFFFFF', '0000FF']}\n",
    "\n",
    "# Center the map on the image and display.\n",
    "Map.centerObject(point, 9)\n",
    "Map.addLayer(ndwi1, ndwiParams, 'NDVI 1')\n",
    "Map"
   ]
  },
  {
   "cell_type": "markdown",
   "metadata": {},
   "source": [
    "<img src=\"UROP/GEE_Foundations/4.png\" style=\"100%;\"/>"
   ]
  },
  {
   "cell_type": "markdown",
   "metadata": {},
   "source": [
    "## Apply Band Math To An Image Collection"
   ]
  },
  {
   "cell_type": "code",
   "execution_count": 2,
   "metadata": {},
   "outputs": [
    {
     "name": "stdout",
     "output_type": "stream",
     "text": [
      "['B1', 'B2', 'B3', 'B4', 'B5', 'B6', 'B7', 'B8', 'B9', 'B10', 'B11', 'BQA']\n",
      "['B1', 'B2', 'B3', 'B4', 'B5', 'B6', 'B7', 'B8', 'B9', 'B10', 'B11', 'BQA', 'nd']\n"
     ]
    }
   ],
   "source": [
    "# Add Earth Engine dataset\n",
    "point = ee.Geometry.Point(-122.262, 37.8719)\n",
    "\n",
    "filteredCollection = ee.ImageCollection('LANDSAT/LC08/C01/T1') \\\n",
    "    .filterBounds(point) \\\n",
    "    .filterDate('2014-06-01','2014-10-01') \\\n",
    "    .sort('CLOUD_COVER', True)   #sort by cloudcover\n",
    "\n",
    "#visualise bands available for images in collection\n",
    "#Landsat 8 expected 11 bands\n",
    "bandNames = filteredCollection.first().bandNames()\n",
    "print(bandNames.getInfo())\n",
    "\n",
    "#carry out function and add output as an extra band\n",
    "def addNDVI(image):\n",
    "    return image.addBands(image.normalizedDifference(['B5', 'B3']))\n",
    "\n",
    "# Map the function over the collection.\n",
    "ndviCollection = filteredCollection.map(addNDVI)\n",
    "# you can see we created a new band containing our function above\n",
    "first = ndviCollection.first()\n",
    "bandNames = first.bandNames()\n",
    "print(bandNames.getInfo())"
   ]
  },
  {
   "cell_type": "markdown",
   "metadata": {},
   "source": [
    "## Reducing\n",
    "this average images to enhance common information and reduce noise like cloud cover"
   ]
  },
  {
   "cell_type": "code",
   "execution_count": null,
   "metadata": {},
   "outputs": [],
   "source": [
    "# Add Earth Engine dataset\n",
    "collection = ee.ImageCollection('LANDSAT/LC08/C01/T1') \\\n",
    "    .filterBounds(ee.Geometry.Point(-122.262, 37.8719)) \\\n",
    "    .filterDate('2014-01-01', '2014-12-31') \\\n",
    "    .sort('CLOUD_COVER')\n",
    "\n",
    "# Compute the median of each pixel for each band of the 5 least cloudy scenes.\n",
    "median = collection.limit(5).reduce(ee.Reducer.median())\n",
    "\n",
    "# Define visualization parameters in an object literal.\n",
    "vizParams = {'bands': ['B5_median', 'B4_median', 'B3_median'],\n",
    "             'min': 5000, 'max': 15000, 'gamma': 1.3}\n",
    "# display image\n",
    "Map.setCenter(-122.262, 37.8719, 10)\n",
    "Map.addLayer(median, vizParams, 'Median image')\n",
    "Map"
   ]
  },
  {
   "cell_type": "markdown",
   "metadata": {},
   "source": [
    "<img src=\"UROP/GEE_Foundations/5.png\" style=\"100%;\"/>"
   ]
  },
  {
   "cell_type": "markdown",
   "metadata": {},
   "source": [
    "## Obtain Image Statistics"
   ]
  },
  {
   "cell_type": "code",
   "execution_count": 5,
   "metadata": {},
   "outputs": [
    {
     "name": "stdout",
     "output_type": "stream",
     "text": [
      "{'B1': 0.10156726419256697, 'B10': 288.3898316688731, 'B11': 287.4496961587173, 'B2': 0.07771978773589312, 'B3': 0.05530074222374056, 'B4': 0.03670883505442356, 'B5': 0.22139764553479283, 'B6': 0.07888235294207073, 'B7': 0.035089536963059234, 'B8': 0.047100656968120116, 'B9': 0.00156092084691453, 'BQA': 2720.11945357173}\n"
     ]
    }
   ],
   "source": [
    "# Add Earth Engine dataset\n",
    "image = ee.Image('LANDSAT/LC08/C01/T1_TOA/LC08_044034_20140318')\n",
    "Map.addLayer(image, {'bands': ['B4', 'B3', 'B2'], 'max': 0.3}, 'Landsat 8')\n",
    "\n",
    "# Create an arbitrary rectangle as a region and display it.\n",
    "region = ee.Geometry.Rectangle(-122.2806, 37.1209, -122.0554, 37.2413)\n",
    "Map.centerObject(ee.FeatureCollection(region), 9)\n",
    "Map.addLayer(ee.Image().paint(region, 0, 2), {}, 'Region')\n",
    "\n",
    "# Get a dictionary of means in the region. Keys are bandnames.\n",
    "mean = image.reduceRegion(**{\n",
    "  'reducer': ee.Reducer.mean(),\n",
    "  'geometry': region,\n",
    "  'scale': 30\n",
    "})\n",
    "\n",
    "print(mean.getInfo())\n",
    "Map"
   ]
  },
  {
   "cell_type": "markdown",
   "metadata": {},
   "source": [
    "<img src=\"UROP/GEE_Foundations/6.png\" style=\"100%;\"/>"
   ]
  },
  {
   "cell_type": "markdown",
   "metadata": {},
   "source": [
    "## Using Masks\n",
    "The mask in the example below avoids us from including the water bodies in our data, this way we have a wider range of our colour palette available to show changes on land."
   ]
  },
  {
   "cell_type": "code",
   "execution_count": null,
   "metadata": {},
   "outputs": [],
   "source": [
    "# Load two Landsat 5 images, 20 years apart.\n",
    "image1 = ee.Image('LANDSAT/LT05/C01/T1_TOA/LT05_044034_19900604')\n",
    "image2 = ee.Image('LANDSAT/LT05/C01/T1_TOA/LT05_044034_20100611')\n",
    "\n",
    "\n",
    "# This function gets NDVI from Landsat 5 imagery.\n",
    "def getNDVI(image):\n",
    "    return image.normalizedDifference(['B4', 'B3'])\n",
    "\n",
    "# Compute NDVI from the scenes.\n",
    "ndvi1 = getNDVI(image1)\n",
    "ndvi2 = getNDVI(image2)\n",
    "\n",
    "# Compute the difference in NDVI.\n",
    "ndviDifference = ndvi2.subtract(ndvi1)\n",
    "\n",
    "# Load the land mask from the SRTM DEM.\n",
    "landMask = ee.Image('CGIAR/SRTM90_V4').mask()\n",
    "\n",
    "# Update the NDVI difference mask with the mask\n",
    "maskedDifference = ndviDifference.updateMask(landMask)\n",
    "\n",
    "# Display the masked result.\n",
    "vizParams = {'min': -0.5, 'max': 0.5,\n",
    "             'palette': ['FF0000', 'FFFFFF', '0000FF']}\n",
    "Map.setCenter(-122.2531, 37.6295, 9)\n",
    "Map.addLayer(maskedDifference, vizParams, 'NDVI difference')\n",
    "Map"
   ]
  },
  {
   "cell_type": "markdown",
   "metadata": {},
   "source": [
    "<img src=\"UROP/GEE_Foundations/7.png\" style=\"100%;\"/>"
   ]
  },
  {
   "cell_type": "markdown",
   "metadata": {},
   "source": [
    "## Inbuild CloudScore Function"
   ]
  },
  {
   "cell_type": "code",
   "execution_count": null,
   "metadata": {},
   "outputs": [],
   "source": [
    "## mask clouds\n",
    "def cloudMask(img):\n",
    "    cloudscore = ee.Algorithms.Landsat.simpleCloudScore(img).select('cloud')\n",
    "    return img.updateMask(cloudscore.lt(50))\n",
    "\n",
    "# Add Earth Engine dataset\n",
    "collection = ee.ImageCollection('LANDSAT/LC8_L1T_TOA') \\\n",
    "                .filterDate('2014-12-10', '2016-12-31') \\\n",
    "                .filterBounds(ee.Geometry.Point(-122.262, 37.8719)) \\\n",
    "                .map(cloudMask) #hash in front to see difference\n",
    "\n",
    "print(collection.size().getInfo())\n",
    "\n",
    "#average images in collection\n",
    "median = collection.median()\n",
    "#display image\n",
    "Map.setCenter(-122.262, 37.8719, 9)\n",
    "vis = {'bands': ['B5', 'B4', 'B3'], 'max': 0.3}\n",
    "Map.addLayer(median,vis)\n",
    "Map"
   ]
  },
  {
   "cell_type": "markdown",
   "metadata": {},
   "source": [
    "With CloudMask function:\n",
    "<img src=\"UROP/GEE_Foundations/8.png\" style=\"50%\"/>\n",
    "Without CloudMask function:\n",
    "<img src=\"UROP/GEE_Foundations/9.png\" style=\"50%\"/>"
   ]
  },
  {
   "cell_type": "code",
   "execution_count": null,
   "metadata": {},
   "outputs": [],
   "source": []
  }
 ],
 "metadata": {
  "kernelspec": {
   "display_name": "Python 3",
   "language": "python",
   "name": "python3"
  },
  "language_info": {
   "codemirror_mode": {
    "name": "ipython",
    "version": 3
   },
   "file_extension": ".py",
   "mimetype": "text/x-python",
   "name": "python",
   "nbconvert_exporter": "python",
   "pygments_lexer": "ipython3",
   "version": "3.7.3"
  }
 },
 "nbformat": 4,
 "nbformat_minor": 2
}
