{
 "cells": [
  {
   "cell_type": "markdown",
   "metadata": {},
   "source": [
    "# Printing and formatting statements\n",
    "## General\n",
    "### Printing text\n",
    "A line of code in Python is a _statement_:\n",
    "\n",
    "    print(\"Hellow world!\")\n",
    "    \n",
    "_print_ is a function in Python that takes an argument in brackets () and prints it out to the terminal."
   ]
  },
  {
   "cell_type": "code",
   "execution_count": 1,
   "metadata": {},
   "outputs": [
    {
     "name": "stdout",
     "output_type": "stream",
     "text": [
      "Hello world!\n"
     ]
    }
   ],
   "source": [
    "print(\"Hello world!\")"
   ]
  },
  {
   "cell_type": "markdown",
   "metadata": {},
   "source": [
    "_print_ function can also print multiple lines, using '\\n' as a line separator in your text. Notice that you do not need to add spaces around '\\n' in the text:"
   ]
  },
  {
   "cell_type": "code",
   "execution_count": 2,
   "metadata": {},
   "outputs": [
    {
     "name": "stdout",
     "output_type": "stream",
     "text": [
      "Hello world!\n",
      "This is my first code.\n",
      "I love coding.\n"
     ]
    }
   ],
   "source": [
    "print(\"Hello world!\\nThis is my first code.\\nI love coding.\")"
   ]
  },
  {
   "cell_type": "markdown",
   "metadata": {},
   "source": [
    "Multiple lines can be also achieved by triple apostrophe \"\"\"text\"\"\":"
   ]
  },
  {
   "cell_type": "code",
   "execution_count": 3,
   "metadata": {},
   "outputs": [
    {
     "name": "stdout",
     "output_type": "stream",
     "text": [
      "Hellow world! \n",
      "This is my first code.\n",
      "    I love coding.\n"
     ]
    }
   ],
   "source": [
    "print(\"\"\"Hellow world! \n",
    "This is my first code.\n",
    "    I love coding.\"\"\") # This # is a comment that has no effect on code\n",
    "\n",
    "# Note how added spaces in the last line are reflected in the printed statement"
   ]
  },
  {
   "cell_type": "markdown",
   "metadata": {},
   "source": [
    "### Printing numbers\n",
    "Apart from words, _print_ function can also take numbers and do some calculations:"
   ]
  },
  {
   "cell_type": "code",
   "execution_count": 4,
   "metadata": {},
   "outputs": [
    {
     "name": "stdout",
     "output_type": "stream",
     "text": [
      "10\n",
      "10\n",
      "12\n",
      "51.5\n",
      "1000\n",
      "26.0\n",
      "106.0\n"
     ]
    }
   ],
   "source": [
    "print(\"10\")     # Print text '10'\n",
    "print(10)       # Print number 10\n",
    "print(10+5-3)   # Calculate 10+5-3\n",
    "print(10*5+3/2) # Multiply wiht *, divide with /\n",
    "print(10**3)    # To take powers, use **, here 10 to de power of 3\n",
    "\n",
    "# Finally more difficult calculation, brackets matter in order of calculation!!\n",
    "\n",
    "print(5.0*0.6+(100.0+15)/5.0) # With brackets\n",
    "print(5.0*0.6+100.0+15/5.0)   # Without brackets"
   ]
  },
  {
   "cell_type": "markdown",
   "metadata": {},
   "source": [
    "## Formatted printing\n",
    "\n",
    "Sometimes we want to insert certain texts or numbers into _print_ statemtens.\n",
    "\n",
    "Inserting:\n",
    "* use '%s' in the statement where you want to insert text\n",
    "* use '%g' in the statement where you want to insert numbers, Python decides here how many significant figures are needed\n",
    "* use '%.xf', where x is a number of significant figures you want displayed for your number\n",
    "\n",
    "The syntax (coding rules) for inserting numbers/text into _print_ statement is:\n",
    "\n",
    "    print(\"Text %s text text text\" % (\"text\"))\n",
    "    \n",
    "An example below:"
   ]
  },
  {
   "cell_type": "code",
   "execution_count": 5,
   "metadata": {},
   "outputs": [
    {
     "name": "stdout",
     "output_type": "stream",
     "text": [
      "My name is <insert your name> and I am 18 years old.\n",
      "I am 1.63 m tall.\n"
     ]
    }
   ],
   "source": [
    "# Print your name and age inserted into text\n",
    "\n",
    "print(\"My name is %s and I am %g years old.\" % (\"<insert your name>\", 18))\n",
    "\n",
    "# Work out your height in meters, provided you are 5 ft 4 in and insert into text\n",
    "# 1 foot = 0.3048\n",
    "# 1 inch = 0.0254\n",
    "\n",
    "print(\"I am %.2f m tall.\" % (5*0.3048+4*0.0254))"
   ]
  }
 ],
 "metadata": {
  "kernelspec": {
   "display_name": "Python 3",
   "language": "python",
   "name": "python3"
  },
  "language_info": {
   "codemirror_mode": {
    "name": "ipython",
    "version": 3
   },
   "file_extension": ".py",
   "mimetype": "text/x-python",
   "name": "python",
   "nbconvert_exporter": "python",
   "pygments_lexer": "ipython3",
   "version": "3.7.3"
  }
 },
 "nbformat": 4,
 "nbformat_minor": 2
}
